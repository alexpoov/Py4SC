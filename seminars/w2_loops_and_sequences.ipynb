{
 "cells": [
  {
   "cell_type": "markdown",
   "metadata": {},
   "source": [
    "## Week 2. Loops and Sequences"
   ]
  },
  {
   "cell_type": "markdown",
   "metadata": {},
   "source": [
    "### Sequences - Tuples and Lists\n",
    "* to initialise list objects (empty and with initial elements)\n",
    "* to iterate list objects and manipulate the objects contained in a list\n",
    "* to manipulate list objects (list operators, indexing and slice operators, list operations)"
   ]
  },
  {
   "cell_type": "markdown",
   "metadata": {},
   "source": [
    "How to store all the variables we've learnt to operate with them simultaneously? Python has 4 built-in data types used to store collections of data:\n",
    "* `list`\n",
    "* `tuple`\n",
    "* `set`\n",
    "* `dict` (from 'dictionary')"
   ]
  },
  {
   "cell_type": "markdown",
   "metadata": {},
   "source": [
    "There are also 4 parameters you need to bear in mind:\n",
    "* `mutability` = changeability, so we can change elements inside this object.\n",
    "* `ordered` literally means there is some order in structure. for this purpose `indexes` are used (later on this sem)\n",
    "* some objects allow `duplicated items`, others not."
   ]
  },
  {
   "cell_type": "markdown",
   "metadata": {},
   "source": [
    "#### Tuples \n",
    "There is a first one - **tuple**, a collection of values."
   ]
  },
  {
   "cell_type": "code",
   "execution_count": null,
   "metadata": {},
   "outputs": [],
   "source": [
    "heights = (175, 178, 182, 186, 195)\n",
    "print(heights, type(heights))"
   ]
  },
  {
   "cell_type": "markdown",
   "metadata": {},
   "source": [
    "Tuple can contain values of different types altogether."
   ]
  },
  {
   "cell_type": "code",
   "execution_count": null,
   "metadata": {},
   "outputs": [],
   "source": [
    "abrakadabra = (16, 'Rakamakafo', 99.9999, False)\n",
    "print(abrakadabra)"
   ]
  },
  {
   "cell_type": "markdown",
   "metadata": {},
   "source": [
    "In russian `tuple` translates as **котреж**. "
   ]
  },
  {
   "cell_type": "markdown",
   "metadata": {},
   "source": [
    "#### Lists\n",
    "\n",
    "**Lists** are also collections of values. They can contain any type of value, even at the same time.\n"
   ]
  },
  {
   "cell_type": "code",
   "execution_count": null,
   "metadata": {},
   "outputs": [],
   "source": [
    "history_of_politics = [\"Ana\", \"Bob\", 'Charlie', 'Donny']\n",
    "print(history_of_politics, type(history_of_politics))  # print is unnecessary here "
   ]
  },
  {
   "cell_type": "markdown",
   "metadata": {},
   "source": [
    "#### Sets\n",
    "\n",
    "The third type of object we will discuss today."
   ]
  },
  {
   "cell_type": "code",
   "execution_count": null,
   "metadata": {},
   "outputs": [],
   "source": [
    "scores = {3, 5, 4, 'Good', 5, 3, 'Baad', 4, 4, 2, 4}\n",
    "print(scores, type(scores))"
   ]
  },
  {
   "cell_type": "markdown",
   "metadata": {},
   "source": [
    "Have you noticed any difference between these data types?"
   ]
  },
  {
   "cell_type": "markdown",
   "metadata": {},
   "source": [
    "#### Comparing\n",
    "So we got `tuples` that can store values, `lists`, which can store values, and `sets`, which can also store values. Why do we need three types of containers?\n"
   ]
  },
  {
   "cell_type": "markdown",
   "metadata": {},
   "source": [
    "\n",
    "Well, despite these essences have some similarities...\n",
    "* they are *iterable* (remember this word for later), meaning could be used in `for` and `while` loops\n",
    "* they are *heterogeneous*, meaning you can store any type of data there\n",
    "\n",
    "...they have key differences:\n",
    "* the `tuples` are immutable objects, while the `lists` are mutable. This means, `tuples` cannot be modified once created. `Sets` are mutable too, but they can store immutable objects only (and they cannot be replaced)\n",
    "* `lists` and `tuples` are ordered, while `sets` are not.\n",
    "* `sets` doesn't support duplicated elements."
   ]
  },
  {
   "cell_type": "code",
   "execution_count": null,
   "metadata": {},
   "outputs": [],
   "source": [
    "display(Image(filename='img/datatypes.png', embed=True))"
   ]
  },
  {
   "cell_type": "markdown",
   "metadata": {},
   "source": [
    "Look at these examples: in case of list, you can add values simply via `.append()` method. It will add one element per each line to the existing `history_of_politics` list:"
   ]
  },
  {
   "cell_type": "code",
   "execution_count": null,
   "metadata": {},
   "outputs": [],
   "source": [
    "history_of_politics = []  # creating empty list\n",
    "history_of_politics.append(\"Ana\")\n",
    "history_of_politics.append(\"Bob\")\n",
    "history_of_politics.append(\"Charlie\")\n",
    "history_of_politics.append(\"Donny\")\n",
    "print(history_of_politics)"
   ]
  },
  {
   "cell_type": "markdown",
   "metadata": {},
   "source": [
    "On the other hand are tuples. Once created, they cannot me modified. "
   ]
  },
  {
   "cell_type": "code",
   "execution_count": null,
   "metadata": {},
   "outputs": [],
   "source": [
    "tuple_a = ('a', 'b', 'c')\n",
    "tuple_a.append('d')"
   ]
  },
  {
   "cell_type": "markdown",
   "metadata": {},
   "source": [
    "To add some elements, you need to create a new tuple as the sum of existing ones:"
   ]
  },
  {
   "cell_type": "code",
   "execution_count": null,
   "metadata": {},
   "outputs": [],
   "source": [
    "tuple_b = ('d', 'e', 'f')\n",
    "tuple_c = tuple_a + tuple_b\n",
    "print(tuple_c)"
   ]
  },
  {
   "cell_type": "markdown",
   "metadata": {},
   "source": [
    "Another method of editing a tuple - transferring it to a list type of data:"
   ]
  },
  {
   "cell_type": "code",
   "execution_count": null,
   "metadata": {},
   "outputs": [],
   "source": [
    "tuple_a = list(tuple_a)  # converting to list to add elements\n",
    "tuple_a.append('d')\n",
    "tuple_a.append('e')\n",
    "tuple_a.append('f')\n",
    "tuple_a = tuple(tuple_a) # then - back to tuple. Magic!\n",
    "print(tuple_a)"
   ]
  },
  {
   "cell_type": "markdown",
   "metadata": {},
   "source": [
    "Back to lists: they also can be concatenated to each other - even to itself:"
   ]
  },
  {
   "cell_type": "code",
   "execution_count": null,
   "metadata": {},
   "outputs": [],
   "source": [
    "history_of_politics + history_of_politics"
   ]
  },
  {
   "cell_type": "markdown",
   "metadata": {},
   "source": [
    "If you need to add multiple values, you can use `.extend()` instead of `.append()`:"
   ]
  },
  {
   "cell_type": "code",
   "execution_count": null,
   "metadata": {},
   "outputs": [],
   "source": [
    "history_of_politics.extend([\"Emily\", \"Frank\", \"Ginno\"])  # what will happen if we use .append() here?\n",
    "history_of_politics "
   ]
  },
  {
   "cell_type": "markdown",
   "metadata": {},
   "source": [
    "Note that rerunning this block will add new 3 instances to your list. To reset it, call `history_of_politics = []` again. Be careful with this."
   ]
  },
  {
   "cell_type": "code",
   "execution_count": null,
   "metadata": {},
   "outputs": [],
   "source": [
    "history_of_politics = ['Ana', 'Bob', 'Charlie', 'Donny']"
   ]
  },
  {
   "cell_type": "markdown",
   "metadata": {},
   "source": [
    "#### Focus-Pocus"
   ]
  },
  {
   "cell_type": "code",
   "execution_count": null,
   "metadata": {},
   "outputs": [],
   "source": [
    "qual_research = history_of_politics\n",
    "print(qual_research)"
   ]
  },
  {
   "cell_type": "code",
   "execution_count": null,
   "metadata": {},
   "outputs": [],
   "source": [
    "qual_research.append(\"sir Elton\")\n",
    "print(qual_research)"
   ]
  },
  {
   "cell_type": "code",
   "execution_count": null,
   "metadata": {},
   "outputs": [],
   "source": [
    "print(history_of_politics)"
   ]
  },
  {
   "cell_type": "markdown",
   "metadata": {},
   "source": [
    "*What happened?*\n",
    "\n",
    "The thing is, Python doesn't create a new object while `a = b`, but creating another one reference (link) to an existing one. To create a brand new object, list for instance, we need to use `.copy()`"
   ]
  },
  {
   "cell_type": "code",
   "execution_count": null,
   "metadata": {},
   "outputs": [],
   "source": [
    "history_of_politics = ['Ana', 'Bob', 'Charlie', 'Donny']\n",
    "\n",
    "qual_research = history_of_politics.copy()\n",
    "qual_research.append(\"sir Elton\")\n",
    "print(qual_research)"
   ]
  },
  {
   "cell_type": "code",
   "execution_count": null,
   "metadata": {},
   "outputs": [],
   "source": [
    "print(history_of_politics)"
   ]
  },
  {
   "cell_type": "code",
   "execution_count": null,
   "metadata": {},
   "outputs": [],
   "source": [
    "# ex. create a list of your friends\n",
    "my_friends = ..."
   ]
  },
  {
   "cell_type": "code",
   "execution_count": null,
   "metadata": {},
   "outputs": [],
   "source": [
    "# ex. create a tuple that contains approximate heights of your friends\n",
    "tall = ..."
   ]
  },
  {
   "cell_type": "code",
   "execution_count": null,
   "metadata": {},
   "outputs": [],
   "source": [
    "# ex. add Jesus Christ to the list of your friends\n",
    "my_firends = ..."
   ]
  },
  {
   "cell_type": "code",
   "execution_count": null,
   "metadata": {},
   "outputs": [],
   "source": [
    "# ex. add his height to the tuple of heights\n",
    "tall = ...\n",
    "...\n",
    "tall"
   ]
  },
  {
   "cell_type": "code",
   "execution_count": null,
   "metadata": {},
   "outputs": [],
   "source": [
    "# ex. convert tuple of heights to a set. tell what's changed?\n",
    "tall ..."
   ]
  },
  {
   "cell_type": "markdown",
   "metadata": {},
   "source": [
    "### Indexing"
   ]
  },
  {
   "cell_type": "markdown",
   "metadata": {},
   "source": [
    "#### Indexes\n",
    "\n",
    "There is a concept of **iterable objects** in Python, meaning the object can return elements one at a time. Both `lists` and `tuples` (and even `strings`) are iterable objects, so there is some sequence of elements inside them. \n",
    "\n",
    "All objects within our list (or tuple) has no specific name, but we still can call them out with `sqaure brackets` -that is index. Note that python indexing **starts with 0**."
   ]
  },
  {
   "cell_type": "code",
   "execution_count": null,
   "metadata": {},
   "outputs": [],
   "source": [
    "history_of_politics"
   ]
  },
  {
   "cell_type": "code",
   "execution_count": null,
   "metadata": {},
   "outputs": [],
   "source": [
    "len(history_of_politics)  # length of iterable objects"
   ]
  },
  {
   "cell_type": "code",
   "execution_count": null,
   "metadata": {},
   "outputs": [],
   "source": [
    "history_of_politics[0]\n",
    "# history_of_politics[1]\n",
    "# history_of_politics[2]\n",
    "# history_of_politics[3] # to call the last element you need len-1 index"
   ]
  },
  {
   "cell_type": "code",
   "execution_count": null,
   "metadata": {},
   "outputs": [],
   "source": [
    "history_of_politics[-1]"
   ]
  },
  {
   "cell_type": "code",
   "execution_count": null,
   "metadata": {},
   "outputs": [],
   "source": [
    "history_of_politics.index('Donny')  # method to get index of certain element"
   ]
  },
  {
   "cell_type": "code",
   "execution_count": null,
   "metadata": {},
   "outputs": [],
   "source": [
    "future_greatest_basketball_player = 'Giannis Antetokounmpo'\n",
    "type(future_greatest_basketball_player)\n",
    "# len(future_greatest_basketball_player)\n",
    "# future_greatest_basketball_player[0]\n",
    "# future_greatest_basketball_player[1]\n",
    "# future_greatest_basketball_player[-1]\n",
    "# future_greatest_basketball_player[7]\n",
    "# future_greatest_basketball_player.index('A')"
   ]
  },
  {
   "cell_type": "markdown",
   "metadata": {},
   "source": [
    "Numbers are not iterable. They're just numbers."
   ]
  },
  {
   "cell_type": "code",
   "execution_count": null,
   "metadata": {},
   "outputs": [],
   "source": [
    "numer1 = 3\n",
    "numer2 = 3.1415926\n",
    "\n",
    "type(numer1)\n",
    "type(numer2)\n",
    "\n",
    "# numer1[0]\n",
    "# numer2[0]"
   ]
  },
  {
   "cell_type": "code",
   "execution_count": null,
   "metadata": {},
   "outputs": [],
   "source": [
    "# ex. print your name using letters from this sentense\n",
    "pangramm = \"the quick brown fox jumps over the lazy dog\"  # разнобуквица in english\n",
    "pangramm.index('h')\n",
    "print(pangramm[24], pangramm[36], pangramm[24], pangramm[1], pangramm[36], sep=\"\")"
   ]
  },
  {
   "cell_type": "markdown",
   "metadata": {},
   "source": [
    "As lists are *mutable*, we can not only call specific element of iterable object, but replace it:"
   ]
  },
  {
   "cell_type": "code",
   "execution_count": null,
   "metadata": {},
   "outputs": [],
   "source": [
    "history_of_politics"
   ]
  },
  {
   "cell_type": "code",
   "execution_count": null,
   "metadata": {},
   "outputs": [],
   "source": [
    "history_of_politics[1] = 'Borislav'\n",
    "history_of_politics"
   ]
  },
  {
   "cell_type": "markdown",
   "metadata": {},
   "source": [
    "If you need to replace an element in immutable object (as `tuple`), you need to repeat the operation we did previously: convert it to a mutable object (`list`), then replace, then - convert back."
   ]
  },
  {
   "cell_type": "code",
   "execution_count": null,
   "metadata": {},
   "outputs": [],
   "source": [
    "# ex. fix colors of rainbow tuple (the result should also be a tuple)\n",
    "in_rainbows = ('red', 'orange', 'yellow', 'pink', 'blue', 'indigo', 'violet')\n",
    "\n",
    "in_rainbows = ...\n",
    "...\n",
    "in_rainbows"
   ]
  },
  {
   "cell_type": "markdown",
   "metadata": {},
   "source": [
    "#### Slicing\n",
    "We can use a `column` to create a range of indexes (read it like \"from ... to ...\"). Note that the second index is not included in the range (in math notation: `[1;4)`). Don't ask me why. Just accept [this](https://stackoverflow.com/a/41530210/10803427).\n",
    "\n",
    "You can also use second column to define the step. For example:\n",
    "`imaginary_list[2:20:4]`  \n",
    "will take each 4th element from the 3rd (start including) to the 20th (21st is not included) positions of imaginary list."
   ]
  },
  {
   "cell_type": "code",
   "execution_count": null,
   "metadata": {},
   "outputs": [],
   "source": [
    "qual_research[1:4]"
   ]
  },
  {
   "cell_type": "code",
   "execution_count": null,
   "metadata": {},
   "outputs": [],
   "source": [
    "first_100_numbers = list(range(1,100))  # but not [range(1,100)] !\n",
    "first_100_numbers[:10]  # first 10 natural numbers"
   ]
  },
  {
   "cell_type": "code",
   "execution_count": null,
   "metadata": {},
   "outputs": [],
   "source": [
    "first_100_numbers[1::2] # each even element of the list"
   ]
  },
  {
   "cell_type": "code",
   "execution_count": null,
   "metadata": {},
   "outputs": [],
   "source": [
    "# ex. print '4' and '2', using `first_100_numbers` list with proper indexes and proper indexes"
   ]
  },
  {
   "cell_type": "code",
   "execution_count": null,
   "metadata": {},
   "outputs": [],
   "source": [
    "# ex. print '42' without using 42nd element of list (rememner separators from print()?)\n"
   ]
  },
  {
   "cell_type": "code",
   "execution_count": null,
   "metadata": {},
   "outputs": [],
   "source": [
    "#  ex. using `first_100_numbers`, print an interval between 45 and 54 (including).\n"
   ]
  },
  {
   "cell_type": "code",
   "execution_count": null,
   "metadata": {},
   "outputs": [],
   "source": [
    "# ex. using `first_100_numbers`, print each 10th element of the list\n"
   ]
  },
  {
   "cell_type": "code",
   "execution_count": null,
   "metadata": {},
   "outputs": [],
   "source": [
    "# ex. using `first_100_numbers`, print all numbers that divides to 5 naturally THAT are less than 69\n"
   ]
  },
  {
   "cell_type": "markdown",
   "metadata": {},
   "source": [
    "#### Operations - a bit about methods\n",
    "\n",
    "There are functions - specific parts of code that allows to solve certain problems. For example: calling `print()` function, we will type some message. \n",
    "\n",
    "**Methods** are just like functions, but for certain classes. For example: each type of python's data we learnt (`str`, `int`, even `tuple` and `list`) is a separate class. Each class has it's own rules, constraints, and **methods**. In case of lists, we have already known methods `.append()`, `.extend()` and `.index()`. In addition to them:"
   ]
  },
  {
   "cell_type": "code",
   "execution_count": null,
   "metadata": {},
   "outputs": [],
   "source": [
    "dir(list)  # press 'in a text editor'"
   ]
  },
  {
   "cell_type": "code",
   "execution_count": null,
   "metadata": {},
   "outputs": [],
   "source": [
    "history_of_politics.remove('Bob') # removing first match\n",
    "history_of_politics"
   ]
  },
  {
   "cell_type": "code",
   "execution_count": null,
   "metadata": {},
   "outputs": [],
   "source": [
    "history_of_politics.count('Ana') # counting occurrences"
   ]
  },
  {
   "cell_type": "code",
   "execution_count": null,
   "metadata": {},
   "outputs": [],
   "source": [
    "# ex. make the list `history_of_politics` repeated 3 times\n",
    "print(...)"
   ]
  },
  {
   "cell_type": "code",
   "execution_count": null,
   "metadata": {},
   "outputs": [],
   "source": [
    "# ex. count in how many classes Charlie appears. \n",
    "history_of_politics\n",
    "qual_research\n",
    "\n",
    "(...). ..."
   ]
  },
  {
   "cell_type": "code",
   "execution_count": null,
   "metadata": {},
   "outputs": [],
   "source": [
    "# ex. replace sir Elton (who left as an exchange student)to Elena\n",
    "qual_research..."
   ]
  },
  {
   "cell_type": "markdown",
   "metadata": {},
   "source": [
    "### Loops\n",
    "* to write syntactically correct loop instructions (while, for)\n",
    "* to identify that a problem requires one or more loops\n",
    "* to use loops in order to implement the solution for a problem"
   ]
  },
  {
   "cell_type": "markdown",
   "metadata": {},
   "source": [
    "#### While"
   ]
  },
  {
   "cell_type": "markdown",
   "metadata": {},
   "source": [
    "With the **`while` loop** we can execute a set of statements as long as a condition is true."
   ]
  },
  {
   "cell_type": "code",
   "execution_count": null,
   "metadata": {},
   "outputs": [],
   "source": [
    "import time # just to make 1s delay\n",
    "\n",
    "i = 1  # it's called 'counter', which is a working variable. don't be afraid to use some\n",
    "while i < 6:\n",
    "  print(i)\n",
    "  i += 1 \n",
    "  time.sleep(1) # just to make 1s delay"
   ]
  },
  {
   "cell_type": "code",
   "execution_count": null,
   "metadata": {},
   "outputs": [],
   "source": [
    "pets = ['dog', 'cat', 'dog', 'goldfish', 'cat', 'rabbit', 'cat']\n",
    "print(pets)\n",
    "\n",
    "while 'cat' in pets:\n",
    "    pets.remove('cat')\n",
    "    \n",
    "pets # same without print"
   ]
  },
  {
   "cell_type": "markdown",
   "metadata": {},
   "source": [
    "The while loop could be used when number of iterations is unknown. Hence, `while` statement could be useful for uncertain events, when outcome is not known. Take a look at the example with rolling dice (1d6):"
   ]
  },
  {
   "cell_type": "code",
   "execution_count": null,
   "metadata": {},
   "outputs": [],
   "source": [
    "import random  # to initialize random event\n",
    "\n",
    "hit = int()  # we need to define all variables before using them inside `while`\n",
    "count = 0\n",
    "\n",
    "while hit != 6:\n",
    "    hit = random.randint(1,6)  # get random integer from 1 to 6\n",
    "    print(hit)\n",
    "    count += 1\n",
    "\n",
    "print(\"Total number of attempts:\", count)"
   ]
  },
  {
   "cell_type": "markdown",
   "metadata": {},
   "source": [
    "**DANGER!** "
   ]
  },
  {
   "cell_type": "code",
   "execution_count": null,
   "metadata": {},
   "outputs": [],
   "source": [
    "# import time # just to make 1s delay\n",
    "\n",
    "# i = 1\n",
    "# while i < 6:\n",
    "#   print(i)\n",
    "# #   i += 1 \n",
    "#   time.sleep(1) # just to make 1s delay"
   ]
  },
  {
   "cell_type": "markdown",
   "metadata": {},
   "source": [
    "Always check your loop to be non-infinite before you run it! Otherwise, it can break your code so you lose all unsaved changes. Glad we had undemanding calculations here: if your loop will overload PC's RAM, it could be hard to stop it."
   ]
  },
  {
   "cell_type": "code",
   "execution_count": null,
   "metadata": {},
   "outputs": [],
   "source": [
    "# ex. japanese elevator: write a cycle that will imitate elevator's downgrading from 10th floor to 1st. print 'oh no we're gonna die!' when elevator passes 4th floor\n",
    "\n",
    "floor = 10\n",
    "while ...:\n",
    "    if ...:\n",
    "        print(...)\n",
    "    else:\n",
    "        print(...)   \n",
    "    time.sleep(1)\n",
    "    ..."
   ]
  },
  {
   "cell_type": "code",
   "execution_count": null,
   "metadata": {},
   "outputs": [],
   "source": [
    "# ex. Count number of digits to prove the correctness of ID num.\n",
    "\n",
    "# example input: \n",
    "# 7800123456\n",
    "# example output; \n",
    "# 'correct'\n",
    "\n",
    "#  hint: we are living on 10-digit world, so...\n",
    "\n",
    "num = int(input(\"Enter your ID num\"))\n",
    "...  # yet another counter\n",
    "\n",
    "while ...:\n",
    "    ...\n",
    "print(\"...\") if ... else print(\"...\")  # different (inline) form of if-else statement"
   ]
  },
  {
   "cell_type": "markdown",
   "metadata": {},
   "source": [
    "#### For & range"
   ]
  },
  {
   "cell_type": "markdown",
   "metadata": {},
   "source": [
    "A **`for` loop** is used for iterating over a sequence (that is either a list, a tuple, a dictionary, a set, or a string). In the case of for loop if the condition is False at the very first iteration then flow will never enter in a loop."
   ]
  },
  {
   "cell_type": "code",
   "execution_count": null,
   "metadata": {},
   "outputs": [],
   "source": [
    "fruits = [\"apple\", \"banana\", \"cherry\"]\n",
    "for x in fruits:\n",
    "  print(x)"
   ]
  },
  {
   "cell_type": "code",
   "execution_count": null,
   "metadata": {},
   "outputs": [],
   "source": [
    "# ex. count students on the first-second\n",
    "history_of_politics = [\"Ana\", \"Bob\", 'Charlie', 'Donny']\n",
    "i = 1\n",
    "\n",
    "for ... in ...:\n",
    "    print(..., sep=\" - \")\n",
    "    if ...:\n",
    "    else: \n",
    "        ..."
   ]
  },
  {
   "cell_type": "markdown",
   "metadata": {},
   "source": [
    "As we're always working with finite objects with `for` loop, you can use `range()` function, that creates range of integer values:"
   ]
  },
  {
   "cell_type": "code",
   "execution_count": null,
   "metadata": {},
   "outputs": [],
   "source": [
    "for i in range(0,10):  # all integers from 1 to 10\n",
    "    print(2**i)  "
   ]
  },
  {
   "cell_type": "code",
   "execution_count": null,
   "metadata": {},
   "outputs": [],
   "source": [
    "#  ex. write for-loop to raise each integers from 1 to 10 to the power of itself. store values in list\n",
    "\n",
    "somelist1 = []\n",
    "for ... in ...(...):\n",
    "    ...\n",
    "\n",
    "print(somelist1)"
   ]
  },
  {
   "cell_type": "code",
   "execution_count": null,
   "metadata": {},
   "outputs": [],
   "source": [
    "#  second approach - inline for loop\n",
    "\n",
    "somelist2 = [...]\n",
    "print(somelist2)"
   ]
  },
  {
   "cell_type": "code",
   "execution_count": null,
   "metadata": {},
   "outputs": [],
   "source": [
    "# ex. add lastnames to firstnames (check that number of elements if equal firstly!)\n",
    "\n",
    "history_of_politics = [\"Ana\", \"Bob\", 'Charlie', 'Donny']\n",
    "history_of_politics_surnames = [\"Coleman\", \"Howell\", 'Dominguez', 'Mcgee']\n",
    "history_of_politics_full = []\n",
    "\n",
    "# hint: you can somehow iterate over indexes via `for` loop\n",
    "\n",
    "if ...(...) ... ...(...):  # check that number of elements are equal before run\n",
    "    for ... in ...:\n",
    "        history_of_politics_full.append(...)\n",
    "        i+=1\n",
    "\n",
    "history_of_politics_full"
   ]
  },
  {
   "cell_type": "code",
   "execution_count": null,
   "metadata": {},
   "outputs": [],
   "source": [
    "# ex. write a cycle that imitates 10 throws of a fair 1d6. store values, calculate average (guess it before the task ;))\n",
    "\n",
    "hits = []\n",
    "...\n",
    "    ...  # get random integer from 1 to 6\n",
    "    \n",
    "print(\"Average result:\", sum(...)/len(...))"
   ]
  },
  {
   "cell_type": "markdown",
   "metadata": {},
   "source": [
    "You can read more about the Law of large numbers [here](https://en.wikipedia.org/wiki/Law_of_large_numbers#Examples)."
   ]
  },
  {
   "cell_type": "markdown",
   "metadata": {},
   "source": [
    "#### Loop contol: break, continue"
   ]
  },
  {
   "cell_type": "markdown",
   "metadata": {},
   "source": [
    "With the `break` statement we can stop the loop even if the while condition is true:\n",
    "\n"
   ]
  },
  {
   "cell_type": "code",
   "execution_count": null,
   "metadata": {},
   "outputs": [],
   "source": [
    "i=1\n",
    "while True:\n",
    "  print(i)\n",
    "  i += 1 \n",
    "  if i == 6: \n",
    "    break"
   ]
  },
  {
   "cell_type": "code",
   "execution_count": null,
   "metadata": {},
   "outputs": [],
   "source": [
    "i = 1\n",
    "while i < 6:\n",
    "  print(i)\n",
    "  if i == 3:\n",
    "    break\n",
    "  i += 1"
   ]
  },
  {
   "cell_type": "markdown",
   "metadata": {},
   "source": [
    "`Continue` statement is used to end the current iteration in a for loop (or a while loop), and continues to the next iteration."
   ]
  },
  {
   "cell_type": "code",
   "execution_count": null,
   "metadata": {},
   "outputs": [],
   "source": [
    "for i in range(5):\n",
    "  if i == 3:\n",
    "    continue\n",
    "  print(i)"
   ]
  },
  {
   "cell_type": "markdown",
   "metadata": {},
   "source": [
    "As the exercise, let's try to recreate a city-chain game.\n",
    "\n",
    "Write a code to a city-chain game (города). it should take inputs from user and check wether the first letter of the proposed city is equals to the last letter of previous city. If user prints `quit` - the game stops."
   ]
  },
  {
   "cell_type": "code",
   "execution_count": null,
   "metadata": {},
   "outputs": [],
   "source": [
    "# img load for private github repo\n",
    "display(Image(filename='img/cities.png', embed=True))"
   ]
  },
  {
   "cell_type": "code",
   "execution_count": null,
   "metadata": {},
   "outputs": [],
   "source": [
    "# ex. a City-chain game\n",
    "\n",
    "# print(hint) if you need help\n",
    "\n",
    "print(\"Let's start the game! Put down any city you'd like:\")\n",
    "last_city = ...\n",
    "print(last_city)\n",
    "\n",
    "print('Now enter the city that begins with the last letter of previous one. Enter \"quit\" or \"q\" once you are finished.')\n",
    "\n",
    "...: # while one not in (\"q\",\"quit\"):\n",
    "    city = ....lower()\n",
    "\n",
    "    ...\n",
    "\n",
    "    ...\n",
    "\n",
    "    ..."
   ]
  },
  {
   "cell_type": "markdown",
   "metadata": {},
   "source": [
    "### Homework\n",
    "1. Complete the 3rd and the 4th weeks (yes, 2 weeks this time) of [the online-course](https://stepik.org/course/102668/syllabus) (test might happen again)\n",
    "2. Solve exercises below"
   ]
  },
  {
   "cell_type": "markdown",
   "metadata": {},
   "source": [
    "**exercise 1.** here's a collection of russian presidents. why does it print incorrectly? fix this"
   ]
  },
  {
   "cell_type": "code",
   "execution_count": null,
   "metadata": {},
   "outputs": [],
   "source": [
    "rus_presidents = {'Eltsin', 'Putin', 'Medvedev', 'Putin'}\n",
    "rus_presidents"
   ]
  },
  {
   "cell_type": "markdown",
   "metadata": {},
   "source": [
    "**exercise 2.** here's descending list of all us presidents. make it ascending (from old to new) and print each 5th person from the list. for this task you'll need some method. \n",
    "*example output: `'George Washington', 'John Quincy Adams', 'James K. Polk', 'Abraham Lincoln', 'Chester A. Arthur', 'Theodore Roosevelt', 'Herbert Hoover', 'Lyndon B. Johnson', 'George H.W. Bush'`*"
   ]
  },
  {
   "cell_type": "code",
   "execution_count": null,
   "metadata": {},
   "outputs": [],
   "source": [
    "us_presidents = [\"Donald Trump\" , \"Barack Obama\" , \"George W. Bush\" , \"Bill Clinton\" , \"George H.W. Bush\" , \"Ronald Reagan\" , \"Jimmy Carter\" , \"Gerald Ford\" , \"Richard Nixon\" , \"Lyndon B. Johnson\" , \"John F. Kennedy\" , \"Dwight D. Eisenhower\", \"Harry S. Truman\" , \"Franklin D. Roosevelt\" , \"Herbert Hoover\" , \"Calvin Coolidge\" , \"Warren G. Harding\" , \"Woodrow Wilson\" , \"Howard Taft\" , \"Theodore Roosevelt\" , \"William McKinley\" , \"Grover Cleveland\" , \"Benjamin Harrison\" , \"Grover Cleveland\" , \"Chester A. Arthur\" , \"James Garfield\" , \"Rutherford B. Hayes\" , \"Ulysses S. Grant\" , \"Andrew Johnson\" , \"Abraham Lincoln\" , \"James Buchanan\" , \"Franklin Pierce\" , \"Millard Fillmore\", \"Zachary Taylor\" , \"James K. Polk\" , \"John Tyler\" , \"William Henry Harrison\" , \"Martin Van Buren\" , \"Andrew Jackson\" , \"John Quincy Adams\" , \"James Monroe\" , \"James Madison\" , \"Thomas Jefferson\" , \"John Adams\" , \"George Washington\"]\n",
    "us_presidents...\n",
    "..."
   ]
  },
  {
   "cell_type": "markdown",
   "metadata": {},
   "source": [
    "**exercise 3.** remove anyone who's name is longer than 10 symbols  \n",
    "*example output: `John Adams John Tyler`*"
   ]
  },
  {
   "cell_type": "code",
   "execution_count": null,
   "metadata": {},
   "outputs": [],
   "source": [
    "..."
   ]
  },
  {
   "cell_type": "markdown",
   "metadata": {},
   "source": [
    "**exercise 4.** print each us president that has 'w' in his name   \n",
    "*example output: `Andrew Jackson Andrew Johnson Howard Taft Woodrow Wilson Dwight D. Eisenhower`*"
   ]
  },
  {
   "cell_type": "code",
   "execution_count": null,
   "metadata": {},
   "outputs": [],
   "source": [
    "..."
   ]
  },
  {
   "cell_type": "markdown",
   "metadata": {},
   "source": [
    "**exercise 5.** calculate the average of 5 integers. use one input only (but it could be inside the loop :))  \n",
    "*example input:   \n",
    "`1`  \n",
    "`2`  \n",
    "`3`  \n",
    "`4`  \n",
    "`5`*  \n",
    "*example output: `Average of given Numbers: 3.0`*"
   ]
  },
  {
   "cell_type": "code",
   "execution_count": null,
   "metadata": {},
   "outputs": [],
   "source": [
    "summa ...\n",
    "count ...\n",
    "\n",
    "...\n",
    "    ...\n",
    "  \n",
    "...\n",
    "\n",
    "print(\"Average of given Numbers:\", ...)"
   ]
  },
  {
   "cell_type": "markdown",
   "metadata": {},
   "source": [
    "***exercise 6.** make a president tinder: swipe right or left random persons. store swipes in corresponding lists.  \n",
    "`out: new swipe: Rutherford B. Hayes!`  \n",
    "`in: right`  \n",
    "`out: you've swiped right!`\n",
    "`out: new swipe: Lyndon B. Johnson!`    \n",
    "`in: q`  \n",
    "`out: Game Over. See you next time!`  \n",
    "`in: rights`  \n",
    "`out: ['Rutherford B. Hayes']`"
   ]
  },
  {
   "cell_type": "code",
   "execution_count": null,
   "metadata": {},
   "outputs": [],
   "source": [
    "# *ex. make a president tinder: swipe right or left random persons. store swipes in corresponding lists.\n",
    "import random\n",
    "rights = []\n",
    "lefts = []\n",
    "\n",
    "...\n",
    "    i = random.randint(0, len(us_presidents))\n",
    "    print(\"new swipe: \", us_presidents[i], \"!\\n\", sep=\"\")\n",
    "\n",
    "    response = ...(...)\n",
    "\n",
    "    ...\n",
    "\n",
    "    ...\n",
    "\n",
    "    ...\n"
   ]
  },
  {
   "cell_type": "markdown",
   "metadata": {},
   "source": [
    "***exercise 7.** write a loop that count sheeps. ask 'are you asleep?' every 10th sheep, if the answer is 'yes' - end the loop.  \n",
    "you can use time.sleep(1) to meake it natural  \n",
    "`out: 1 sheeps jump over the fence`  \n",
    "`out: 2 sheeps jump over the fence`  \n",
    "`...`  \n",
    "`out: 10 sheeps jump over the fence`  \n",
    "`out: Are you asleep?`  \n",
    "`in: yes`  "
   ]
  },
  {
   "cell_type": "code",
   "execution_count": null,
   "metadata": {},
   "outputs": [],
   "source": [
    "# ex. \n",
    "import time\n",
    "\n",
    "answer = \"no\"\n",
    "i = 0\n",
    "\n",
    "while answer != \"yes\":\n",
    "    i += 1\n",
    "    print(i, \"sheeps jump over the fence\")\n",
    "    time.sleep(1)\n",
    "    if i % 10 == 0:\n",
    "        print('Are you asleep?')\n",
    "        answer = input()"
   ]
  }
 ],
 "metadata": {
  "kernelspec": {
   "display_name": "Python 3.10.4 64-bit",
   "language": "python",
   "name": "python3"
  },
  "language_info": {
   "codemirror_mode": {
    "name": "ipython",
    "version": 3
   },
   "file_extension": ".py",
   "mimetype": "text/x-python",
   "name": "python",
   "nbconvert_exporter": "python",
   "pygments_lexer": "ipython3",
   "version": "3.10.4"
  },
  "orig_nbformat": 4,
  "vscode": {
   "interpreter": {
    "hash": "db967a82a5395c9886e36287b4fc3d4cdf41cf28b68e7cdaae12bdbf290d326d"
   }
  }
 },
 "nbformat": 4,
 "nbformat_minor": 2
}
