{
 "cells": [
  {
   "cell_type": "markdown",
   "metadata": {},
   "source": [
    "## Week 4. Dataframes and Visualisation"
   ]
  },
  {
   "cell_type": "markdown",
   "metadata": {},
   "source": [
    "### Recap\n",
    "\n",
    "Here we can spend up to 30 minutes to discuss difficulties you faced with while completing the Homework Assignment."
   ]
  },
  {
   "cell_type": "markdown",
   "metadata": {},
   "source": [
    "### Best data storage?\n",
    "\n",
    "So far we have learnt 4 different data containers to store multiple values. `set` is good for unique values, and `list` and `tuple` are different by their mutability. `dict` allows us to label the data we collect with key-value pairs. But is it the best way to store and observe data?\n",
    "\n",
    "Let's try it out on [2012 US presidential election](https://en.wikipedia.org/wiki/2012_United_States_presidential_election) open data *(source: [The Guardian](https://www.theguardian.com/news/datablog/2012/nov/07/us-2012-election-county-results-download))*"
   ]
  },
  {
   "cell_type": "code",
   "execution_count": null,
   "metadata": {},
   "outputs": [],
   "source": [
    "# googled solution 1\n",
    "\n",
    "import csv\n",
    "\n",
    "myFile = open('../data/us-election-2012-results-by-county.csv', 'r')\n",
    "reader = csv.DictReader(myFile)\n",
    "myList = list()\n",
    "for dictionary in reader:\n",
    "    myList.append(dictionary)\n",
    "\n",
    "myList"
   ]
  },
  {
   "cell_type": "code",
   "execution_count": null,
   "metadata": {},
   "outputs": [],
   "source": [
    "len(myList)"
   ]
  },
  {
   "cell_type": "code",
   "execution_count": null,
   "metadata": {},
   "outputs": [],
   "source": [
    "# googled solution 2\n",
    "\n",
    "import csv\n",
    "reader = csv.reader(open('../data/us-election-2012-results-by-county.csv', 'r'))\n",
    "d = {}\n",
    "for row in reader:\n",
    "   k, v = row\n",
    "   d[k] = v"
   ]
  },
  {
   "cell_type": "markdown",
   "metadata": {},
   "source": [
    "We have identical key-value pairs repeated 23238 times. But is `dict` the best way to display a lot observations of the same structure? Propose your solution!"
   ]
  },
  {
   "cell_type": "markdown",
   "metadata": {},
   "source": [
    "### Dataframes with pandas \n",
    "\n",
    "[Pandas](https://pandas.pydata.org/) is a fast, powerful, flexible and easy to use open source data analysis and manipulation tool. It is a software library written for the Python programming language.\n",
    "\n",
    "![](../img/pandas.jpg)"
   ]
  },
  {
   "cell_type": "code",
   "execution_count": null,
   "metadata": {},
   "outputs": [],
   "source": [
    "import pandas as pd\n",
    "elections = pd.read_csv(\"../data/us-election-2012-results-by-county.csv\")\n",
    "elections"
   ]
  },
  {
   "cell_type": "code",
   "execution_count": null,
   "metadata": {},
   "outputs": [],
   "source": [
    "len(elections)"
   ]
  },
  {
   "cell_type": "code",
   "execution_count": null,
   "metadata": {},
   "outputs": [],
   "source": [
    "type(elections)"
   ]
  },
  {
   "cell_type": "code",
   "execution_count": null,
   "metadata": {},
   "outputs": [],
   "source": [
    "emptyDF = pd.DataFrame()  # creates an empty DataFrame object"
   ]
  },
  {
   "cell_type": "markdown",
   "metadata": {},
   "source": [
    "Why **Pandas**? It's the easiest and the most interpretable tool to work with large-scale datasets no matter of their type:\n",
    "* cross-sectional data - a collection of different observations and features in a single point of time. Almost 90% of tables you'll meet is cross-sectional ones. \n",
    "* time series - one object/observation through time. Mostly popular for temperature forecasts, stocks prices or signals measure (engineering).\n",
    "* panel data (or cross-sectional time-series data) - different obs. and feat. through time. Mix of previous methods. \n",
    "\n",
    "![](../img/datass.png)"
   ]
  },
  {
   "cell_type": "markdown",
   "metadata": {},
   "source": [
    "### Indexing with pandas dataframe\n",
    "\n",
    "Just like `dict`, pandas dataframes have 2-Dimensions: rows (also called observations) and columns (features, sometimes variables). Aand just like with `dict`, we can call elements by names - each column has a name, or title - it's always written inside square brackets and allow you to pass **one object only**."
   ]
  },
  {
   "cell_type": "code",
   "execution_count": null,
   "metadata": {},
   "outputs": [],
   "source": [
    "elections['CountyName'] # thats how we can get all CountyNames from our dataframe"
   ]
  },
  {
   "cell_type": "code",
   "execution_count": null,
   "metadata": {},
   "outputs": [],
   "source": [
    "type(elections['CountyName'])  # a single column has type Series, which is quietly the same"
   ]
  },
  {
   "cell_type": "code",
   "execution_count": null,
   "metadata": {},
   "outputs": [],
   "source": [
    "elections[['County2012Id', 'CountyName', 'StateCode']]  # to select multiple columns, we need to pass the list with columnNames inside square brackets"
   ]
  },
  {
   "cell_type": "code",
   "execution_count": null,
   "metadata": {},
   "outputs": [],
   "source": [
    "type(elections[['County2012Id', 'CountyName', 'StateCode']])  # this will create a mini-dataframe from our original one"
   ]
  },
  {
   "cell_type": "markdown",
   "metadata": {},
   "source": [
    "What's more interesting: you can filter your dataset with logical expression inside square brackets. "
   ]
  },
  {
   "cell_type": "code",
   "execution_count": null,
   "metadata": {},
   "outputs": [],
   "source": [
    "elections['CountyName'] == \"Alaska\"  # first step: formulate the rule"
   ]
  },
  {
   "cell_type": "code",
   "execution_count": null,
   "metadata": {},
   "outputs": [],
   "source": [
    "elections[elections['CountyName'] == \"Alaska\"] # second step: select the slice according to your rule"
   ]
  },
  {
   "cell_type": "code",
   "execution_count": null,
   "metadata": {},
   "outputs": [],
   "source": [
    "# ex. create a subDataFrame for New Your County (NY) only\n",
    "ny_elections = elections[elections['StateCode'] == \"NY\"]\n",
    "ny_elections"
   ]
  },
  {
   "cell_type": "code",
   "execution_count": null,
   "metadata": {},
   "outputs": [],
   "source": [
    "# ex. now leave columns with County Name and Total Votes innit only. save the result\n",
    "ny_elections = ny_elections[['CountyName', 'CountyTotalVotes']]"
   ]
  },
  {
   "cell_type": "code",
   "execution_count": null,
   "metadata": {},
   "outputs": [],
   "source": [
    "# guess how many counties in NY State are?\n",
    "type(ny_elections)"
   ]
  },
  {
   "cell_type": "markdown",
   "metadata": {},
   "source": [
    "### DataFrames methods: attributes and functions\n",
    "\n",
    "We already know that each class in Python might have different methods to operate with data. Let's have a look to `DataFrame` methods:"
   ]
  },
  {
   "cell_type": "code",
   "execution_count": null,
   "metadata": {},
   "outputs": [],
   "source": [
    "dir(pd.core.frame.DataFrame) # to get all methods"
   ]
  },
  {
   "cell_type": "markdown",
   "metadata": {},
   "source": [
    "Whoa, that's a big list! Actually, `dir(pd.core.frame.DataFrame)` and all other `dir` outputs contains not only method-functions but different essences: \n",
    "* attributes to get an access to dataframe's metadata (`shape`, `index`, `columns`, etc) \n",
    "* functions to change data and create new dataframes (`drop`, `sort_values`, `groupby`, etc)\n",
    "\n",
    ">\n",
    "> According to [Python's glossary](https://stackoverflow.com/a/46312533/10803427):\n",
    "> \n",
    "> attribute: A value associated with an object which is referenced by name using dotted expressions. For example, if an object o has an attribute a it would be referenced as o.a\n",
    ">\n",
    "> method: A function which is defined inside a class body. If called as an attribute of an instance of that class, the method will get the instance object as its first argument (which is usually called self). See function and nested scope.\n",
    ">\n",
    "\n",
    "Don't worry lads: we won't use all this stuff for coding. Let's run through essentialrones instead."
   ]
  },
  {
   "cell_type": "code",
   "execution_count": null,
   "metadata": {},
   "outputs": [],
   "source": [
    "elections.head(5) # to display first N rows\n",
    "# ny_elections.tail(5) # to display last N rows"
   ]
  },
  {
   "cell_type": "code",
   "execution_count": null,
   "metadata": {},
   "outputs": [],
   "source": [
    "elections.columns # columns here is not a method, but an attribute. they don't requre brackets. just accept this, no logic here.\n",
    "# list(ny_elections.columns)"
   ]
  },
  {
   "cell_type": "code",
   "execution_count": null,
   "metadata": {},
   "outputs": [],
   "source": [
    "elections.drop(columns=['CountyTotalVotes'])  # to deselect particular columns out from dataframe. parameter columns is neccessary \n",
    "elections.drop([0:5]) # this will drop first 5 rows out from DataFrame"
   ]
  },
  {
   "cell_type": "code",
   "execution_count": null,
   "metadata": {},
   "outputs": [],
   "source": [
    "elections  # remember to save the result of dropping if you want to "
   ]
  },
  {
   "cell_type": "code",
   "execution_count": null,
   "metadata": {},
   "outputs": [],
   "source": [
    "elections[elections['LastName'].isin([\"Obama\", \"Romney\"])] # to filter by multiple values in one column\n",
    "#  try to delete Obama to see what's happened "
   ]
  },
  {
   "cell_type": "code",
   "execution_count": null,
   "metadata": {},
   "outputs": [],
   "source": [
    "elections['StateCode'].unique() # to get unique values only"
   ]
  },
  {
   "cell_type": "code",
   "execution_count": null,
   "metadata": {},
   "outputs": [],
   "source": [
    "elections.drop_duplicates('Party') # to leave unique values basing on certain column"
   ]
  },
  {
   "cell_type": "code",
   "execution_count": null,
   "metadata": {},
   "outputs": [],
   "source": [
    "elections.sort_values(by='PrecintsReporting', ascending=False)  # to arrange by some column"
   ]
  },
  {
   "cell_type": "markdown",
   "metadata": {},
   "source": [
    "And not methods but index things - you can add new columns just like we did with `dict`, by stating unique columnname in square brackets."
   ]
  },
  {
   "cell_type": "code",
   "execution_count": null,
   "metadata": {},
   "outputs": [],
   "source": [
    "elections['something'] = 42\n",
    "elections.head(5)\n",
    "# elections = elections.drop(columns = \"something\")"
   ]
  },
  {
   "cell_type": "code",
   "execution_count": null,
   "metadata": {},
   "outputs": [],
   "source": [
    "# ex. count how many counties are in NY\n"
   ]
  },
  {
   "cell_type": "code",
   "execution_count": null,
   "metadata": {},
   "outputs": [],
   "source": [
    "# resave the dataframe with unique Counties only\n",
    "ny_elections =    "
   ]
  },
  {
   "cell_type": "code",
   "execution_count": null,
   "metadata": {},
   "outputs": [],
   "source": [
    "# ex. arrange NY votes by total number of votes\n",
    "ny_elections "
   ]
  },
  {
   "cell_type": "code",
   "execution_count": null,
   "metadata": {},
   "outputs": [],
   "source": [
    "# ex. display top 10 counties of ny according to total votes\n",
    "top10_ny = \n",
    "top10_ny"
   ]
  },
  {
   "cell_type": "code",
   "execution_count": null,
   "metadata": {},
   "outputs": [],
   "source": [
    "# leave only those row that you know by county name\n",
    "top10_ny[ ]"
   ]
  },
  {
   "cell_type": "markdown",
   "metadata": {},
   "source": [
    "### Visualisation tools\n",
    "\n",
    "One of the most important things for all analysts, data scientists and researchers in general is data visualisations. The thing is, people read plots quicker than large scale of numbers, and there is a great variety of different plot types to demonstrate different data structures.\n",
    "\n",
    "![](../img/plots.png)\n",
    "\n",
    "*src: [visual-design,net](https://www.visual-design.net/post/choose-the-right-chart)*"
   ]
  },
  {
   "cell_type": "markdown",
   "metadata": {},
   "source": [
    "Luckly, there is a built-in functionality of visualusation in pandas: `.plot()` method (read about all interesting stuff in [documetnation](https://pandas.pydata.org/docs/reference/api/pandas.DataFrame.plot.html))"
   ]
  },
  {
   "cell_type": "code",
   "execution_count": null,
   "metadata": {},
   "outputs": [],
   "source": [
    "top10_ny.plot(x = \"CountyName\", y = \"CountyTotalVotes\", kind = \"bar\")"
   ]
  },
  {
   "cell_type": "code",
   "execution_count": null,
   "metadata": {},
   "outputs": [],
   "source": [
    "# step 1: leave only neccessary data - create a dictionary with state and votes for both candidates\n",
    "obama_romney = elections[elections['LastName'].isin([\"Obama\", \"Romney\"])]\n",
    "obama_romney = obama_romney[['StateCode', 'LastName', 'Votes']]\n",
    "\n",
    "# one more method to aggregate columns - for example to calculate sum of votes by states\n",
    "obama_romney = obama_romney.groupby(['StateCode','LastName'])['Votes'].sum().reset_index()\n",
    "\n",
    "obama = obama_romney.loc[obama_romney['LastName'] == 'Obama'].drop(columns=\"LastName\").rename(columns={\"Votes\": \"Obama\"})\n",
    "romney = obama_romney.loc[obama_romney['LastName'] == 'Romney'].drop(columns=\"LastName\").rename(columns={\"Votes\": \"Romney\"})\n",
    "\n",
    "votes = pd.merge(obama, romney)\n",
    "\n",
    "votes.head()"
   ]
  },
  {
   "cell_type": "code",
   "execution_count": null,
   "metadata": {},
   "outputs": [],
   "source": [
    "votes.plot(x = \"Obama\", y = \"Romney\", kind = \"scatter\");"
   ]
  },
  {
   "cell_type": "markdown",
   "metadata": {},
   "source": [
    "### Additional visualisation opportunities\n",
    "\n",
    "`.plot()` is not so powerful and versatile instrument. There are plenty of additional visualisation packages in Python, and those who know them pretty well can draw very impressive plots. Most popular are `Matplotlib` and `Seaborn`."
   ]
  },
  {
   "cell_type": "code",
   "execution_count": null,
   "metadata": {},
   "outputs": [],
   "source": [
    "import matplotlib.pyplot as plt\n",
    "import numpy as np"
   ]
  },
  {
   "cell_type": "code",
   "execution_count": null,
   "metadata": {},
   "outputs": [],
   "source": [
    "# declaring axes and label vectors\n",
    "x = votes[\"Obama\"]\n",
    "y = votes[\"Romney\"]\n",
    "states = votes[\"StateCode\"]\n",
    "\n",
    "# setting up size and style\n",
    "plt.figure(figsize=(20,10), dpi=100)\n",
    "plt.style.use('ggplot')\n",
    "\n",
    "# scatterplot\n",
    "plt.scatter(x, y, marker=\"o\", c=\"DarkBlue\", alpha = 0.3, s = 200)\n",
    " \n",
    "# y=x lineplot\n",
    "plt.plot(x, x)\n",
    "\n",
    "# labels\n",
    "plt.title(\"2012 US Presidential Elections\")\n",
    "plt.xlabel(\"Votes for Obama, millions\")\n",
    "plt.ylabel(\"Votes for Romney, millions\")\n",
    "\n",
    "# point names\n",
    "for i, txt in enumerate(states):\n",
    "    plt.annotate(txt, (x[i], y[i]), fontsize=14)\n",
    "\n",
    "# plt.show();"
   ]
  },
  {
   "cell_type": "code",
   "execution_count": null,
   "metadata": {},
   "outputs": [],
   "source": [
    "votes[votes['StateCode'] == \"CA\"]"
   ]
  },
  {
   "cell_type": "code",
   "execution_count": null,
   "metadata": {},
   "outputs": [],
   "source": [
    "# ex. leave only unique counties for California state\n",
    "california = elections[ ]\n",
    "california.head(10)"
   ]
  },
  {
   "cell_type": "code",
   "execution_count": null,
   "metadata": {},
   "outputs": [],
   "source": [
    "# ex. leave top 10 counties by total votes\n",
    "california = \n",
    "california = "
   ]
  },
  {
   "cell_type": "code",
   "execution_count": null,
   "metadata": {},
   "outputs": [],
   "source": [
    "# ex. create a pie chart by state's Total Precincts (you need to leave 2 columns only)\n",
    "california.plot(   , figsize=(10,10))"
   ]
  },
  {
   "cell_type": "markdown",
   "metadata": {},
   "source": [
    "### Homework\n",
    "\n",
    "The whole thing we discussed today is called EDA - Exploratory Data Analysis. For the homework task, I suggest you to do the same with [dogs dataset](https://drive.google.com/drive/folders/1cMMy1clk-ztykJpwxuH1fJENgVle2v3r?usp=sharing) (description is [here](https://www.kaggle.com/datasets/kmader/dogs-of-zurich)).\n",
    "\n",
    "1. Load it as Pandas Dataframe;\n",
    "2. Look at the data (aggregate it, if necessary) and suggest any hypothesis (example: *is there a correlation between city distict and bread's popularity?*);\n",
    "3. Clean up the data and build a plot to prove or decline your hypothesis.\n",
    "\n",
    "\\* Advanced part of the exercise: make a **cool** graph. You can try to customize `matplotlib` functionality (but it's contrintuitive), or try [`ggplot`](https://monashdatafluency.github.io/python-workshop-base/modules/plotting_with_ggplot/) or [`seaborn`](https://seaborn.pydata.org/tutorial.html). It also should be informative and beautiful - I recommend to seek [https://www.data-to-viz.com/](data-to-viz) for inspiration."
   ]
  }
 ],
 "metadata": {
  "kernelspec": {
   "display_name": "Python 3.10.4 64-bit",
   "language": "python",
   "name": "python3"
  },
  "language_info": {
   "codemirror_mode": {
    "name": "ipython",
    "version": 3
   },
   "file_extension": ".py",
   "mimetype": "text/x-python",
   "name": "python",
   "nbconvert_exporter": "python",
   "pygments_lexer": "ipython3",
   "version": "3.10.4 (tags/v3.10.4:9d38120, Mar 23 2022, 23:13:41) [MSC v.1929 64 bit (AMD64)]"
  },
  "orig_nbformat": 4,
  "vscode": {
   "interpreter": {
    "hash": "db967a82a5395c9886e36287b4fc3d4cdf41cf28b68e7cdaae12bdbf290d326d"
   }
  }
 },
 "nbformat": 4,
 "nbformat_minor": 2
}
