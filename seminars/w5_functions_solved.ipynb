{
 "cells": [
  {
   "cell_type": "markdown",
   "metadata": {},
   "source": [
    "## Week 5. Functional Programming\n",
    "\n",
    "Functions are reusable pieces of programs. They allow you to give a name to a block of statements and you can run that block using that name anywhere in your program and any number of times. This is known as calling the function. You've met function dozen times already: today we're going to learn how to write functions by hand."
   ]
  },
  {
   "cell_type": "markdown",
   "metadata": {},
   "source": [
    "### Quick Recap\n",
    "\n",
    "Remember the task about rolling 1d6 dice? We used while loop with `random.randint` function to get how many throws we should complete to get 6."
   ]
  },
  {
   "cell_type": "code",
   "execution_count": 9,
   "metadata": {},
   "outputs": [
    {
     "name": "stdout",
     "output_type": "stream",
     "text": [
      "4\n",
      "1\n",
      "4\n",
      "3\n",
      "1\n",
      "6\n",
      "Total number of attempts: 6\n"
     ]
    }
   ],
   "source": [
    "# ex 1. try to recreate the task with rolling dice\n",
    "import random  \n",
    "\n",
    "hit = int()  # we need to define all variables before using them inside `while`\n",
    "count = 0\n",
    "\n",
    "while hit != 6:\n",
    "    hit = random.randint(1, 6)  # get random integer from 1 to 6\n",
    "    print(hit)\n",
    "    count += 1\n",
    "\n",
    "print(\"Total number of attempts:\", count)"
   ]
  },
  {
   "cell_type": "markdown",
   "metadata": {},
   "source": [
    "Now imagine we want to roll 1d20 - a 20-sided dice usually used in roll plays like Dungeon and Dragons. Catch first 20 result instead of 6 (legendary roll). How you will change your code?"
   ]
  },
  {
   "cell_type": "code",
   "execution_count": 10,
   "metadata": {},
   "outputs": [
    {
     "name": "stdout",
     "output_type": "stream",
     "text": [
      "4\n",
      "10\n",
      "6\n",
      "3\n",
      "19\n",
      "6\n",
      "9\n",
      "14\n",
      "10\n",
      "17\n",
      "11\n",
      "17\n",
      "10\n",
      "16\n",
      "2\n",
      "11\n",
      "5\n",
      "11\n",
      "9\n",
      "4\n",
      "2\n",
      "20\n",
      "Total number of attempts: 22\n"
     ]
    }
   ],
   "source": [
    "# ex 2. try to rewrite the code for 1d20\n",
    "hit = int()  \n",
    "count = 0\n",
    "\n",
    "while hit != 20:\n",
    "    hit = random.randint(1, 20) \n",
    "    print(hit)\n",
    "    count += 1\n",
    "\n",
    "print(\"Total number of attempts:\", count)"
   ]
  },
  {
   "cell_type": "markdown",
   "metadata": {},
   "source": [
    "And now rewrite your code once again. How many attempts should we make to get 19 or 20 at least 2 times in a row?"
   ]
  },
  {
   "cell_type": "code",
   "execution_count": 29,
   "metadata": {},
   "outputs": [
    {
     "name": "stdout",
     "output_type": "stream",
     "text": [
      "1st dice: 1\n",
      "1st dice: 4\n",
      "1st dice: 9\n",
      "1st dice: 6\n",
      "1st dice: 9\n",
      "1st dice: 6\n",
      "1st dice: 7\n",
      "1st dice: 15\n",
      "1st dice: 8\n",
      "1st dice: 4\n",
      "1st dice: 3\n",
      "1st dice: 11\n",
      "1st dice: 18\n",
      "1st dice: 9\n",
      "1st dice: 12\n",
      "1st dice: 11\n",
      "1st dice: 14\n",
      "1st dice: 20\n",
      "Now picking 2nd dice...\n",
      "2nd dice: 8\n",
      "2nd dice: 17\n",
      "2nd dice: 3\n",
      "2nd dice: 9\n",
      "2nd dice: 9\n",
      "2nd dice: 2\n",
      "2nd dice: 7\n",
      "2nd dice: 8\n",
      "2nd dice: 20\n",
      "Total number of attempts: 27\n"
     ]
    }
   ],
   "source": [
    "# ex 3. one more ex.\n",
    "hit = int() \n",
    "count = 0\n",
    "\n",
    "while hit not in (19, 20):\n",
    "    hit = random.randint(1, 20)\n",
    "    print(\"1st dice:\", hit)\n",
    "    count += 1\n",
    "\n",
    "print(\"Now picking 2nd dice...\")\n",
    "\n",
    "hit = int() \n",
    "\n",
    "while hit not in (19, 20):\n",
    "    hit = random.randint(1, 20)\n",
    "    print(\"2nd dice:\", hit)\n",
    "    count += 1\n",
    "\n",
    "print(\"Total number of attempts:\", count)"
   ]
  },
  {
   "cell_type": "markdown",
   "metadata": {},
   "source": [
    "### Functions: getting rid of routine"
   ]
  },
  {
   "cell_type": "markdown",
   "metadata": {},
   "source": [
    "As you probably noticed, we tuned only several elements in our code, but kept the logic unchanged. Each exercise we simulated dice's rolling with random values and counted number of rolls until we met the set condition. \n",
    "\n",
    "The key thing here is **each exercise**. Actually, we don't need to create all this boring stuff over and over again - instead, let's create a **function**, where we will state all important parameters."
   ]
  },
  {
   "cell_type": "code",
   "execution_count": 30,
   "metadata": {},
   "outputs": [],
   "source": [
    "# simple example of function\n",
    "def greetings(firstname):\n",
    "    return f\"Greetings, {firstname}!\""
   ]
  },
  {
   "cell_type": "code",
   "execution_count": 34,
   "metadata": {},
   "outputs": [
    {
     "data": {
      "text/plain": [
       "'Greetings, Sasha!'"
      ]
     },
     "execution_count": 34,
     "metadata": {},
     "output_type": "execute_result"
    }
   ],
   "source": [
    "greetings(\"Sasha\")"
   ]
  },
  {
   "cell_type": "markdown",
   "metadata": {},
   "source": [
    "The structure of functions:\n",
    "* `def` - the Python keyword that intoduces the function definition.\n",
    "* def always should be followed with `(parenthesis)`, even if there is nothing innit. In parenthesis, you write list of `parameters` (or `arguments`).\n",
    "* don't forget about `: colon`.\n",
    "* function logic lines should be `tabulated`, just like in while/for loops.\n",
    "* declare what your function should `return` with the corresponding statement.\n",
    "\n",
    "\n",
    "![](../img/fun.png)"
   ]
  },
  {
   "cell_type": "markdown",
   "metadata": {},
   "source": [
    "Couple of examples:"
   ]
  },
  {
   "cell_type": "code",
   "execution_count": 5,
   "metadata": {},
   "outputs": [
    {
     "name": "stdout",
     "output_type": "stream",
     "text": [
      "0 1 1 2 3 5 8 13 21 34 55 89 \n"
     ]
    }
   ],
   "source": [
    "# fibonacci row less than 100\n",
    "def fibonacci(): \n",
    "    a, b = 0, 1\n",
    "    while a < 100:\n",
    "        print(a, end=' ')\n",
    "        a, b = b, a+b\n",
    "    print()\n",
    "\n",
    "fibonacci() "
   ]
  },
  {
   "cell_type": "code",
   "execution_count": 3,
   "metadata": {},
   "outputs": [
    {
     "name": "stdout",
     "output_type": "stream",
     "text": [
      "0 1 1 2 3 5 8 13 21 34 55 89 144 \n"
     ]
    }
   ],
   "source": [
    "# fibonacci row with customizable limit\n",
    "def fibonacci(upper_limit): \n",
    "    a, b = 0, 1\n",
    "    while a <= upper_limit:\n",
    "        print(a, end=' ')\n",
    "        a, b = b, a+b\n",
    "    print()\n",
    "\n",
    "fibonacci(150) "
   ]
  },
  {
   "cell_type": "markdown",
   "metadata": {},
   "source": [
    "What's weird about this function?"
   ]
  },
  {
   "cell_type": "markdown",
   "metadata": {},
   "source": [
    "> **The difference between the `print` and the `return` functions**\n",
    ">\n",
    "> `print` will not in any way affect a function. It is simply there for the human user’s benefit. It is very useful for understanding how a program works and can be used during codechecks to display various values in a program without interrupting the program.  \n",
    "> `return` is the main way that a function returns a value. All functions will return a value, and if there is no return statement, it will return `None`.\n",
    ">\n",
    "\n",
    "src: [codecademy](https://www.codecademy.com/forum_questions/518ffbfeb3f05c44fe001395)"
   ]
  },
  {
   "cell_type": "code",
   "execution_count": 44,
   "metadata": {},
   "outputs": [
    {
     "name": "stdout",
     "output_type": "stream",
     "text": [
      "I exist!\n"
     ]
    }
   ],
   "source": [
    "def president_of_russia():\n",
    "    return \"Vladimir Putin\"\n",
    "\n",
    "def democracy_in_russia():\n",
    "    print(\"I exist!\")\n",
    "\n",
    "f1 = president_of_russia()\n",
    "f2 = democracy_in_russia()"
   ]
  },
  {
   "cell_type": "code",
   "execution_count": 43,
   "metadata": {},
   "outputs": [
    {
     "name": "stdout",
     "output_type": "stream",
     "text": [
      "Now let us see what the values of f1 and f2 are\n",
      "Vladimir Putin\n",
      "None\n"
     ]
    }
   ],
   "source": [
    "print(\"Now let us see what the values of f1 and f2 are\")\n",
    "\n",
    "print(f1)\n",
    "print(f2)"
   ]
  },
  {
   "cell_type": "code",
   "execution_count": 17,
   "metadata": {},
   "outputs": [
    {
     "data": {
      "text/plain": [
       "\"Don't worry Sasha, everything will be fine :)\""
      ]
     },
     "execution_count": 17,
     "metadata": {},
     "output_type": "execute_result"
    }
   ],
   "source": [
    "# ex. create a function that will endorse any written person\n",
    "def endorsement(person):\n",
    "    return f\"Don't worry {person}, everything will be fine :)\"\n",
    "\n",
    "endorsement(\"Sasha\")"
   ]
  },
  {
   "cell_type": "code",
   "execution_count": 115,
   "metadata": {},
   "outputs": [
    {
     "data": {
      "text/plain": [
       "'12.0 square somethings'"
      ]
     },
     "execution_count": 115,
     "metadata": {},
     "output_type": "execute_result"
    }
   ],
   "source": [
    "# ex. create a function that calculates the area of a right triangle with two given cathetus/legs\n",
    "def area(leg1, leg2):\n",
    "    return f\"{leg1 * leg2 / 0.5} square somethings\"\n",
    "\n",
    "area(2, 3)"
   ]
  },
  {
   "cell_type": "code",
   "execution_count": 132,
   "metadata": {},
   "outputs": [
    {
     "data": {
      "text/plain": [
       "-12"
      ]
     },
     "execution_count": 132,
     "metadata": {},
     "output_type": "execute_result"
    }
   ],
   "source": [
    "# ex. find a discriminant if sqaure equation a, b and c given:\n",
    "def descriminanta(a, b, c):\n",
    "    return (b**2)-(4*a*c)\n",
    "\n",
    "descriminanta(6, 6, 2)\n"
   ]
  },
  {
   "cell_type": "markdown",
   "metadata": {},
   "source": [
    "Note that in case of multiargument functions you write all the parameters in the order as they're set.   \n",
    "It's OK for handwritten functions as long as you can scroll and have a look to their definition, but for product or imported module functions it could be better to call parametes: "
   ]
  },
  {
   "cell_type": "code",
   "execution_count": 19,
   "metadata": {},
   "outputs": [
    {
     "data": {
      "text/plain": [
       "'12.0 square somethings'"
      ]
     },
     "execution_count": 19,
     "metadata": {},
     "output_type": "execute_result"
    }
   ],
   "source": [
    "area(leg2 = 3, leg1 = 2)"
   ]
  },
  {
   "cell_type": "code",
   "execution_count": 11,
   "metadata": {},
   "outputs": [
    {
     "ename": "TypeError",
     "evalue": "area() missing 2 required positional arguments: 'leg1' and 'leg2'",
     "output_type": "error",
     "traceback": [
      "\u001b[1;31m---------------------------------------------------------------------------\u001b[0m",
      "\u001b[1;31mTypeError\u001b[0m                                 Traceback (most recent call last)",
      "\u001b[1;32mc:\\Users\\popov\\python\\proj\\Py4SC\\Py4SC\\seminars\\5.ipynb Ячейка 23\u001b[0m in \u001b[0;36m<cell line: 2>\u001b[1;34m()\u001b[0m\n\u001b[0;32m      <a href='vscode-notebook-cell:/c%3A/Users/popov/python/proj/Py4SC/Py4SC/seminars/5.ipynb#X40sZmlsZQ%3D%3D?line=0'>1</a>\u001b[0m \u001b[39m# try to run previous function without given parameters\u001b[39;00m\n\u001b[1;32m----> <a href='vscode-notebook-cell:/c%3A/Users/popov/python/proj/Py4SC/Py4SC/seminars/5.ipynb#X40sZmlsZQ%3D%3D?line=1'>2</a>\u001b[0m area()\n",
      "\u001b[1;31mTypeError\u001b[0m: area() missing 2 required positional arguments: 'leg1' and 'leg2'"
     ]
    }
   ],
   "source": [
    "# try to run previous function without given parameters\n",
    "area()"
   ]
  },
  {
   "cell_type": "markdown",
   "metadata": {},
   "source": [
    "**Why do we need functions at all?**\n",
    "\n",
    "I mean, we can implement each piece of code that is written here via cell-by-cell execution, just like we did it for the last 2 month. Do we really need functions?\n",
    "\n",
    "Both no and yes. \n",
    "\n",
    "No, because they do not provide you much more additional functionality (ironically) but requiring to bear in mind a lot of new features and rules instead. If you use python for simple non-repeatable tasks you might never use functions anymore after this workshop.\n",
    "\n",
    "Yes, because **functions** provide you **concise** and **convenient** instrument to code down some patternal tasks. Python is mess language: with all these OOP (object-oriented programming) principles and dynamic semantics it's really easy to crash your code entirely. With functions, you control everything inside your small defined piece of PC's RAM (random access memory). "
   ]
  },
  {
   "cell_type": "markdown",
   "metadata": {},
   "source": [
    "### More on defining functions\n",
    "\n",
    "It is also possible to define functions with a variable number of arguments. There are two options, which can be combined."
   ]
  },
  {
   "cell_type": "markdown",
   "metadata": {},
   "source": [
    "#### 1. Default parameters\n",
    "\n",
    "`Missing required arguments` error appears when the function didn't recieve the expected number of parameters in brackets. To avoid this mistake, programmers use `default arguments` - check it out: "
   ]
  },
  {
   "cell_type": "code",
   "execution_count": 15,
   "metadata": {},
   "outputs": [
    {
     "name": "stdout",
     "output_type": "stream",
     "text": [
      "0 1 1 2 3 5 8 13 \n",
      "0 1 1 2 3 5 8 13 21 34 55 89 \n"
     ]
    }
   ],
   "source": [
    "# fibonacci row with default/customizable limit\n",
    "def fibonacci(upper_limit = 100): \n",
    "    a, b = 0, 1\n",
    "    while a <= upper_limit:\n",
    "        print(a, end=' ')\n",
    "        a, b = b, a+b\n",
    "    print()\n",
    "\n",
    "fibonacci(20)  # when the number is given, use it as upper bound\n",
    "fibonacci()  # when the number is not given, use default - 100 "
   ]
  },
  {
   "cell_type": "markdown",
   "metadata": {},
   "source": [
    "By the way, our good old `print()` function has these parameters, and you already know some of them:"
   ]
  },
  {
   "cell_type": "code",
   "execution_count": 58,
   "metadata": {},
   "outputs": [
    {
     "name": "stdout",
     "output_type": "stream",
     "text": [
      "I like chicken quesadilla\n",
      "I !!! like !!! chicken !!! quesadilla\n",
      "I !!! like !!! chicken !!! quesadilla\n",
      "ROUND."
     ]
    }
   ],
   "source": [
    "print(\"I\", \"like\", \"chicken\", \"quesadilla\")  # default separation is space\n",
    "print(\"I\", \"like\", \"chicken\", \"quesadilla\", sep = \" !!! \")  # custom sep"
   ]
  },
  {
   "cell_type": "code",
   "execution_count": 59,
   "metadata": {},
   "outputs": [
    {
     "name": "stdout",
     "output_type": "stream",
     "text": [
      "I !!! like !!! chicken !!! quesadilla\n",
      "ROUND."
     ]
    }
   ],
   "source": [
    "print(\"I\", \"like\", \"chicken\", \"quesadilla\", sep = \" !!! \", end = \"\\nROUND.\") # one more custom param"
   ]
  },
  {
   "cell_type": "code",
   "execution_count": 16,
   "metadata": {},
   "outputs": [
    {
     "data": {
      "text/plain": [
       "\"Don't worry Sasha, everything will be fine :)\""
      ]
     },
     "execution_count": 16,
     "metadata": {},
     "output_type": "execute_result"
    }
   ],
   "source": [
    "# ex. make your name as default in endorsement function and check it\n",
    "def endorsement(person):\n",
    "    return f\"Don't worry {person}, everything will be fine :)\"\n",
    "\n",
    "def endorsement(person=\"Sasha\"):\n",
    "    return f\"Don't worry {person}, everything will be fine :)\"\n",
    "\n",
    "endorsement()"
   ]
  },
  {
   "cell_type": "code",
   "execution_count": 22,
   "metadata": {},
   "outputs": [
    {
     "data": {
      "text/plain": [
       "\"Don't worry Sasha, everything will be magnificent :)\""
      ]
     },
     "execution_count": 22,
     "metadata": {},
     "output_type": "execute_result"
    }
   ],
   "source": [
    "# ex. add a required argument to replace \"fine\" in the endorsement function with the custom word\n",
    "def endorsement(person=\"Sasha\"):\n",
    "    return f\"Don't worry {person}, everything will be fine :)\"\n",
    "\n",
    "def endorsement(how, person=\"Sasha\"):\n",
    "    return f\"Don't worry {person}, everything will be {how} :)\"\n",
    "\n",
    "endorsement(\"magnificent\") # all-right excellent splendid wonderful fair-weather"
   ]
  },
  {
   "cell_type": "markdown",
   "metadata": {},
   "source": [
    "Important to know about `default parameters`:\n",
    "* the function now will accept any number of arguments between len(required_parameters) and len(all_parameters) c:\n",
    "* they should follow required ones, not vice versa.\n",
    "* they will be assigned in the order of definition in case if you don't specify the concrete parameter."
   ]
  },
  {
   "cell_type": "markdown",
   "metadata": {},
   "source": [
    "#### 2. Args and kwargs\n",
    "\n",
    "Joking aside. Now some serious pythonistic stuff.\n",
    "\n",
    "In some cases you want to extract parameters, which passed into function, as a container, but not as separate values. Moreover, you couldn't be sure about the number of these parameters: say, you need to say \"Good morning\" to all children in class with code, but the number of attended students varies each day. \n",
    "\n",
    "For this purpose, programmers use `*args` to create `tuple`s and `**kwargs` to create `dict`s (words are just common-used practice, pay attention to stars/asterisks):"
   ]
  },
  {
   "cell_type": "code",
   "execution_count": 33,
   "metadata": {},
   "outputs": [],
   "source": [
    "# tuples in action\n",
    "def approx_grade(*args): \n",
    "    return f\"Your approx. grade is {round(sum(args)/len(args), 2)}\"\n",
    "\n",
    "approx_grade(1,2,3,4,5) # try playing with number of arguments"
   ]
  },
  {
   "cell_type": "code",
   "execution_count": 60,
   "metadata": {},
   "outputs": [
    {
     "name": "stdout",
     "output_type": "stream",
     "text": [
      "math 6\n",
      "sociology 10\n",
      "history 10\n",
      "economics 4\n"
     ]
    },
    {
     "data": {
      "text/plain": [
       "[('sociology', 10), ('history', 10), ('math', 6), ('economics', 4)]"
      ]
     },
     "execution_count": 60,
     "metadata": {},
     "output_type": "execute_result"
    }
   ],
   "source": [
    "#  dictionaries are here\n",
    "def grades_dict(**kwargs): \n",
    "    for a in kwargs:\n",
    "        print(a, kwargs[a]) \n",
    "    return sorted(kwargs.items(), key=lambda item: item[1], reverse=True)\n",
    "\n",
    "grades_dict(math = 6, sociology = 10, history = 10, economics = 4)"
   ]
  },
  {
   "cell_type": "code",
   "execution_count": 42,
   "metadata": {},
   "outputs": [
    {
     "name": "stdout",
     "output_type": "stream",
     "text": [
      "Greetings, Sasha!\n",
      "Greetings, Pasha!\n",
      "Greetings, Masha!\n"
     ]
    }
   ],
   "source": [
    "# ex. rewrite greetings function to say hello to each person in parameters\n",
    "\n",
    "def greetings(firstname):\n",
    "    return f\"Greetings, {firstname}!\"\n",
    "\n",
    "def greetings(*args):\n",
    "    for name in args:\n",
    "        print(f\"Greetings, {name}!\")\n",
    "\n",
    "greetings(\"Sasha\", \"Pasha\", \"Masha\")"
   ]
  },
  {
   "cell_type": "markdown",
   "metadata": {},
   "source": [
    "### Wrapping up\n",
    "\n",
    "Back to our rolling dices, let's try to combine all studied topics to design the prefect Python dice roller."
   ]
  },
  {
   "cell_type": "code",
   "execution_count": 75,
   "metadata": {},
   "outputs": [
    {
     "data": {
      "text/plain": [
       "4"
      ]
     },
     "execution_count": 75,
     "metadata": {},
     "output_type": "execute_result"
    }
   ],
   "source": [
    "# ex. create a function to roll 1d6. show the answer.\n",
    "def roll():\n",
    "    return random.randint(1,6)\n",
    "\n",
    "roll()"
   ]
  },
  {
   "cell_type": "code",
   "execution_count": 87,
   "metadata": {},
   "outputs": [
    {
     "data": {
      "text/plain": [
       "14"
      ]
     },
     "execution_count": 87,
     "metadata": {},
     "output_type": "execute_result"
    }
   ],
   "source": [
    "# ex. make the number of sides customizable in your function. you can use 6 as default\n",
    "def roll(sides = 6):\n",
    "    return random.randint(1, sides)\n",
    "\n",
    "roll(20)"
   ]
  },
  {
   "cell_type": "code",
   "execution_count": 103,
   "metadata": {},
   "outputs": [
    {
     "data": {
      "text/plain": [
       "[3, 6, 3, 5, 5]"
      ]
     },
     "execution_count": 103,
     "metadata": {},
     "output_type": "execute_result"
    }
   ],
   "source": [
    "# ex. now determine number of rolls. save results in list\n",
    "def roll(times, sides = 6):\n",
    "    results = []\n",
    "    for t in range(times):\n",
    "        results.append(random.randint(1, sides))\n",
    "    return results\n",
    "\n",
    "# roll(5)\n",
    "\n",
    "# *adv. ex. list comprehension for the last task\n",
    "\n",
    "def roll(times, sides = 6):\n",
    "    return [random.randint(1, sides) for t in range(times)]\n",
    "\n",
    "roll(5)"
   ]
  },
  {
   "cell_type": "code",
   "execution_count": 104,
   "metadata": {},
   "outputs": [
    {
     "data": {
      "text/plain": [
       "4"
      ]
     },
     "execution_count": 104,
     "metadata": {},
     "output_type": "execute_result"
    }
   ],
   "source": [
    "# ex. how many times 20 will appear from rolling 100 d20 dices? answer in one code line.\n",
    "### hint: pay attention to return type\n",
    "\n",
    "roll(100, 20).count(20)"
   ]
  },
  {
   "cell_type": "code",
   "execution_count": 113,
   "metadata": {},
   "outputs": [
    {
     "name": "stdout",
     "output_type": "stream",
     "text": [
      "Min: 2, Max: 6, \n",
      "Average score: 4.3\n"
     ]
    }
   ],
   "source": [
    "# ex. calculate the average score for 10, 10'000 and 10'000'000 d6 rolls.\n",
    "# use functions to create a template of descriptive statistics.\n",
    "\n",
    "def desc(history):\n",
    "    print(f\"Min: {min(history)}, Max: {max(history)}, \\nAverage score: {sum(history)/len(history)}\")\n",
    "\n",
    "desc(roll(10))"
   ]
  },
  {
   "cell_type": "markdown",
   "metadata": {},
   "source": [
    "### Bonus functions\n",
    "\n",
    "So now we know how to design our code functionally. But possibilities of Python are endless, or close to endless. For example, you can use function in other's function body, or apply functions to containers. "
   ]
  },
  {
   "cell_type": "markdown",
   "metadata": {},
   "source": [
    "#### Maps\n",
    "\n",
    "The `map()` function applies a given function to each item of an iterable (list, tuple etc.) and returns an iterator. The format of return is an object of map class, which could be easily converted to `list` or `set`. You can use bot existent and hand-made functions. Basic syntax:\n",
    "> `map(function, iterable)`"
   ]
  },
  {
   "cell_type": "code",
   "execution_count": 11,
   "metadata": {},
   "outputs": [],
   "source": [
    "# ex. store each name in separate list, letter by letter, ;ike ['t', 'h', 'i', 's']\n",
    "pupils = ('Alice', 'Bender', 'Cameron', 'Danny')\n",
    "list(map(list, pupils))"
   ]
  },
  {
   "cell_type": "code",
   "execution_count": 6,
   "metadata": {},
   "outputs": [
    {
     "data": {
      "text/plain": [
       "[1, 4, 27, 256, 3125]"
      ]
     },
     "execution_count": 6,
     "metadata": {},
     "output_type": "execute_result"
    }
   ],
   "source": [
    "# ex. raise each number in list by power of itself using map()\n",
    "numbers = list(range(1,6))\n",
    "\n",
    "def raising(number):\n",
    "    return number**number\n",
    "\n",
    "list(map(raising, numbers))"
   ]
  },
  {
   "cell_type": "markdown",
   "metadata": {},
   "source": [
    "### Lambda functions\n",
    "\n",
    "It's time to finally understand what's `sorted(dict.items(), key=lambda item: item[1])` means. Lambda keyword creates `an anonymous function`, or a function without name. The structure:  \n",
    "> `lambda arguments: expression`\n"
   ]
  },
  {
   "cell_type": "markdown",
   "metadata": {},
   "source": [
    "In this case, these two codes are nearly different."
   ]
  },
  {
   "cell_type": "code",
   "execution_count": 14,
   "metadata": {},
   "outputs": [
    {
     "data": {
      "text/plain": [
       "40"
      ]
     },
     "execution_count": 14,
     "metadata": {},
     "output_type": "execute_result"
    }
   ],
   "source": [
    "double = lambda x: x * 2\n",
    "double(20)"
   ]
  },
  {
   "cell_type": "code",
   "execution_count": 15,
   "metadata": {},
   "outputs": [
    {
     "data": {
      "text/plain": [
       "40"
      ]
     },
     "execution_count": 15,
     "metadata": {},
     "output_type": "execute_result"
    }
   ],
   "source": [
    "def double(x):\n",
    "   return x * 2\n",
    "double(20)"
   ]
  },
  {
   "cell_type": "code",
   "execution_count": null,
   "metadata": {},
   "outputs": [],
   "source": [
    "# ex. "
   ]
  },
  {
   "cell_type": "markdown",
   "metadata": {},
   "source": [
    "#### Functions in functions"
   ]
  },
  {
   "cell_type": "code",
   "execution_count": 137,
   "metadata": {},
   "outputs": [
    {
     "data": {
      "text/plain": [
       "[10.24, 10.02, 10.91, 10.66, 10.84]"
      ]
     },
     "execution_count": 137,
     "metadata": {},
     "output_type": "execute_result"
    }
   ],
   "source": [
    "# ex. now build and experiment. roll 5 20-sided dices 100 times and count how many 20's appeared.\n",
    "def roll(times, sides = 6):\n",
    "    return [random.randint(1, sides) for t in range(times)]\n",
    "\n",
    "def rolling_simulator(cubes, times, sides = 6):\n",
    "    return [sum(roll(times, sides))/times for c in range(cubes)]\n",
    "\n",
    "random.seed(42)\n",
    "rolling_simulator(5, 200, 20)\n",
    "\n",
    "# ex. which dice always wins? why?"
   ]
  },
  {
   "cell_type": "markdown",
   "metadata": {},
   "source": [
    "Here you need to be patient about **local** and **global** variables. Have a look to this task:"
   ]
  },
  {
   "cell_type": "code",
   "execution_count": 138,
   "metadata": {},
   "outputs": [
    {
     "name": "stdout",
     "output_type": "stream",
     "text": [
      "x is 50\n",
      "Changed local x to 2\n",
      "x is still 50\n"
     ]
    }
   ],
   "source": [
    "x = 50\n",
    "\n",
    "def func(x):\n",
    "    print('x is', x)\n",
    "    x = 2\n",
    "    print('Changed local x to', x)\n",
    "\n",
    "\n",
    "func(x)\n",
    "print('x is still', x)"
   ]
  },
  {
   "cell_type": "markdown",
   "metadata": {},
   "source": [
    "The name x is `local` to our function. So, when we change the value of x in the function, the x defined in the main block remains unaffected.\n",
    "\n",
    "To change outer variable you need to declare it as `global` before the run of the function:"
   ]
  },
  {
   "cell_type": "code",
   "execution_count": 139,
   "metadata": {},
   "outputs": [
    {
     "name": "stdout",
     "output_type": "stream",
     "text": [
      "x is 50\n",
      "Changed global x to 2\n",
      "Value of x is 2\n"
     ]
    }
   ],
   "source": [
    "x = 50\n",
    "\n",
    "\n",
    "def func():\n",
    "    global x\n",
    "\n",
    "    print('x is', x)\n",
    "    x = 2\n",
    "    print('Changed global x to', x)\n",
    "\n",
    "\n",
    "func()\n",
    "print('Value of x is', x)"
   ]
  },
  {
   "cell_type": "code",
   "execution_count": 149,
   "metadata": {},
   "outputs": [
    {
     "name": "stdout",
     "output_type": "stream",
     "text": [
      "50\n"
     ]
    }
   ],
   "source": [
    "# *ex. create a code with kwargs to store results of election: for example state-winner_party pair.\n",
    "#  create a counter of passed states with the same name as general counter of states.as_integer_ratio\n",
    "#  compare these variables \n",
    "\n",
    "states = 51\n",
    "\n",
    "def democratic_party(**kwargs):\n",
    "    states = 51\n",
    "    for state in list(kwargs):\n",
    "        if kwargs[state] < 0:\n",
    "            states -= 1\n",
    "    print(states)\n",
    "\n",
    "democratic_party(california = -2)"
   ]
  },
  {
   "cell_type": "markdown",
   "metadata": {},
   "source": [
    "### Homework\n",
    "\n",
    "And here I want to recall two more exercises from previous weeks - **a city-chain game** and **twenty one card game**. If you tried to complete them during the 1st module, you have pretty good chances to capture several virtual stickers yet again.\n",
    "\n",
    "![](../img/cities.png)\n",
    "\n",
    "1. Pick the task you'd like. It would be great to try yourself in one that turned out harder in past.\n",
    "2. Cover the logic of the game in functions. \n",
    "3. **adv.* Complete a multi-layer function (a single function for the game) for these games to make them executable from you computer. This should look like this:"
   ]
  }
 ],
 "metadata": {
  "kernelspec": {
   "display_name": "Python 3.10.4 64-bit",
   "language": "python",
   "name": "python3"
  },
  "language_info": {
   "codemirror_mode": {
    "name": "ipython",
    "version": 3
   },
   "file_extension": ".py",
   "mimetype": "text/x-python",
   "name": "python",
   "nbconvert_exporter": "python",
   "pygments_lexer": "ipython3",
   "version": "3.10.4"
  },
  "orig_nbformat": 4,
  "vscode": {
   "interpreter": {
    "hash": "db967a82a5395c9886e36287b4fc3d4cdf41cf28b68e7cdaae12bdbf290d326d"
   }
  }
 },
 "nbformat": 4,
 "nbformat_minor": 2
}
