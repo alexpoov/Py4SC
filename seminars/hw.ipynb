{
 "cells": [
  {
   "cell_type": "markdown",
   "metadata": {},
   "source": [
    "# Homework Assignment - Basics of Programming in Python (Fall'22)"
   ]
  },
  {
   "cell_type": "markdown",
   "metadata": {},
   "source": [
    "### Description \n"
   ]
  },
  {
   "cell_type": "markdown",
   "metadata": {},
   "source": [
    "*from [wiki](https://en.wikipedia.org/wiki/2021_Russian_legislative_election#Electoral_system)*: 19th of September, 2021, Legislative elections were finished in Russia. At stake were 450 seats in the State Duma of the 8th convocation, the lower house of the Federal Assembly. Each seat is allocated through a **parallel voting**: half of the seats (225) are elected by party-list proportional representation (PLPR) with a minimum of 5% electoral threshold of number of votes that enable the party to get seats. The other half elected in 225 single-member constituencies by first-past-the-post voting (plurality voting).\n",
    "\n",
    "In this assigment, we offer you to code down an election process similar to Russian one, with different voting systems, including:\n",
    "* Single-Member Plurality Voting (first-past-the-post)\n",
    "* Borda count\n",
    "* Condorcet method\n",
    "* Approval voting\n",
    "* Range coting"
   ]
  },
  {
   "cell_type": "markdown",
   "metadata": {},
   "source": [
    "### Goals"
   ]
  },
  {
   "cell_type": "markdown",
   "metadata": {},
   "source": [
    "During the Homework Assignment, you will:\n",
    "* prepare structurised report in Jupyter Notebook format that contain both detailed problem solving logic and its implementation with code;\n",
    "* practice in basics of Python (variables, sequences, control flows, etc.);\n",
    "* practice in stating conditions and and logical expressions from tasks of your assignment;\n",
    "* apply acquired programming skills for solving practical political science problem."
   ]
  },
  {
   "cell_type": "markdown",
   "metadata": {},
   "source": [
    "### Organizational stuff"
   ]
  },
  {
   "cell_type": "markdown",
   "metadata": {},
   "source": [
    "* You should download both parts of homework as `.ipynb` files to this Google Drive (link) before the deadline (or SmartLMS?).\n",
    "    * When uploading multiple solutions, the last one before the deadline will be considered final (but the previous ones can help with the appeal). \n",
    "    * Works submitted after the deadline will be penalized according to the progressive system.\n",
    "* **Any type of cheating will be penalized**. For example:\n",
    "    * Non-compilable code won't be considered for the assessment.\n",
    "    * Any type of copy-pasting part or all of the notebook will cause 0 both to subject and object of copy-pasting.\n",
    "    * We are not against helping each other: we are against blind reprinting."
   ]
  },
  {
   "cell_type": "markdown",
   "metadata": {},
   "source": [
    "## !!\n",
    "\n",
    "`нужно описать партии, ситуацию, всё поподробнее что в этой части` \n",
    "\n",
    "также стоит добавить:  \n",
    "`больше заданий на сравнения/логические выражения`  \n",
    "`#4 задание на требование определённого вывода`  \n",
    "`#5 задание на слайс`  \n",
    "`#8 подсчёт голосов в dict`\n"
   ]
  },
  {
   "cell_type": "markdown",
   "metadata": {},
   "source": [
    "### Part I\n",
    "\n",
    "**Deadline: October 16, 11:59 pm**\n",
    "\n",
    "In this part, you play the role of the Central Election Commission analyst. You need to prepare collected bulletins for consequent counting: check ballots for spoilage, select candidates who passed the minimum threshold, and compile a report on preliminary analysis.\n",
    "\n",
    "There are 7 parties in our country - here's General List of Parties:\n",
    "1. Union Party\n",
    "2. Red Party \n",
    "3. Justice and Truth\n",
    "4. Social Democratic Party\n",
    "5. Party for People\n",
    "6. The Greens\n",
    "7. Pirate Party\n",
    "\n",
    "And there are two types of bulletins:\n",
    "1. ones arranged in descending order of candidate priority, e.g.:  \n",
    "`['The Greens', 'Party for People', 'Social Democratic Party', 'Pirate Party', 'Justice and Truth', 'Union Party', 'Red Party']` - The Greens are the first choice here\n",
    "2. with ranked positions according to General List of Parties, e.g.:\n",
    "`[3, 1, 2, 5, 4, 6, 7]` - Here the Red Party has the first priority for electioneer as it's position marked with 1st place."
   ]
  },
  {
   "cell_type": "code",
   "execution_count": 12,
   "metadata": {},
   "outputs": [],
   "source": [
    "['Union Party', 'Red Party', 'Justice and Truth', 'Social Democratic Party', 'Party for People', 'The Greens', 'Pirate Party']general_list_of_parties = "
   ]
  },
  {
   "cell_type": "code",
   "execution_count": 13,
   "metadata": {},
   "outputs": [],
   "source": [
    "# teacher code - generating data\n",
    "import random\n",
    "votes = []\n",
    "\n",
    "basic_list1 = [1, 2, 3, 4, 5, 6, 7]\n",
    "basic_list2 = ['Union Party', 'Red Party', 'Justice and Truth', 'Social Democratic Party', 'Party for People', 'The Greens', 'Pirate Party']\n",
    "\n",
    "for i in range(1000):\n",
    "    j = basic_list2.copy()\n",
    "    k = basic_list1.copy()\n",
    "    random.shuffle(j)\n",
    "    random.shuffle(k)\n",
    "    votes.append(j)\n",
    "    votes.append(k)\n",
    "\n",
    "# import numpy as np\n",
    "# np.random.choice(5, 3, p=[0.2, 0.2, 0.2, 0.2, 0.2])"
   ]
  },
  {
   "cell_type": "code",
   "execution_count": 14,
   "metadata": {},
   "outputs": [
    {
     "name": "stdout",
     "output_type": "stream",
     "text": [
      "['The Greens', 'Union Party', 'Red Party', 'Social Democratic Party', 'Pirate Party', 'Justice and Truth', 'Party for People']\n",
      "[5, 7, 6, 4, 2, 3, 1]\n",
      "['The Greens', 'Social Democratic Party', 'Red Party', 'Party for People', 'Justice and Truth', 'Union Party', 'Pirate Party']\n",
      "[5, 3, 4, 2, 1, 6, 7]\n",
      "['Union Party', 'Justice and Truth', 'Pirate Party', 'The Greens', 'Red Party', 'Party for People', 'Social Democratic Party']\n"
     ]
    }
   ],
   "source": [
    "for i in range(5):\n",
    "    print(votes[i])"
   ]
  },
  {
   "cell_type": "markdown",
   "metadata": {},
   "source": [
    "#### Tasks 1.1-1.2\n",
    "\n",
    "All votes are stored together into one object. Separate this object to two containers according to bulletin type: save all bulletins with names in it to `votes_names`, others - to `votes_ranks`. After aggregating, display the sentence with lengths of each sublist (for this recall strings formatting).\n",
    "\n",
    "example output: `There are 1234 ballots with names and 1111 ballots with rankings.`"
   ]
  },
  {
   "cell_type": "code",
   "execution_count": 64,
   "metadata": {},
   "outputs": [
    {
     "name": "stdout",
     "output_type": "stream",
     "text": [
      "There are 1000 ballots with names and 1000 ballots with rankings.\n"
     ]
    }
   ],
   "source": [
    "# 1.1-1.2 answers\n",
    "# create two new empty lists\n",
    "votes_names = []\n",
    "votes_ranks = []\n",
    "\n",
    "# Sort out the ballots in `votes` to new lists\n",
    "for i in votes:\n",
    "    if type(i[0]) == str:\n",
    "        votes_names.append(i)\n",
    "    else:\n",
    "        votes_ranks.append(i)\n",
    "\n",
    "# Display the message\n",
    "print(f\"There are {len(votes_names)} ballots with names and {len(votes_ranks)} ballots with rankings.\")"
   ]
  },
  {
   "cell_type": "markdown",
   "metadata": {},
   "source": [
    "#### Task 1.3-1.6\n",
    "\n",
    "Now we need to check our new lists for correctness. Let's begin with `votes_ranks`: some ballots here can contain zeros, which means voter did not include this particular party to her vote. There are some requirements for `votes_ranks`:\n",
    "\n",
    "1. All ballots have the same length equal to the number of parties;\n",
    "1. As we have 7 parties in the race, the maximum place is 7th;\n",
    "2. There should be at least 1 vote in each ballot.  \n",
    "\n",
    "Check all three requirements in following code cells: **delete the ballot from the list if it failed to meet one of requirements**. Additionally you need to **count how many ballots were removed** after the check and display this number with some message like *\"Number of incorrect bulletins\"* (task 1.6). "
   ]
  },
  {
   "cell_type": "code",
   "execution_count": 62,
   "metadata": {},
   "outputs": [
    {
     "name": "stdout",
     "output_type": "stream",
     "text": [
      "Number of incorrect bulletins: 0\n"
     ]
    }
   ],
   "source": [
    "# 1.3-1.6 answer \n",
    "incorrect_ranks = 0\n",
    "\n",
    "# Check that the requirements are met\n",
    "for i in votes_ranks.copy():\n",
    "    if len(i) != 7 or max(i) > 7 or sum(i) < 1:\n",
    "        votes_names.remove(i)\n",
    "        incorrect += 1\n",
    "\n",
    "# Display the message below\n",
    "print(\"Number of incorrect bulletins:\", incorrect_ranks)"
   ]
  },
  {
   "cell_type": "markdown",
   "metadata": {},
   "source": [
    "#### Tasks 1.7-1.10\n",
    "\n",
    " Now let's return to our `votes_names` list. There are some requirements too:\n",
    "\n",
    "1. The number of items on the ballot should not exceed the number of parties in the general list of parties;\n",
    "2. At least one party should be chosen by each voter;  \n",
    "3. Ballots should contain only names from the general list of parties, no misprints or third-party names.\n",
    "\n",
    "Check all three requirements in following code cells: **delete the ballot from the list if it failed to meet one of requirements**. Additionally you need to **count how many ballots were removed** after the check and display this number with some message like *\"Number of incorrect bulletins\"* (task 1.6). \n"
   ]
  },
  {
   "cell_type": "code",
   "execution_count": 65,
   "metadata": {},
   "outputs": [
    {
     "name": "stdout",
     "output_type": "stream",
     "text": [
      "Number of incorrect bulletins: 0\n"
     ]
    }
   ],
   "source": [
    "# 1.7-1.10 answer \n",
    "incorrect = 0\n",
    "\n",
    "# Check that the requirements are met\n",
    "for i in votes_names.copy():\n",
    "    if len(i) > 7 or len(i) < 1:\n",
    "        votes_names.remove(i)\n",
    "        incorrect += 1\n",
    "\n",
    "for i in votes_names.copy():\n",
    "    for j in i.copy():\n",
    "        if j not in general_list_of_parties:\n",
    "            votes_names.remove(i)\n",
    "            incorrect += 1\n",
    "\n",
    "# Display the message below\n",
    "print(\"Number of incorrect bulletins:\", incorrect)"
   ]
  },
  {
   "cell_type": "markdown",
   "metadata": {},
   "source": [
    "***Advanced task**. Complete tasks 1.7-1.10 with [list comprehensions](https://www.w3schools.com/python/python_lists_comprehension.asp)"
   ]
  },
  {
   "cell_type": "code",
   "execution_count": 39,
   "metadata": {},
   "outputs": [
    {
     "name": "stdout",
     "output_type": "stream",
     "text": [
      "Number of incorrect bulletins: 0\n"
     ]
    }
   ],
   "source": [
    "votes_names_cleared = [vote for vote in votes_names if len(vote) >= 1 and len(vote) <= 7]\n",
    "# votes_names_cleared = [vote for vote in votes_names for party in vote if party in general_list_of_parties]\n",
    "# как сука закодить второе условие нахуй??\n",
    "\n",
    "print(\"Number of incorrect bulletins:\", len(votes_names) - len(votes_names_cleared))"
   ]
  },
  {
   "cell_type": "markdown",
   "metadata": {},
   "source": [
    "#### Tasks 1.11-1.12\n",
    "\n",
    "Now we need to check all parties for passing the required 5% threshold. Calculate the share of votes for each party separately and display a list of failed parties along with the corresponding message.\n",
    "\n",
    "example output: `Union Party failed to pass the 5% threshold`"
   ]
  },
  {
   "cell_type": "code",
   "execution_count": 58,
   "metadata": {},
   "outputs": [
    {
     "name": "stdout",
     "output_type": "stream",
     "text": [
      "All parties have passed the treshold\n"
     ]
    }
   ],
   "source": [
    "# 1.11-1.12 answer \n",
    "\n",
    "# create a dictionary where you will count occurrences\n",
    "number_of_votes = {el:0 for el in general_list_of_parties}\n",
    "# create a list of failed parties\n",
    "failed_parties = []\n",
    "\n",
    "# calculate total votes for each party\n",
    "for vote in votes_names:\n",
    "    for party in vote:\n",
    "        number_of_votes[party] += vote.count(party)\n",
    "\n",
    "# calculate the share of each party: if failed, append to the list\n",
    "for key in number_of_votes:\n",
    "    number_of_votes[key] = number_of_votes[key] / 1000\n",
    "    if number_of_votes[key] < 0.05:\n",
    "        failed_parties.append(key)\n",
    "\n",
    "# display message\n",
    "print(\"All parties have passed the treshold\") if len(failed_parties) == 0 else print(failed_parties, \"failed the treshols\")"
   ]
  },
  {
   "cell_type": "markdown",
   "metadata": {},
   "source": [
    "#### Task 1.13-1.14\n",
    "\n",
    "It is uncomfortable to store data in two different formats. Let's:  \n",
    "1. convert `votes_ranks` to `votes_names` format;  \n",
    "2. bind this new list with already existing names ballots.\n",
    "\n",
    "How to convert: use `general_list_of_parties` to recall the order of parties in the ballot, e.g.:\n",
    "\n",
    "`[0,0,1,0,3,0,2]` -> `['Justice and Truth', 'Pirate Party', 'Party for People']` \n",
    "\n",
    "*Hint: to use this, you need to combine [this piece of code](https://stackoverflow.com/a/6618543/10803427) with some condition for zeros*"
   ]
  },
  {
   "cell_type": "code",
   "execution_count": 90,
   "metadata": {},
   "outputs": [],
   "source": [
    "# 1.13-1.14 answer \n",
    "\n",
    "# create a new list\n",
    "newlist = []\n",
    "\n",
    "# fill the gaps in the code\n",
    "for vote in votes_ranks:\n",
    "    newlist.append([x for y, x in sorted(zip(vote, general_list_of_parties.copy())) if y != 0])\n",
    "\n",
    "# bind two lists\n",
    "votes_names += newlist"
   ]
  },
  {
   "cell_type": "markdown",
   "metadata": {},
   "source": [
    "### Part II\n",
    "\n",
    "**Deadline: October 23, 11:59 pm**\n",
    "\n",
    "For the second part of your homework, you need to calculate the winner of election with different voting techniques. All descriptions were taken from the ***Voting Methods*** paper from [Stanford Encyclopedia of Philosophy Archive](https://plato.stanford.edu/archives/fall2019/entries/voting-methods/#toc).\n",
    "\n",
    "We will store each winner to the `final_results` dictionary to eventually compare all methods between one another."
   ]
  },
  {
   "cell_type": "code",
   "execution_count": 123,
   "metadata": {},
   "outputs": [],
   "source": [
    "# Don't forget to run this code line!\n",
    "final_results = dict()"
   ]
  },
  {
   "cell_type": "markdown",
   "metadata": {},
   "source": [
    "#### Single-Member Plurality Voting (first-past-the-post)\n",
    "\n",
    "Plurality rule (also called First-Past-the-Post rule) is the simplest method of votes counting, which is widely used despite its known problems.\n",
    "\n",
    "> Description: \n",
    ">\n",
    "> Each voter selects one candidate (or none if voters can abstain), and the candidate(s) with the most votes win."
   ]
  },
  {
   "cell_type": "markdown",
   "metadata": {},
   "source": [
    "To count with first-past-the-post voting method, recall which object stores counts of favourite candidates. \n",
    "1. Count number of 1st votes all over the ballots we have. Store results in some dictionary with party name as key and number of votes as value;  \n",
    "2. Rearrange the dictionary with counted votes in a descending order by number of votes;   \n",
    "4. Save the winner to `final_results` dictionary;  \n",
    "3. Print a short news message announcing the results of the election (use string formatting to display name and number of votes, no copypasta here):  \n",
    "\n",
    "*example output:*  \n",
    "`The results of the last election: `  \n",
    "`According to the first-past-the-post voting system, Pirate Party won with 9999 votes!`"
   ]
  },
  {
   "cell_type": "code",
   "execution_count": 132,
   "metadata": {},
   "outputs": [
    {
     "name": "stdout",
     "output_type": "stream",
     "text": [
      "The results of the last election: \n",
      "According to the first-past-the-post voting system, Union Party won with 310 votes!\n"
     ]
    }
   ],
   "source": [
    "# Count 1st votes\n",
    "firsts = [vote[0] for vote in votes_names]\n",
    "\n",
    "pluralism = dict()\n",
    "\n",
    "pluralism['Union Party'] = firsts.count('Union Party')\n",
    "pluralism['Red Party'] = firsts.count('Red Party')\n",
    "pluralism['Justice and Truth'] = firsts.count('Justice and Truth')\n",
    "pluralism['Social Democratic Party'] = firsts.count('Social Democratic Party')\n",
    "pluralism['Party for People'] = firsts.count('Party for People')\n",
    "pluralism['The Greens'] = firsts.count('The Greens')\n",
    "pluralism['Pirate Party'] = firsts.count('Pirate Party')\n",
    "\n",
    "pluralism = sorted(pluralism.items(), key=lambda item: item[1], reverse=True)\n",
    "\n",
    "# Display the message\n",
    "print(f\"The results of the last election: \\nAccording to the first-past-the-post voting system, {pluralism[0][0]} won with {pluralism[0][1]} votes!\")\n",
    "\n",
    "# Save the result\n",
    "final_results['pluralism'] = pluralism[0][0]"
   ]
  },
  {
   "cell_type": "markdown",
   "metadata": {},
   "source": [
    "***Advanced task**. Calculate the number of votes using dict comprehensions. The logic is similar with list comprehensions: google it by yourself ;-) "
   ]
  },
  {
   "cell_type": "code",
   "execution_count": 127,
   "metadata": {},
   "outputs": [],
   "source": [
    "# one line, bonus point. let's go!\n",
    "pluralism = {party: firsts.count(party) for party in general_list_of_parties}"
   ]
  },
  {
   "cell_type": "markdown",
   "metadata": {},
   "source": [
    "#### Borda Count\n",
    "\n",
    "Borda Counting is the most popular instance of ranking methods. Despite they are much more expensive than selecting a single candidate, they demonstrate more fair calculations.\n",
    "\n",
    "> Description: \n",
    ">\n",
    ">Each voter provides a ranking of the candidates. Then, a score (the Borda score) is assigned to each candidate by a voter as follows: If there are n candidates, give n−1 points to the candidate ranked first, n−2 points to the candidate ranked second,…, 1 point to the candidate ranked second to last and 0 points to candidate ranked last."
   ]
  },
  {
   "cell_type": "markdown",
   "metadata": {},
   "source": [
    "To complete Borda count, you need:\n",
    "1. Create new dict to store Borda scores;\n",
    "2. Increase the score of party according to its position in ballot; \n",
    "3. Rearrange the dictionary with counted votes in a descending order by number of votes;   \n",
    "4. Save the Borda winner to `final_results` dictionary;  \n",
    "6. Print a short news message announcing the results of the election (use string formatting to display name and number of votes, no copypasta here either): \n",
    "\n",
    "*example output:*  \n",
    "`The results of the last election: `  \n",
    "`According to the Borda system, Pirate Party won with 9999 votes!`\n",
    "\n",
    "*Note: as here we range all the candidates from the ballot, we need to determine how many parties were included by voter. This variable could also be used as a descending counter for Borda scores.*"
   ]
  },
  {
   "cell_type": "code",
   "execution_count": 134,
   "metadata": {},
   "outputs": [
    {
     "name": "stdout",
     "output_type": "stream",
     "text": [
      "The results of the last election: \n",
      "According to the Borda system, Social Democratic Party won with 6132 votes!\n"
     ]
    }
   ],
   "source": [
    "# Create a dict for borda scores\n",
    "borda = {party: 0 for party in general_list_of_parties}\n",
    "\n",
    "# Calculate number of votes for each party according to Borda rule\n",
    "for vote in votes_names:\n",
    "    k = len(vote)-1\n",
    "    for party in vote:\n",
    "        borda[party] += k\n",
    "        k -=1\n",
    "\n",
    "# Sort this dict by value in descending order\n",
    "borda = sorted(borda.items(), key=lambda item: item[1], reverse=True)\n",
    "\n",
    "# Display the message\n",
    "print(f\"The results of the last election: \\nAccording to the Borda system, {borda[0][0]} won with {borda[0][1]} votes!\")\n",
    "\n",
    "# Save the result\n",
    "final_results['borda'] = borda[0][0]"
   ]
  },
  {
   "cell_type": "markdown",
   "metadata": {},
   "source": [
    "#### Condorcet Count\n",
    "\n",
    "AAAAA\n",
    "\n",
    "> Description: \n",
    ">\n",
    "> AAAAA"
   ]
  }
 ],
 "metadata": {
  "kernelspec": {
   "display_name": "Python 3.10.4 64-bit",
   "language": "python",
   "name": "python3"
  },
  "language_info": {
   "codemirror_mode": {
    "name": "ipython",
    "version": 3
   },
   "file_extension": ".py",
   "mimetype": "text/x-python",
   "name": "python",
   "nbconvert_exporter": "python",
   "pygments_lexer": "ipython3",
   "version": "3.10.4"
  },
  "orig_nbformat": 4,
  "vscode": {
   "interpreter": {
    "hash": "db967a82a5395c9886e36287b4fc3d4cdf41cf28b68e7cdaae12bdbf290d326d"
   }
  }
 },
 "nbformat": 4,
 "nbformat_minor": 2
}
