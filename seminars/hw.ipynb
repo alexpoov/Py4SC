{
 "cells": [
  {
   "cell_type": "markdown",
   "metadata": {},
   "source": [
    "# Homework Assigment - Basics of Programming in Python (Fall'22)\n",
    "\n",
    "In this assigment, you will apply topics of Python programming covered before to code down different voting systems to Russian elections. "
   ]
  },
  {
   "cell_type": "markdown",
   "metadata": {},
   "source": [
    "### Description \n",
    "*from [wiki](https://en.wikipedia.org/wiki/2021_Russian_legislative_election#Electoral_system)*: 19th of September, 2021, Legislative elections were finished in Russia. At stake were 450 seats in the State Duma of the 8th convocation, the lower house of the Federal Assembly. Each seat is allocated through a **parallel voting**: half of the seats (225) are elected by party-list proportional representation (PLPR) with a minimum of 5% electoral threshold of number of votes that enable the party to get seats. The other half elected in 225 single-member constituencies by first-past-the-post voting (plurality voting).\n",
    "\n",
    "In this assigment, we offer you to code down the process of election with different voting systems, including:\n",
    "* First-past-the-post voting\n",
    "* Borda count\n",
    "* Condorcet method\n",
    "* Approval voting\n",
    "* Range coting\n"
   ]
  },
  {
   "cell_type": "markdown",
   "metadata": {},
   "source": [
    "### Goals\n",
    "During the Homework Assignment, you will:\n",
    "* prepare structurised report in Jupyter Notebook format that contain both detailed problem solving logic and its implementation with code;\n",
    "* practice in basics of Python (variables, sequences, control flows, etc.) \n",
    "* practice in stating conditions and and logical expressions from tasks of your assignment\n",
    "* apply acquired programming skills for solving practical political science problem"
   ]
  },
  {
   "cell_type": "markdown",
   "metadata": {},
   "source": [
    "### Organizational stuff\n",
    "\n",
    "* You should download both parts of homework as `.ipynb` files to this Google Drive (link) before the deadline (or SmartLMS?).\n",
    "    * When uploading multiple solutions, the last one before the deadline will be considered final (but the previous ones can help with the appeal). \n",
    "    * Works submitted after the deadline will be penalized according to the progressive system (There is no sence to send the work 24h after the deadline, it won't be assessed).\n",
    "* **Any type of cheating will be penalized**. For example:\n",
    "    * Non-compilable code won't be considered for the assessment.\n",
    "    * Any type of copy-pasting part or all of the notebook will cause 0 both to subject and object of copy-pasting.\n",
    "    * We are not against helping each other: we are against blind reprinting."
   ]
  },
  {
   "cell_type": "markdown",
   "metadata": {},
   "source": [
    "### Part I\n",
    "\n",
    "**Deadline: October 16, 11:59 pm**\n",
    "\n",
    "In this part, you need to store, aggregate and prepate electoral data for consequent calculation of votes. "
   ]
  },
  {
   "cell_type": "markdown",
   "metadata": {},
   "source": [
    "### Part II\n",
    "\n",
    "**Deadline: October 23, 11:59 pm**\n",
    "\n",
    "For the second part of your homework, you need to calculate the winner of election with different voting techniques."
   ]
  },
  {
   "cell_type": "markdown",
   "metadata": {},
   "source": [
    "#### Single-Member Plurality Voting (first-past-the-post)\n",
    "\n",
    "*Description here*"
   ]
  },
  {
   "cell_type": "code",
   "execution_count": 23,
   "metadata": {},
   "outputs": [
    {
     "data": {
      "text/plain": [
       "'\\nafter that, they should be stored in some common format to prepare them for voting\\n'"
      ]
     },
     "execution_count": 23,
     "metadata": {},
     "output_type": "execute_result"
    }
   ],
   "source": [
    "'''\n",
    "in this task we need to generate some distribution of votes with different styles: \n",
    "* ordered: [candidate3, candidate2, candidate1] (str)\n",
    "* ranked: [3, 2, 1] (int)\n",
    "\n",
    "moreover, some bulletins should contain errors (e.g. 2 object long, repeated values, etc. to check conditions)\n",
    "'''\n",
    "\n",
    "'''\n",
    "after that, they should be stored in some common format to prepare them for voting\n",
    "'''"
   ]
  },
  {
   "cell_type": "code",
   "execution_count": 2,
   "metadata": {},
   "outputs": [
    {
     "data": {
      "text/plain": [
       "[2, 1, 4, 3]"
      ]
     },
     "execution_count": 2,
     "metadata": {},
     "output_type": "execute_result"
    }
   ],
   "source": [
    "from random import shuffle\n",
    "\n",
    "new_list = [1,2,3,4]\n",
    "shuffle(new_list)\n",
    "new_list"
   ]
  },
  {
   "cell_type": "code",
   "execution_count": 22,
   "metadata": {},
   "outputs": [
    {
     "data": {
      "text/plain": [
       "array([2, 2, 3])"
      ]
     },
     "execution_count": 22,
     "metadata": {},
     "output_type": "execute_result"
    }
   ],
   "source": [
    "import numpy as np\n",
    "np.random.choice(5, 3, p=[0.1, 0, 0.3, 0.6, 0])\n"
   ]
  }
 ],
 "metadata": {
  "kernelspec": {
   "display_name": "Python 3.10.4 64-bit",
   "language": "python",
   "name": "python3"
  },
  "language_info": {
   "codemirror_mode": {
    "name": "ipython",
    "version": 3
   },
   "file_extension": ".py",
   "mimetype": "text/x-python",
   "name": "python",
   "nbconvert_exporter": "python",
   "pygments_lexer": "ipython3",
   "version": "3.10.4"
  },
  "orig_nbformat": 4,
  "vscode": {
   "interpreter": {
    "hash": "db967a82a5395c9886e36287b4fc3d4cdf41cf28b68e7cdaae12bdbf290d326d"
   }
  }
 },
 "nbformat": 4,
 "nbformat_minor": 2
}
