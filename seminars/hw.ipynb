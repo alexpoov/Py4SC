{
 "cells": [
  {
   "cell_type": "markdown",
   "metadata": {},
   "source": [
    "# Homework Assignment - Basics of Programming in Python (Fall'22)"
   ]
  },
  {
   "cell_type": "markdown",
   "metadata": {},
   "source": [
    "### Description \n",
    "*from [wiki](https://en.wikipedia.org/wiki/2021_Russian_legislative_election#Electoral_system)*: 19th of September, 2021, Legislative elections were finished in Russia. At stake were 450 seats in the State Duma of the 8th convocation, the lower house of the Federal Assembly. Each seat is allocated through a **parallel voting**: half of the seats (225) are elected by party-list proportional representation (PLPR) with a minimum of 5% electoral threshold of number of votes that enable the party to get seats. The other half elected in 225 single-member constituencies by first-past-the-post voting (plurality voting).\n",
    "\n",
    "In this assigment, we offer you to code down the process of election with different voting systems, including:\n",
    "* First-past-the-post voting\n",
    "* Borda count\n",
    "* Condorcet method\n",
    "* Approval voting\n",
    "* Range coting\n"
   ]
  },
  {
   "cell_type": "markdown",
   "metadata": {},
   "source": [
    "### Goals\n",
    "During the Homework Assignment, you will:\n",
    "* prepare structurised report in Jupyter Notebook format that contain both detailed problem solving logic and its implementation with code;\n",
    "* practice in basics of Python (variables, sequences, control flows, etc.) \n",
    "* practice in stating conditions and and logical expressions from tasks of your assignment\n",
    "* apply acquired programming skills for solving practical political science problem"
   ]
  },
  {
   "cell_type": "markdown",
   "metadata": {},
   "source": [
    "### Organizational stuff\n",
    "\n",
    "* You should download both parts of homework as `.ipynb` files to this Google Drive (link) before the deadline (or SmartLMS?).\n",
    "    * When uploading multiple solutions, the last one before the deadline will be considered final (but the previous ones can help with the appeal). \n",
    "    * Works submitted after the deadline will be penalized according to the progressive system (There is no sence to send the work 24h after the deadline, it won't be assessed).\n",
    "* **Any type of cheating will be penalized**. For example:\n",
    "    * Non-compilable code won't be considered for the assessment.\n",
    "    * Any type of copy-pasting part or all of the notebook will cause 0 both to subject and object of copy-pasting.\n",
    "    * We are not against helping each other: we are against blind reprinting."
   ]
  },
  {
   "cell_type": "markdown",
   "metadata": {},
   "source": [
    "### Part I\n",
    "\n",
    "**Deadline: October 16, 11:59 pm**\n",
    "\n",
    "In this part, you need to store, aggregate and prepare electoral data for consequent calculation of votes. \n",
    "`нужно описать партии, ситуацию, всё поподробнее что в этой части`"
   ]
  },
  {
   "cell_type": "code",
   "execution_count": 110,
   "metadata": {},
   "outputs": [],
   "source": [
    "# teacher code - generating data\n",
    "votes = []\n",
    "\n",
    "basic_list1 = [1, 2, 3, 4, 5]\n",
    "basic_list2 = ['Ana', 'Charlie', 'Elena', 'Bob', 'Donny']\n",
    "\n",
    "for i in range(1000):\n",
    "    j = basic_list2.copy()\n",
    "    k = basic_list1.copy()\n",
    "    random.shuffle(j)\n",
    "    random.shuffle(k)\n",
    "    votes.append(j)\n",
    "    votes.append(k)\n",
    "\n",
    "# import numpy as np\n",
    "# np.random.choice(5, 3, p=[0.2, 0.2, 0.2, 0.2, 0.2])"
   ]
  },
  {
   "cell_type": "code",
   "execution_count": 111,
   "metadata": {},
   "outputs": [],
   "source": [
    "votes.append(['Ana', 'Charlie', 'Elena', 'Bob', 'Elena']) \n",
    "votes.append([1, 2, 3, 4])"
   ]
  },
  {
   "cell_type": "markdown",
   "metadata": {},
   "source": [
    "#### Task 1.1\n",
    "\n",
    "All votes are stored together into one object. Separate this object to two containers according to bulletin type."
   ]
  },
  {
   "cell_type": "code",
   "execution_count": 112,
   "metadata": {},
   "outputs": [],
   "source": [
    "# answer\n",
    "votes_names = []\n",
    "votes_ranks = []\n",
    "\n",
    "for i in votes:\n",
    "    if type(i[0]) == str:\n",
    "        votes_names.append(i)\n",
    "    else:\n",
    "        votes_ranks.append(i)"
   ]
  },
  {
   "cell_type": "markdown",
   "metadata": {},
   "source": [
    "#### Task 1.2\n",
    "\n",
    "Check your lists for correctness. `votes_names` should not require duplicate names on it, and all `votes_ranks` bulletins should have 5 numbers on it (even with 0). Do we have inaccurate data? If yes, count how many bulletins are invalid, and remove them from vote count."
   ]
  },
  {
   "cell_type": "code",
   "execution_count": 102,
   "metadata": {},
   "outputs": [
    {
     "name": "stdout",
     "output_type": "stream",
     "text": [
      "Number of incorrect bulletins: 2\n"
     ]
    }
   ],
   "source": [
    "# answer\n",
    "incorrect = 0\n",
    "\n",
    "for i in votes_names:\n",
    "    if len(i) != len(set(i)):\n",
    "        votes_names.remove(i)\n",
    "        incorrect += 1\n",
    "\n",
    "for i in votes_ranks:\n",
    "    if len(i) != 5:\n",
    "        votes_ranks.remove(i)\n",
    "        incorrect += 1\n",
    "\n",
    "print(\"Number of incorrect bulletins:\", incorrect)"
   ]
  },
  {
   "cell_type": "markdown",
   "metadata": {},
   "source": [
    "#### Task 1.3 \n",
    "\n",
    "Now calculate how many times each candidate was placed on first position (for `votes_names` list). Store your answers in new dict like this:\n",
    "\n",
    "`>> firsts`  \n",
    "`{'Ana': 25, 'Bob': 12, 'Charlie': 10, 'Donny': 15, 'Elena': 4}`"
   ]
  },
  {
   "cell_type": "code",
   "execution_count": 133,
   "metadata": {},
   "outputs": [
    {
     "data": {
      "text/plain": [
       "{'Ana': 199, 'Bob': 201, 'Charlie': 228, 'Donny': 191, 'Elena': 181}"
      ]
     },
     "execution_count": 133,
     "metadata": {},
     "output_type": "execute_result"
    }
   ],
   "source": [
    "# version 1 - dumb:\n",
    "\n",
    "a = 0\n",
    "b = 0\n",
    "c = 0\n",
    "d = 0\n",
    "e = 0\n",
    "\n",
    "for i in votes_names:\n",
    "    if i[0] == 'Ana':\n",
    "        a += 1\n",
    "    elif i[0] == 'Bob':\n",
    "        b += 1\n",
    "    elif i[0] == 'Charlie':\n",
    "        c += 1\n",
    "    elif i[0] == 'Donny':\n",
    "        d += 1\n",
    "    elif i[0] == 'Elena':   # здесь можно поднасрать и добавить какое-нибудь левое имя, чтобы студенты не использовали else\n",
    "        e += 1\n",
    "\n",
    "firsts = {'Ana': a, 'Bob': b, \"Charlie\": c, 'Donny': d, 'Elena': e}\n",
    "firsts"
   ]
  },
  {
   "cell_type": "markdown",
   "metadata": {},
   "source": [
    "#### Task 1.4\n",
    "\n",
    "Sort the dict by votes with ascending order"
   ]
  },
  {
   "cell_type": "code",
   "execution_count": 117,
   "metadata": {},
   "outputs": [
    {
     "data": {
      "text/plain": [
       "{'Ana': 25, 'Bob': 12, 'Charlie': 10, 'Donny': 15, 'Elena': 4}"
      ]
     },
     "execution_count": 117,
     "metadata": {},
     "output_type": "execute_result"
    }
   ],
   "source": [
    "firsts = {'Ana': 25, 'Bob': 12, \"Charlie\": 10, 'Donny': 15, 'Elena': 4}\n",
    "firsts"
   ]
  },
  {
   "cell_type": "code",
   "execution_count": null,
   "metadata": {},
   "outputs": [],
   "source": [
    "Ana = {1: 25, 2: 12, 3: 10, 4: 15, 5: 4}"
   ]
  },
  {
   "cell_type": "markdown",
   "metadata": {},
   "source": [
    "### Part II\n",
    "\n",
    "**Deadline: October 23, 11:59 pm**\n",
    "\n",
    "For the second part of your homework, you need to calculate the winner of election with different voting techniques."
   ]
  },
  {
   "cell_type": "code",
   "execution_count": 140,
   "metadata": {},
   "outputs": [],
   "source": [
    "final_results = {'fptp': None}"
   ]
  },
  {
   "cell_type": "markdown",
   "metadata": {},
   "source": [
    "#### Single-Member Plurality Voting (first-past-the-post)\n",
    "\n",
    "*Description here*"
   ]
  },
  {
   "cell_type": "markdown",
   "metadata": {},
   "source": [
    "To count with first-past-the-post voting method, recall which object stores counts of favourite candidates. \n",
    "1. Display this object in a descending order (`help(sorted)` for hint)\n",
    "2. Print a short news message announcing the results of the election (use string formatting to display name and number of votes, no copypasta here)  \n",
    "`example:`  \n",
    "`The results of the last election: `  \n",
    "`Charlie won with 228 votes!`\n",
    "3. Save the winner to `final_results` dictionary"
   ]
  },
  {
   "cell_type": "code",
   "execution_count": 138,
   "metadata": {},
   "outputs": [
    {
     "data": {
      "text/plain": [
       "{'Charlie': 228, 'Bob': 201, 'Ana': 199, 'Donny': 191, 'Elena': 181}"
      ]
     },
     "execution_count": 138,
     "metadata": {},
     "output_type": "execute_result"
    }
   ],
   "source": [
    "firsts = dict(sorted(firsts.items(), key=lambda x: x[1], reverse=True))\n",
    "firsts"
   ]
  },
  {
   "cell_type": "code",
   "execution_count": 152,
   "metadata": {},
   "outputs": [
    {
     "name": "stdout",
     "output_type": "stream",
     "text": [
      "The results of the last election: \n",
      "Charlie won with 228 votes!\n"
     ]
    }
   ],
   "source": [
    "print(f\"The results of the last election: \\n{list(firsts.keys())[0]} won with {list(firsts.values())[0]} votes!\")"
   ]
  },
  {
   "cell_type": "code",
   "execution_count": 154,
   "metadata": {},
   "outputs": [
    {
     "data": {
      "text/plain": [
       "{'fptp': 'Charlie'}"
      ]
     },
     "execution_count": 154,
     "metadata": {},
     "output_type": "execute_result"
    }
   ],
   "source": [
    "final_results['fptp'] = list(firsts.keys())[0]\n",
    "final_results"
   ]
  }
 ],
 "metadata": {
  "kernelspec": {
   "display_name": "Python 3.10.4 64-bit",
   "language": "python",
   "name": "python3"
  },
  "language_info": {
   "codemirror_mode": {
    "name": "ipython",
    "version": 3
   },
   "file_extension": ".py",
   "mimetype": "text/x-python",
   "name": "python",
   "nbconvert_exporter": "python",
   "pygments_lexer": "ipython3",
   "version": "3.10.4"
  },
  "orig_nbformat": 4,
  "vscode": {
   "interpreter": {
    "hash": "db967a82a5395c9886e36287b4fc3d4cdf41cf28b68e7cdaae12bdbf290d326d"
   }
  }
 },
 "nbformat": 4,
 "nbformat_minor": 2
}
