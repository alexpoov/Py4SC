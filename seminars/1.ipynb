{
 "cells": [
  {
   "cell_type": "markdown",
   "source": [
    "# 1 Introduction\n",
    "## Getting acquainted\n",
    "...\n",
    "## What this course is about\n",
    "...\n",
    "## Grading\n",
    "...\n",
    "## Org Questions\n",
    "..."
   ],
   "metadata": {
    "collapsed": false,
    "pycharm": {
     "name": "#%% md\n"
    }
   }
  },
  {
   "cell_type": "markdown",
   "source": [
    "## What is Python?\n",
    "* python is a programming language that is:\n",
    "  * free and [open-source](https://github.com/python/cpython)\n",
    "  * interpreted:\n",
    "    * doesn't need to be compiled\n",
    "    * source code (plaintext .py file) is compiled into bytecode, which is later executed by Python Virtual Machine\n",
    "    * this process is abstracted from developers\n",
    "  * high-level\n",
    "    * independent of computer's hardware / architecture\n",
    "    * therefore, computer's hardware is *abstracted away*\n",
    "    * objects are the means of abstraction\n",
    "  * object-oriented:\n",
    "    * object is the logical unit you use in Python every day\n",
    "    * object combines structure of data with methods to process / manipulate this data\n",
    "  * with dynamic semantics\n",
    "    * Python variables are dynamic objects\n",
    "    * which means, that variable's type is determined at runtime\n",
    "    * in practice, this means that a variable can change data type during execution\n",
    "  * general-purpose, because Python can do lots of things\n",
    "* Python is a programming language that has:\n",
    "  * libraries for lots of use-cases\n",
    "    * systems programming (built-in libraries allow access to the operating system)\n",
    "    * GUIs (graphical user interfaces), e.g. means of communication between human and computer\n",
    "    * APIs (application programming interfaces), e.g. means of communication between programs\n",
    "    * Internet Scripting: parsing websites, back-end and front-end web-development\n",
    "    * Scientific programming: Data Analysis, Data Visualisation, Machine Learning\n",
    "    * Working with databases and Data Engineering\n",
    "  * great and extensive documentation:\n",
    "    * [link](https://docs.python.org/3/)\n",
    "    * in case you have any question, please, consult with it first, and only afterwards go to forums like StackOverflow\n"
   ],
   "metadata": {
    "collapsed": false,
    "pycharm": {
     "name": "#%% md\n"
    }
   }
  },
  {
   "cell_type": "markdown",
   "source": [
    "## Trade-offs\n",
    "* python is an interpreted language, therefore it is not a great fit for real-time systems with low latency"
   ],
   "metadata": {
    "collapsed": false,
    "pycharm": {
     "name": "#%% md\n"
    }
   }
  },
  {
   "cell_type": "markdown",
   "source": [
    "## Python for social sciences\n",
    "* тут наверное про ipynb и всё такое\n",
    "  * как этим всем пользоваться, интерактивный туториал\n",
    "* и чуть-чуть побольше про библиотеки для анализа\\визуализации"
   ],
   "metadata": {
    "collapsed": false,
    "pycharm": {
     "name": "#%% md\n"
    }
   }
  },
  {
   "cell_type": "markdown",
   "source": [
    "## First steps"
   ],
   "metadata": {
    "collapsed": false,
    "pycharm": {
     "name": "#%% md\n"
    }
   }
  },
  {
   "cell_type": "code",
   "execution_count": 2,
   "outputs": [
    {
     "name": "stdout",
     "output_type": "stream",
     "text": [
      "Hello world!\n"
     ]
    }
   ],
   "source": [
    "# this line is a comment, therefore, it will not be interpreted\n",
    "print('Hello world!') # this is an in-line comment, therefore, it will not be interpreted"
   ],
   "metadata": {
    "collapsed": false,
    "pycharm": {
     "name": "#%%\n"
    }
   }
  },
  {
   "cell_type": "markdown",
   "source": [
    "## Literal constants\n",
    "* `'Hello World!'` is an example of literal constant\n",
    "* this means, that `'Hello world!'` is a value, that can represent only itself\n",
    "\n",
    "### Numbers\n",
    "* there are four types of numbers in Python\n",
    "  * integers: 2, 4, 15, etc.\n",
    "  * long integers: same, but bigger\n",
    "  * floating point numbers: 3.14, 215.3, etc.\n",
    "    * [floating point error explained](https://www.youtube.com/watch?v=PZRI1IfStY0)\n",
    "    * tl;dr:\n",
    "      ```\n",
    "      In [1]: 0.1+0.2\n",
    "      Out[1]: 0.30000000000000004\n",
    "      ```\n",
    "  * complex numbers: x + yi, etc.\n",
    "\n",
    "### Strings\n",
    "* strings are *sequences of characters*\n",
    "* using strings:\n",
    "  * single quotes: 'some string'\n",
    "  * double quotes: \"some string\"\n",
    "  * triple quotes:\n",
    "    * triple single quotes: '''some text'''\n",
    "    * triple double quotes: \"\"\"some text\"\"\"\n",
    "  * please be consistent between single- and double-quotes!"
   ],
   "metadata": {
    "collapsed": false,
    "pycharm": {
     "name": "#%% md\n"
    }
   }
  },
  {
   "cell_type": "code",
   "execution_count": 33,
   "outputs": [
    {
     "data": {
      "text/plain": "'\\nThis is a multi-line string.\\nYou see, I can use both \\'single quotes\\' and \"double quotes\" inside triple single quotes\\nbecause Python looks for a match for \\'\\'\\'\\nhere because I have wrapped them in single quotes.\\nIn case\\n'"
     },
     "execution_count": 33,
     "metadata": {},
     "output_type": "execute_result"
    }
   ],
   "source": [
    "'''\n",
    "This is a multi-line string.\n",
    "You see, I can use both 'single quotes' and \"double quotes\" inside triple single quotes\n",
    "because Python looks to match triple single quotes.\n",
    "'''"
   ],
   "metadata": {
    "collapsed": false,
    "pycharm": {
     "name": "#%%\n"
    }
   }
  },
  {
   "cell_type": "code",
   "execution_count": 34,
   "outputs": [
    {
     "ename": "SyntaxError",
     "evalue": "EOL while scanning string literal (Temp/ipykernel_11024/703710168.py, line 1)",
     "output_type": "error",
     "traceback": [
      "\u001B[1;36m  File \u001B[1;32m\"C:\\Users\\EGOR_G~1\\AppData\\Local\\Temp/ipykernel_11024/703710168.py\"\u001B[1;36m, line \u001B[1;32m1\u001B[0m\n\u001B[1;33m    \"\u001B[0m\n\u001B[1;37m     ^\u001B[0m\n\u001B[1;31mSyntaxError\u001B[0m\u001B[1;31m:\u001B[0m EOL while scanning string literal\n"
     ]
    }
   ],
   "source": [
    "\"\n",
    "multi-line strings work only with triple quotes\n",
    "\""
   ],
   "metadata": {
    "collapsed": false,
    "pycharm": {
     "name": "#%%\n"
    }
   }
  },
  {
   "cell_type": "code",
   "execution_count": 36,
   "outputs": [
    {
     "ename": "SyntaxError",
     "evalue": "invalid syntax (Temp/ipykernel_11024/2500774582.py, line 1)",
     "output_type": "error",
     "traceback": [
      "\u001B[1;36m  File \u001B[1;32m\"C:\\Users\\EGOR_G~1\\AppData\\Local\\Temp/ipykernel_11024/2500774582.py\"\u001B[1;36m, line \u001B[1;32m1\u001B[0m\n\u001B[1;33m    \"see, I can't use \"double quotes\" here: \"\u001B[0m\n\u001B[1;37m                       ^\u001B[0m\n\u001B[1;31mSyntaxError\u001B[0m\u001B[1;31m:\u001B[0m invalid syntax\n"
     ]
    }
   ],
   "source": [
    "\"see, I can't use \"double quotes\" here: \""
   ],
   "metadata": {
    "collapsed": false,
    "pycharm": {
     "name": "#%%\n"
    }
   }
  },
  {
   "cell_type": "code",
   "execution_count": 37,
   "outputs": [
    {
     "data": {
      "text/plain": "'however, I can use \"double quotes\" in single-quote-wrapped string'"
     },
     "execution_count": 37,
     "metadata": {},
     "output_type": "execute_result"
    }
   ],
   "source": [
    "'however, I can use \"double quotes\" in single-quote-wrapped string'"
   ],
   "metadata": {
    "collapsed": false,
    "pycharm": {
     "name": "#%%\n"
    }
   }
  },
  {
   "cell_type": "markdown",
   "source": [
    "## Escape sequences"
   ],
   "metadata": {
    "collapsed": false,
    "pycharm": {
     "name": "#%% md\n"
    }
   }
  },
  {
   "cell_type": "code",
   "execution_count": 47,
   "outputs": [
    {
     "name": "stdout",
     "output_type": "stream",
     "text": [
      "line 1\n",
      "\n",
      "line 4\n",
      "line 1\\n\\nline 4\n",
      "Hi! I'm Alex\n"
     ]
    }
   ],
   "source": [
    "# '\\n' is a newline character:\n",
    "print('line 1\\n\\nline 4')\n",
    "# '\\' in front of '\\n' means that we escape special meaning of '\\n':\n",
    "print('line 1\\\\n\\\\nline 4')\n",
    "# we can escape special meaning of quotes as well:\n",
    "print('Hi! I\\'m Alex')"
   ],
   "metadata": {
    "collapsed": false,
    "pycharm": {
     "name": "#%%\n"
    }
   }
  },
  {
   "cell_type": "markdown",
   "source": [
    "## String concatenation"
   ],
   "metadata": {
    "collapsed": false,
    "pycharm": {
     "name": "#%% md\n"
    }
   }
  },
  {
   "cell_type": "code",
   "execution_count": 50,
   "outputs": [
    {
     "name": "stdout",
     "output_type": "stream",
     "text": [
      "Here is a multi-line declaration of a single-line string.\n"
     ]
    }
   ],
   "source": [
    "print(\n",
    "    \"Here is \"\n",
    "    \"a multi-line \"\n",
    "    \"declaration of a \"\n",
    "    \"single-line string.\"\n",
    ")"
   ],
   "metadata": {
    "collapsed": false,
    "pycharm": {
     "name": "#%%\n"
    }
   }
  },
  {
   "cell_type": "code",
   "execution_count": null,
   "outputs": [],
   "source": [],
   "metadata": {
    "collapsed": false,
    "pycharm": {
     "name": "#%%\n",
     "is_executing": true
    }
   }
  },
  {
   "cell_type": "markdown",
   "source": [
    "## Variables\n",
    "* we can assign values to variables using an assignment operator (`=`)\n",
    "* we assign variable value to a variable name in a following expression: varialbe_name = variable_value\n",
    "* some rules:\n",
    "  * upper- and lower-case characters, digits and underscores(_) are allowed\n",
    "  * variable names cannot start with a digit\n",
    "* please be semantic\n",
    "* snake_case is a convention for variable naming in python"
   ],
   "metadata": {
    "collapsed": false,
    "pycharm": {
     "name": "#%% md\n"
    }
   }
  },
  {
   "cell_type": "code",
   "execution_count": 39,
   "outputs": [
    {
     "name": "stdout",
     "output_type": "stream",
     "text": [
      "Hello world!\n",
      "6\n",
      "7\n",
      "6\n",
      "12\n"
     ]
    }
   ],
   "source": [
    "hello_world = 'Hello world!' # we assign literal value 'Hello World!' to a variable named 'hello_world'\n",
    "print(hello_world)\n",
    "i = 5\n",
    "i = i+1 # we assign new value to i\n",
    "print(i)\n",
    "i += 1 # we assign i to i+i\n",
    "print(i)\n",
    "i -= 1\n",
    "print(i)\n",
    "i *= 2 # we assign i to i * 2\n",
    "print(i)"
   ],
   "metadata": {
    "collapsed": false,
    "pycharm": {
     "name": "#%%\n"
    }
   }
  },
  {
   "cell_type": "markdown",
   "source": [
    "## Indentation and whitespace\n",
    "* Python is sensitive to whitespace at the start of expressions, observe in chunk below\n",
    "* in Python, we use indentation to nest logical expressions and control flow, but this is a later topic\n",
    "* for now, just keep this in mind"
   ],
   "metadata": {
    "collapsed": false,
    "pycharm": {
     "name": "#%% md\n"
    }
   }
  },
  {
   "cell_type": "code",
   "execution_count": 51,
   "outputs": [
    {
     "ename": "IndentationError",
     "evalue": "unexpected indent (Temp/ipykernel_11024/1581723345.py, line 2)",
     "output_type": "error",
     "traceback": [
      "\u001B[1;36m  File \u001B[1;32m\"C:\\Users\\EGOR_G~1\\AppData\\Local\\Temp/ipykernel_11024/1581723345.py\"\u001B[1;36m, line \u001B[1;32m2\u001B[0m\n\u001B[1;33m    print('we will get a SyntaxError here')\u001B[0m\n\u001B[1;37m    ^\u001B[0m\n\u001B[1;31mIndentationError\u001B[0m\u001B[1;31m:\u001B[0m unexpected indent\n"
     ]
    }
   ],
   "source": [
    "# note the whitespace\n",
    "  print('we will get an IndentationError here')"
   ],
   "metadata": {
    "collapsed": false,
    "pycharm": {
     "name": "#%%\n"
    }
   }
  },
  {
   "cell_type": "markdown",
   "source": [
    "## Keywords\n",
    "* keywords are special tokens, that are interpreted in a special way"
   ],
   "metadata": {
    "collapsed": false,
    "pycharm": {
     "name": "#%% md\n"
    }
   }
  },
  {
   "cell_type": "markdown",
   "source": [
    "## Functions\n",
    "* `print()` is a built-in python function\n",
    "* you can read documentation about `print()` [here](https://docs.python.org/3/library/functions.html#print)\n",
    "* `*objects` means that we can pass arbitrary number of objects\n",
    "* `sep=' '` means that default value of `sep` argument is a single space (' ')\n",
    "*"
   ],
   "metadata": {
    "collapsed": false,
    "pycharm": {
     "name": "#%% md\n"
    }
   }
  },
  {
   "cell_type": "code",
   "execution_count": 8,
   "outputs": [
    {
     "name": "stdout",
     "output_type": "stream",
     "text": [
      "1 2 3\n",
      "1,2,3\n",
      "1,2,3;this will be printed in the same line after semicolon;\n"
     ]
    }
   ],
   "source": [
    "a = 1 # this integer will be converted to string at print\n",
    "b = 2 # this integer will be converted to string at print\n",
    "c = '3'\n",
    "print(a,b,c)\n",
    "print(a,b,c,sep=',')\n",
    "print(a,b,c,sep=',',end=';') # '\\n' is a newline character\n",
    "print(' this will be printed in the same line after semicolon;')"
   ],
   "metadata": {
    "collapsed": false,
    "pycharm": {
     "name": "#%%\n"
    }
   }
  },
  {
   "cell_type": "markdown",
   "source": [
    "## Formatting strings\n",
    "* [documentation](https://docs.python.org/3/library/string.html#format-string-syntax)"
   ],
   "metadata": {
    "collapsed": false,
    "pycharm": {
     "name": "#%% md\n"
    }
   }
  },
  {
   "cell_type": "code",
   "execution_count": 11,
   "outputs": [
    {
     "name": "stdout",
     "output_type": "stream",
     "text": [
      "Hello! My age is {age}\n",
      "Hello! My age is 20\n"
     ]
    }
   ],
   "source": [
    "age = 20\n",
    "myvar = 'Hello! My age is {age}' # this is treated like string\n",
    "print(myvar)\n",
    "# 1. we can put more complex expressions as arguments of functions, and they will get evaluated\n",
    "# 2. now we can format strings\n",
    "print(myvar.format(age=age))"
   ],
   "metadata": {
    "collapsed": false,
    "pycharm": {
     "name": "#%%\n"
    }
   }
  },
  {
   "cell_type": "markdown",
   "source": [
    "## let's make it more complex!\n",
    "* [input() documentation](https://docs.python.org/3/library/functions.html#input)\n",
    "* [str.split() documentation](https://docs.python.org/3/library/stdtypes.html#str.split)"
   ],
   "metadata": {
    "collapsed": false,
    "pycharm": {
     "name": "#%% md\n"
    }
   }
  },
  {
   "cell_type": "code",
   "execution_count": 17,
   "outputs": [
    {
     "name": "stdout",
     "output_type": "stream",
     "text": [
      "<class 'str'>\n",
      "['2022', '19', '06']\n"
     ]
    }
   ],
   "source": [],
   "metadata": {
    "collapsed": false,
    "pycharm": {
     "name": "#%%\n"
    }
   }
  }
 ],
 "metadata": {
  "kernelspec": {
   "display_name": "Python 3",
   "language": "python",
   "name": "python3"
  },
  "language_info": {
   "codemirror_mode": {
    "name": "ipython",
    "version": 2
   },
   "file_extension": ".py",
   "mimetype": "text/x-python",
   "name": "python",
   "nbconvert_exporter": "python",
   "pygments_lexer": "ipython2",
   "version": "2.7.6"
  }
 },
 "nbformat": 4,
 "nbformat_minor": 0
}