{
 "cells": [
  {
   "cell_type": "markdown",
   "metadata": {},
   "source": [
    "## Week 6. Practice Session I\n",
    "\n",
    "For the past two months, we have been trying to release python code on small problems and exercises. At the last seminars of this course, we invite you to expand the scope of your skills.\n",
    "\n",
    "On this week, we're going to try to understand on your own one of the most important problems of political technology - **political leaning prediction**. Data was taken from [Kaggle platform](https://www.kaggle.com/datasets/yemregundogmus/turkey-political-opinions?select=data.csv) and it's dedicated to **Turkey Political Opinions** - with Age, Sex, Education, City Features."
   ]
  },
  {
   "cell_type": "markdown",
   "metadata": {},
   "source": [
    "### Why we're doing this?\n",
    "\n",
    "* In case of **academic research**: for some political science topics, the combination of practical code and data skills and a theoretical background in problem political science is just as important as each of these skills separately. We call it 'applying computational thinking' - and you don't need to be mathematician here :) The biggest topic is probably a [Computational Social Science](https://en.wikipedia.org/wiki/Computational_social_science) and [Computational Politics](https://en.wikipedia.org/wiki/Computational_politics). These skill can also serve as a launching pad for further development in the areas of modelling social problems, its simulations and quantitative analysis. (Popov, 2023)  \n",
    "\n",
    "* About **money**: \n",
    "    * [Policy Analyst](https://www.indeed.com/career/policy-analyst/salaries) positions in the USA  \n",
    "    * Another one [Political Data Science Jobs] site in the USA(https://www.ziprecruiter.com/Jobs/Political-Data-Science)"
   ]
  },
  {
   "cell_type": "markdown",
   "metadata": {},
   "source": [
    "### Background\n",
    "\n",
    "Before starting analytical work (working with code), it is always important to know the background of the current problem:\n",
    "1. examining sources will help you understand the global context of the phenomena at hand;  \n",
    "2. assists in formulating a research question and formulating hypotheses;  \n",
    "3. Gives the opportunity to explore the limitations and gaps in the subject area (including trends, common used approaches) - critical thinking\n",
    "\n",
    "* General info about politics of Turkey: [wiki](https://en.wikipedia.org/wiki/Politics_of_Turkey#:~:text=Turkey's%20political%20system%20is%20based,in%20the%20Grand%20National%20Assembly.) - good as a starting point\n",
    "* Human Rights Watch 2022 [annual report](https://www.hrw.org/world-report/2022/country-chapters/turkey) about Turkey  \n",
    "* Recent news from valid publishers, e.g. [Financial Times](https://www.ft.com/turkish-politics)\n",
    "\n",
    "<u><font color='Pink'>***Your turn:***</font></u>  What other valid sources of information for an introduction to the subject area of the problem can you suggest? "
   ]
  },
  {
   "cell_type": "markdown",
   "metadata": {},
   "source": [
    "### Data First Look"
   ]
  },
  {
   "cell_type": "code",
   "execution_count": null,
   "metadata": {},
   "outputs": [],
   "source": [
    "df = pd.read_csv(\"../data/turkey_political_opinions_train.csv\")\n",
    "df.head(10)"
   ]
  },
  {
   "cell_type": "markdown",
   "metadata": {},
   "source": [
    "In this dataset, 10 questions related to this political orientation were asked, and a yes / no feedback was received from them. Apart from that, the gender of the person, age, level of education, region where he lived was added to the questions.\n",
    "\n",
    "The task of our current seminar will be to **determine the political preferences of voter**s, based on their demographic data and the results of a sociological survey. "
   ]
  },
  {
   "cell_type": "markdown",
   "metadata": {},
   "source": [
    "<u><font color='Pink'>***Your turn***</font></u> \n",
    "\n",
    "We have data to analyse, but it is not seem to be prepared yet. Propose your steps how to reconstruct the dataframe for future analysis.\n",
    "\n",
    "***Answer***"
   ]
  },
  {
   "cell_type": "markdown",
   "metadata": {},
   "source": [
    "### Data Preprocessing "
   ]
  },
  {
   "cell_type": "code",
   "execution_count": null,
   "metadata": {},
   "outputs": [],
   "source": [
    "df1 = df.copy()\n",
    "df1.head(10)"
   ]
  },
  {
   "cell_type": "markdown",
   "metadata": {},
   "source": [
    "#### To translate values \n",
    "\n",
    "`.replace()` method could be useful for these tasks ([documentation](https://pandas.pydata.org/pandas-docs/stable/reference/api/pandas.DataFrame.replace.html))\n",
    "\n",
    "***Data Review:***\n",
    "\n",
    "* Evet = Yes\n",
    "* Hayır = No\n",
    "* Erkek = Male\n",
    "* Kadın = Female\n",
    "* İlkokul = primary school\n",
    "* OrtaOkul = junior high school\n",
    "* Lise = High School\n",
    "* Lisans = University\n",
    "* Lisans Üstü = MA\n",
    "\n",
    "<u><font color='Pink'>***Your turn:***</font></u> \n",
    "\n",
    "Suggest how we can replace a particular value in some column to brand new one."
   ]
  },
  {
   "cell_type": "code",
   "execution_count": null,
   "metadata": {},
   "outputs": [],
   "source": [
    "# var 1"
   ]
  },
  {
   "cell_type": "code",
   "execution_count": null,
   "metadata": {},
   "outputs": [],
   "source": [
    "# var 1 + var 3 "
   ]
  },
  {
   "cell_type": "markdown",
   "metadata": {},
   "source": [
    "#### Rename features\n",
    "\n",
    "Now we moving to columns rename part. Here's the list of columns'translations and descriptions from author's dataset review: \n",
    "\n",
    "* Cinsiyet : Sex Feature\n",
    "* Yas : Age Feature\n",
    "* Bolge : Areas inhabited in Turkey (Municipality)\n",
    "* Egitim : Education Level\n",
    "* (Soru = Question) (Questions include Turkey)\n",
    "    * Soru1/Question1: Do you think our Economic Status is good?\n",
    "    * Soru2/Question2: Need Reform in Education?\n",
    "    * Soru3/Question3: Resolve Privatization Are You?\n",
    "    * Soru4/Question4: Should the state use a penalty like death penalty for certain crimes?\n",
    "    * Soru5/Question5: Do you find our journalists neutral enough?\n",
    "    * Soru6/Question6: From 22:00 am Then Are You Supporting the Prohibition to Buy Drinks?\n",
    "    * Soru7/Question7: Do You Want to Live in a Secular State?\n",
    "    * Soru8/Question8: Are you supporting the abortion ban?\n",
    "    * Soru9/Question9: Do you think that the extraordinary state (Ohal) restricts Freedoms?\n",
    "    * Soru10/Question10: Would you like a new part of the parliament to enter?\n",
    "* Parti : Political View\n",
    "\n",
    "<u><font color='Pink'>***Your turn:***</font></u> \n",
    "\n",
    "Suggest how we can rename columns in our dataframe."
   ]
  },
  {
   "cell_type": "code",
   "execution_count": null,
   "metadata": {},
   "outputs": [],
   "source": [
    "# ver 1: "
   ]
  },
  {
   "cell_type": "markdown",
   "metadata": {},
   "source": [
    "Dimension reduction\n",
    "\n",
    "For short datasets, making assumptions on multivalent classes is not efficient. \n",
    "\n",
    "<u><font color='Pink'>***Your turn:***</font></u> \n",
    "\n",
    "1. Determine number of observations and number of parties `представленных` in the survey. What is the average number of voters per party? `сделайте выводы`.\n",
    "2. Create a new column of political orientation profile for each participant of the survey (make it `Right` and `Left`, or suggest your option). You can base new distribution on Turkish political parties' [wiki page](https://en.wikipedia.org/wiki/List_of_political_parties_in_Turkey):  \n",
    "\n",
    "    * AKP - Justice and Development Party (`правящая партия`) - National conservatism, Social conservatism - Right-wing to far-right\n",
    "    * CHP - Republican People's Party - Social democracy - Centre-left\n",
    "    * DIĞER - others\n",
    "    * HDP - Peoples' Democratic Party - Kurdish nationalism Democratic socialism (minority rights) - Centre-left to left-wing\n",
    "    * IYI PARTI - Good Party - Turkish nationalism, National conservatism - Centre to right-wing\n",
    "    * MHP - Nationalist Movement Party - Turkish ultranationalism, Neo-fascism - Right-wing to far-right"
   ]
  },
  {
   "cell_type": "code",
   "execution_count": null,
   "metadata": {},
   "outputs": [],
   "source": [
    "print()"
   ]
  },
  {
   "cell_type": "markdown",
   "metadata": {},
   "source": [
    "Now we're all set and ready to start analysis."
   ]
  },
  {
   "cell_type": "code",
   "execution_count": null,
   "metadata": {},
   "outputs": [],
   "source": [
    "df = df1"
   ]
  },
  {
   "cell_type": "markdown",
   "metadata": {},
   "source": [
    "### Exploratory Data Analysis"
   ]
  },
  {
   "cell_type": "markdown",
   "metadata": {},
   "source": [
    "from [Towards Data Science](https://towardsdatascience.com/exploratory-data-analysis-8fc1cb20fd15): Imagine your wolf pack decides to watch a movie you haven’t heard of. There is absolutely no debate about that, it will lead to a state where you find yourself puzzled with lot of questions which needs to be answered in order to make a decision. Being a good chieftain the first question you would ask, what is the cast and crew of the movie? As a regular practice, you would also watch the trailer of the movie on YouTube. Furthermore, you’d find out ratings and reviews the movie has received from the audience.\n",
    "\n",
    "Whatever investigating measures you would take before finally buying popcorn for your clan in theater, is nothing but what data scientists in their lingo call **Exploratory Data Analysis**. EDA refers to the critical process of performing initial investigations on data so as to discover patterns, to spot anomalies, to test hypothesis and to check assumptions with the help of summary statistics and graphical representations."
   ]
  },
  {
   "cell_type": "markdown",
   "metadata": {},
   "source": [
    "<u><font color='Pink'>***Your turn:***</font></u> EDA always starts with the first glance to your data, and we already know how to do this. How?\n",
    "\n"
   ]
  },
  {
   "cell_type": "code",
   "execution_count": null,
   "metadata": {},
   "outputs": [],
   "source": []
  },
  {
   "cell_type": "markdown",
   "metadata": {},
   "source": [
    "For purposes of EDA and to better know your data, it could be useful to know the metadata - data about your data."
   ]
  },
  {
   "cell_type": "code",
   "execution_count": null,
   "metadata": {},
   "outputs": [],
   "source": [
    "# descriptive statistics\n",
    "df.shape"
   ]
  },
  {
   "cell_type": "code",
   "execution_count": null,
   "metadata": {},
   "outputs": [],
   "source": [
    "# descriptive statistics\n",
    "df.describe()"
   ]
  },
  {
   "cell_type": "markdown",
   "metadata": {},
   "source": [
    "> Note that as we have only categorical data in our dataframe the stats are not so representative. Things changes when we talk about numeric values:"
   ]
  },
  {
   "cell_type": "code",
   "execution_count": null,
   "metadata": {},
   "outputs": [],
   "source": [
    "iris = pd.read_csv('https://raw.githubusercontent.com/mwaskom/seaborn-data/master/iris.csv')\n",
    "iris.describe()"
   ]
  },
  {
   "cell_type": "markdown",
   "metadata": {},
   "source": [
    "Yet numbers are cool, we already know how we can boost readability of hypotheses: using plots.\n",
    "\n",
    "It's important to remember that plots are not exist in vacuum. They are always supported with some idea - e.g. research hypothesis, or research question. Let our first research question be: **what is the distributions of ages in respondents of the survey?**"
   ]
  },
  {
   "cell_type": "code",
   "execution_count": null,
   "metadata": {},
   "outputs": [],
   "source": [
    "# another one viz with multiple conditions\n",
    "df.groupby(['Age']).count().plot(y = 'Profile', kind='pie');"
   ]
  },
  {
   "cell_type": "markdown",
   "metadata": {},
   "source": [
    "<br>"
   ]
  },
  {
   "cell_type": "markdown",
   "metadata": {},
   "source": [
    "Remember that you can aggregate your data in any way you'd like to prepare stats for viz. Consider this one: **rights support restrictions of alcohol sales after 10 p.m.**. What we're gonna do here:  \n",
    "1. First of all, let's apply groupping to our dataframe by `Profile` feature;  \n",
    "2. Then, calculate number of votes in favor of/against alc. sales;  \n",
    "3. Finally, make a plot of this data (horisontal bar -> `barh`)"
   ]
  },
  {
   "cell_type": "code",
   "execution_count": null,
   "metadata": {},
   "outputs": [],
   "source": [
    "# pie\n",
    "(df[df[\"Alc_past_22_prohib\"]==\"Yes\"].groupby(\"Profile\")[\"Alc_past_22_prohib\"].count()/len(df)).plot(kind=\"barh\", fontsize=8, title=\"Those who supports\");"
   ]
  },
  {
   "cell_type": "code",
   "execution_count": null,
   "metadata": {},
   "outputs": [],
   "source": [
    "# pie\n",
    "(df[df[\"Alc_past_22_prohib\"]==\"No\"].groupby(\"Profile\")[\"Alc_past_22_prohib\"].count()/len(df)).plot(kind=\"barh\", fontsize=8, title=\"Those who doesn't support\");"
   ]
  },
  {
   "cell_type": "markdown",
   "metadata": {},
   "source": [
    "***Answer***\n",
    "\n",
    "We can see that while there is a majority of right-wingers among those who support the ban on the sale of alcohol after 22, there is an equal majority among those who are against it. This is primarily due to the imbalance in the classes: the right-wingers outnumber the left-wingers. \n",
    "\n",
    "However, we can still draw some conclusions: unlike on the right, where the proportions are almost unchanged, the percentage of those on the left supporting the ban on the sale of alcohol is almost six times lower than those against it."
   ]
  },
  {
   "cell_type": "markdown",
   "metadata": {},
   "source": [
    "<br>"
   ]
  },
  {
   "cell_type": "markdown",
   "metadata": {},
   "source": [
    "Hypothesis could require you to use advanced visualisation tools to answer them properly. Let's now assume that **there are more left-sided electioneers in teenagers part** of population:"
   ]
  },
  {
   "cell_type": "code",
   "execution_count": null,
   "metadata": {},
   "outputs": [],
   "source": [
    "df1 = df[['Age', 'Profile']]\n",
    "df1['Age'] = ['teen' if age == '0-18' else 'others' for age in df1['Age']]\n",
    "df1.groupby(['Profile', 'Age']).Age.count()"
   ]
  },
  {
   "cell_type": "code",
   "execution_count": null,
   "metadata": {},
   "outputs": [],
   "source": [
    "# stacked bar chart\n",
    "\n",
    "import matplotlib.pyplot as plt\n",
    "import numpy as np\n",
    "\n",
    "labels = ['left', 'right']\n",
    "teens = [6, 26]\n",
    "others = [30, 72]\n",
    "\n",
    "x = np.arange(len(labels))  # the label locations\n",
    "width = 0.35  # the width of the bars\n",
    "\n",
    "fig, ax = plt.subplots()\n",
    "rects1 = ax.bar(x - width/2, teens, width, label='teens')\n",
    "rects2 = ax.bar(x + width/2, others, width, label='others')\n",
    "\n",
    "# Add some text for labels, title and custom x-axis tick labels, etc.\n",
    "ax.set_title('Distribution of votes for teens and not')\n",
    "ax.legend()\n",
    "\n",
    "ax.bar_label(rects1, padding=3)\n",
    "ax.bar_label(rects2, padding=3)\n",
    "\n",
    "fig.tight_layout()\n",
    "\n",
    "plt.show();"
   ]
  },
  {
   "cell_type": "code",
   "execution_count": null,
   "metadata": {},
   "outputs": [],
   "source": [
    "# plot bars in stack manner\n",
    "plt.bar(labels, teens, color='r')\n",
    "plt.bar(labels, others, bottom=teens, color='b')\n",
    "plt.show()"
   ]
  },
  {
   "cell_type": "markdown",
   "metadata": {},
   "source": [
    "***Answer:***\n",
    "\n",
    "We see the shares are changed but not dramatically. Moreover, the share of teens even increased for right-sided voters."
   ]
  },
  {
   "cell_type": "markdown",
   "metadata": {},
   "source": [
    "***Your turn:*** \n",
    "1. Propose your hypothesis to check. The more interesting it would be, the more likely we'll get some sufficient results;  \n",
    "2. Decide which kind of output you want to recieve: metrics or graphs.\n",
    "3. (*) Pick suitable kind of chart for your idea;  \n",
    "4. (*) Aggregate the dataframe before visualisation;  \n",
    "5. Display the resulting metric/graph and approve/reject your hypothesis.\n",
    "\n",
    "The better data approves or rejects your hypothesis, the more likely you found a valuable information about respondents."
   ]
  },
  {
   "cell_type": "markdown",
   "metadata": {},
   "source": [
    "***Answer:***\n",
    "\n"
   ]
  },
  {
   "cell_type": "code",
   "execution_count": null,
   "metadata": {},
   "outputs": [],
   "source": [
    "# print smth here!"
   ]
  },
  {
   "cell_type": "markdown",
   "metadata": {},
   "source": [
    "### Data-Driven Decision-Making\n",
    "\n",
    "Now that we have an idea of the distribution of our data, it is time to move on to a new problem. By default, we do not know the political preferences of voters, and we can only guess who they will vote for in the election. We suggest you test your logic and intuition by trying to predict voter preferences."
   ]
  },
  {
   "cell_type": "code",
   "execution_count": null,
   "metadata": {},
   "outputs": [],
   "source": [
    "newcomers = pd.read_csv(\"turkey_political_opinions_test.csv\")\n",
    "parties = newcomers['parti'] # y's of test\n",
    "newcomers = newcomers.drop(columns=\"parti\")"
   ]
  }
 ],
 "metadata": {
  "kernelspec": {
   "display_name": "Python 3.10.4 64-bit",
   "language": "python",
   "name": "python3"
  },
  "language_info": {
   "codemirror_mode": {
    "name": "ipython",
    "version": 3
   },
   "file_extension": ".py",
   "mimetype": "text/x-python",
   "name": "python",
   "nbconvert_exporter": "python",
   "pygments_lexer": "ipython3",
   "version": "3.10.4"
  },
  "orig_nbformat": 4,
  "vscode": {
   "interpreter": {
    "hash": "db967a82a5395c9886e36287b4fc3d4cdf41cf28b68e7cdaae12bdbf290d326d"
   }
  }
 },
 "nbformat": 4,
 "nbformat_minor": 2
}
