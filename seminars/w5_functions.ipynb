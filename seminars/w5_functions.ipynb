{
 "cells": [
  {
   "cell_type": "markdown",
   "metadata": {},
   "source": [
    "## Week 5. Functional Programming\n",
    "\n",
    "Functions are reusable pieces of programs. They allow you to give a name to a block of statements and you can run that block using that name anywhere in your program and any number of times. This is known as calling the function. You've met function dozen times already: today we're going to learn how to write functions by hand."
   ]
  },
  {
   "cell_type": "markdown",
   "metadata": {},
   "source": [
    "### Quick Recap\n",
    "\n",
    "Remember the task about rolling 1d6 dice? We used while loop with `random.randint` function to get how many throws we should complete to get 6."
   ]
  },
  {
   "cell_type": "code",
   "execution_count": null,
   "metadata": {},
   "outputs": [],
   "source": [
    "# ex 1. try to recreate the task with rolling dice\n",
    "import random"
   ]
  },
  {
   "cell_type": "markdown",
   "metadata": {},
   "source": [
    "Now imagine we want to roll 1d20 - a 20-sided dice usually used in roll plays like Dungeon and Dragons. Catch first 20 result instead of 6 (legendary roll). How you will change your code?"
   ]
  },
  {
   "cell_type": "code",
   "execution_count": null,
   "metadata": {},
   "outputs": [],
   "source": [
    "# ex 2. try to rewrite the code for 1d20"
   ]
  },
  {
   "cell_type": "markdown",
   "metadata": {},
   "source": [
    "And now rewrite your code once again. How many attempts should we make to get 19 or 20 at least 2 times in a row?"
   ]
  },
  {
   "cell_type": "code",
   "execution_count": null,
   "metadata": {},
   "outputs": [],
   "source": [
    "# ex 3. one more ex."
   ]
  },
  {
   "cell_type": "markdown",
   "metadata": {},
   "source": [
    "### Functions: getting rid of routine"
   ]
  },
  {
   "cell_type": "markdown",
   "metadata": {},
   "source": [
    "As you probably noticed, we tuned only several elements in our code, but kept the logic unchanged. Each exercise we simulated dice's rolling with random values and counted number of rolls until we met the set condition. \n",
    "\n",
    "The key thing here is **each exercise**. Actually, we don't need to create all this boring stuff over and over again - instead, let's create a **function**, where we will state all important parameters."
   ]
  },
  {
   "cell_type": "code",
   "execution_count": null,
   "metadata": {},
   "outputs": [],
   "source": [
    "# simple example of function\n",
    "def greetings(firstname):\n",
    "    return f\"Greetings, {firstname}!\""
   ]
  },
  {
   "cell_type": "code",
   "execution_count": null,
   "metadata": {},
   "outputs": [],
   "source": [
    "greetings(\"Sasha\")"
   ]
  },
  {
   "cell_type": "markdown",
   "metadata": {},
   "source": [
    "The structure of functions:\n",
    "* `def` - the Python keyword that intoduces the function definition.\n",
    "* def always should be followed with `(parenthesis)`, even if there is nothing innit. In parenthesis, you write list of `parameters` (or `arguments`).\n",
    "* don't forget about `: colon`.\n",
    "* function logic lines should be `tabulated`, just like in while/for loops.\n",
    "* declare what your function should `return` with the corresponding statement.\n",
    "\n",
    "\n",
    "![](../img/fun.png)"
   ]
  },
  {
   "cell_type": "markdown",
   "metadata": {},
   "source": [
    "Couple of examples:"
   ]
  },
  {
   "cell_type": "code",
   "execution_count": null,
   "metadata": {},
   "outputs": [],
   "source": [
    "# fibonacci row less than 100\n",
    "def fibonacci(): \n",
    "    a, b = 0, 1\n",
    "    while a < 100:\n",
    "        print(a, end=' ')\n",
    "        a, b = b, a+b\n",
    "    print()\n",
    "\n",
    "fibonacci() "
   ]
  },
  {
   "cell_type": "code",
   "execution_count": null,
   "metadata": {},
   "outputs": [],
   "source": [
    "# fibonacci row with customizable limit\n",
    "def fibonacci(upper_limit): \n",
    "    a, b = 0, 1\n",
    "    while a <= upper_limit:\n",
    "        print(a, end=' ')\n",
    "        a, b = b, a+b\n",
    "    print()\n",
    "\n",
    "fibonacci(150) "
   ]
  },
  {
   "cell_type": "markdown",
   "metadata": {},
   "source": [
    "What's weird about this function?"
   ]
  },
  {
   "cell_type": "markdown",
   "metadata": {},
   "source": [
    "> **The difference between the `print` and the `return` functions**\n",
    ">\n",
    "> `print` will not in any way affect a function. It is simply there for the human user’s benefit. It is very useful for understanding how a program works and can be used during codechecks to display various values in a program without interrupting the program.  \n",
    "> `return` is the main way that a function returns a value. All functions will return a value, and if there is no return statement, it will return `None`.\n",
    ">\n",
    "\n",
    "src: [codecademy](https://www.codecademy.com/forum_questions/518ffbfeb3f05c44fe001395)"
   ]
  },
  {
   "cell_type": "code",
   "execution_count": null,
   "metadata": {},
   "outputs": [],
   "source": [
    "def president_of_russia():\n",
    "    return \"Vladimir Putin\"\n",
    "\n",
    "def democracy_in_russia():\n",
    "    print(\"I exist!\")\n",
    "\n",
    "f1 = president_of_russia()\n",
    "f2 = democracy_in_russia()"
   ]
  },
  {
   "cell_type": "code",
   "execution_count": null,
   "metadata": {},
   "outputs": [],
   "source": [
    "print(\"Now let us see what the values of f1 and f2 are\")\n",
    "\n",
    "print(f1)\n",
    "print(f2)"
   ]
  },
  {
   "cell_type": "code",
   "execution_count": null,
   "metadata": {},
   "outputs": [],
   "source": [
    "# ex. create a function that will endorse any written person\n",
    "...\n",
    "\n",
    "endorsement(\"Sasha\")"
   ]
  },
  {
   "cell_type": "code",
   "execution_count": null,
   "metadata": {},
   "outputs": [],
   "source": [
    "# ex. create a function that calculates the area of a right triangle with two given cathetus/legs\n",
    "...\n",
    "\n",
    "area(2, 3)"
   ]
  },
  {
   "cell_type": "code",
   "execution_count": null,
   "metadata": {},
   "outputs": [],
   "source": [
    "# ex. find a discriminant if sqaure equation a, b and c given:\n",
    "...\n",
    "\n",
    "descriminanta(6, 6, 2)\n"
   ]
  },
  {
   "cell_type": "markdown",
   "metadata": {},
   "source": [
    "Note that in case of multiargument functions you write all the parameters in the order as they're set.   \n",
    "It's OK for handwritten functions as long as you can scroll and have a look to their definition, but for product or imported module functions it could be better to call parametes: "
   ]
  },
  {
   "cell_type": "code",
   "execution_count": null,
   "metadata": {},
   "outputs": [],
   "source": [
    "area(leg2 = 3, leg1 = 2)"
   ]
  },
  {
   "cell_type": "code",
   "execution_count": null,
   "metadata": {},
   "outputs": [],
   "source": [
    "# try to run previous function without given parameters\n",
    "..."
   ]
  },
  {
   "cell_type": "markdown",
   "metadata": {},
   "source": [
    "**Why do we need functions at all?**\n",
    "\n",
    "I mean, we can implement each piece of code that is written here via cell-by-cell execution, just like we did it for the last 2 month. Do we really need functions?\n",
    "\n",
    "Both no and yes. \n",
    "\n",
    "No, because they do not provide you much more additional functionality (ironically) but requiring to bear in mind a lot of new features and rules instead. If you use python for simple non-repeatable tasks you might never use functions anymore after this workshop.\n",
    "\n",
    "Yes, because **functions** provide you **concise** and **convenient** instrument to code down some patternal tasks. Python is mess language: with all these OOP (object-oriented programming) principles and dynamic semantics it's really easy to crash your code entirely. With functions, you control everything inside your small defined piece of PC's RAM (random access memory). "
   ]
  },
  {
   "cell_type": "markdown",
   "metadata": {},
   "source": [
    "### More on defining functions\n",
    "\n",
    "It is also possible to define functions with a variable number of arguments. There are two options, which can be combined."
   ]
  },
  {
   "cell_type": "markdown",
   "metadata": {},
   "source": [
    "#### 1. Default parameters\n",
    "\n",
    "`Missing required arguments` error appears when the function didn't recieve the expected number of parameters in brackets. To avoid this mistake, programmers use `default arguments` - check it out: "
   ]
  },
  {
   "cell_type": "code",
   "execution_count": null,
   "metadata": {},
   "outputs": [],
   "source": [
    "# fibonacci row with default/customizable limit\n",
    "def fibonacci(upper_limit = 100): \n",
    "    a, b = 0, 1\n",
    "    while a <= upper_limit:\n",
    "        print(a, end=' ')\n",
    "        a, b = b, a+b\n",
    "    print()\n",
    "\n",
    "fibonacci(20)  # when the number is given, use it as upper bound\n",
    "fibonacci()  # when the number is not given, use default - 100 "
   ]
  },
  {
   "cell_type": "markdown",
   "metadata": {},
   "source": [
    "By the way, our good old `print()` function has these parameters, and you already know some of them:"
   ]
  },
  {
   "cell_type": "code",
   "execution_count": null,
   "metadata": {},
   "outputs": [],
   "source": [
    "print(\"I\", \"like\", \"chicken\", \"quesadilla\")  # default separation is space\n",
    "print(\"I\", \"like\", \"chicken\", \"quesadilla\", sep = \" !!! \")  # custom sep"
   ]
  },
  {
   "cell_type": "code",
   "execution_count": null,
   "metadata": {},
   "outputs": [],
   "source": [
    "print(\"I\", \"like\", \"chicken\", \"quesadilla\", sep = \" !!! \", end = \"\\nROUND.\") # one more custom param"
   ]
  },
  {
   "cell_type": "code",
   "execution_count": null,
   "metadata": {},
   "outputs": [],
   "source": [
    "# ex. make your name as default in endorsement function and check it\n",
    "def endorsement(person):\n",
    "    return f\"Don't worry {person}, everything will be fine :)\"\n",
    "\n",
    "...\n",
    "\n",
    "endorsement()"
   ]
  },
  {
   "cell_type": "code",
   "execution_count": null,
   "metadata": {},
   "outputs": [],
   "source": [
    "# ex. add a required argument to replace \"fine\" in the endorsement function with the custom word\n",
    "...\n",
    "\n",
    "endorsement(\"magnificent\") # all-right excellent splendid wonderful fair-weather"
   ]
  },
  {
   "cell_type": "markdown",
   "metadata": {},
   "source": [
    "Important to know about `default parameters`:\n",
    "* the function now will accept any number of arguments between len(required_parameters) and len(all_parameters) c:\n",
    "* they should follow required ones, not vice versa.\n",
    "* they will be assigned in the order of definition in case if you don't specify the concrete parameter."
   ]
  },
  {
   "cell_type": "markdown",
   "metadata": {},
   "source": [
    "#### 2. Args and kwargs\n",
    "\n",
    "Joking aside. Now some serious pythonistic stuff.\n",
    "\n",
    "In some cases you want to extract parameters, which passed into function, as a container, but not as separate values. Moreover, you couldn't be sure about the number of these parameters: say, you need to say \"Good morning\" to all children in class with code, but the number of attended students varies each day. \n",
    "\n",
    "For this purpose, programmers use `*args` to create `tuple`s and `**kwargs` to create `dict`s (words are just common-used practice, pay attention to stars/asterisks):"
   ]
  },
  {
   "cell_type": "code",
   "execution_count": null,
   "metadata": {},
   "outputs": [],
   "source": [
    "# tuples in action\n",
    "def approx_grade(*args): \n",
    "    return f\"Your approx. grade is {round(sum(args)/len(args), 2)}\"\n",
    "\n",
    "approx_grade(1,2,3,4,5) # try playing with number of arguments"
   ]
  },
  {
   "cell_type": "code",
   "execution_count": null,
   "metadata": {},
   "outputs": [],
   "source": [
    "#  dictionaries are here\n",
    "def grades_dict(**kwargs): \n",
    "    for a in kwargs:\n",
    "        print(a, kwargs[a]) \n",
    "    return sorted(kwargs.items(), key=lambda item: item[1], reverse=True)\n",
    "\n",
    "grades_dict(math = 6, sociology = 10, history = 10, economics = 4)"
   ]
  },
  {
   "cell_type": "code",
   "execution_count": null,
   "metadata": {},
   "outputs": [],
   "source": [
    "# ex. rewrite greetings function to say hello to each person in parameters\n",
    "\n",
    "def greetings(firstname):\n",
    "    return f\"Greetings, {firstname}!\"\n",
    "\n",
    "...\n",
    "\n",
    "greetings(\"Sasha\", \"Pasha\", \"Masha\")"
   ]
  },
  {
   "cell_type": "markdown",
   "metadata": {},
   "source": [
    "### Wrapping up\n",
    "\n",
    "Back to our rolling dices, let's try to combine all studied topics to design the prefect Python dice roller."
   ]
  },
  {
   "cell_type": "code",
   "execution_count": null,
   "metadata": {},
   "outputs": [],
   "source": [
    "# ex. create a function to roll 1d6. show the answer.\n",
    "...\n",
    "\n",
    "roll()"
   ]
  },
  {
   "cell_type": "code",
   "execution_count": null,
   "metadata": {},
   "outputs": [],
   "source": [
    "# ex. make the number of sides customizable in your function. you can use 6 as default\n",
    "...\n",
    "\n",
    "roll(20)"
   ]
  },
  {
   "cell_type": "code",
   "execution_count": null,
   "metadata": {},
   "outputs": [],
   "source": [
    "# ex. now determine number of rolls. save results in list\n",
    "...\n",
    "\n",
    "roll(5)\n",
    "\n",
    "# *adv. ex. list comprehension for the last task\n"
   ]
  },
  {
   "cell_type": "code",
   "execution_count": null,
   "metadata": {},
   "outputs": [],
   "source": [
    "# ex. how many times 20 will appear from rolling 100 d20 dices? answer in one code line.\n",
    "### hint: pay attention to return type\n"
   ]
  },
  {
   "cell_type": "code",
   "execution_count": null,
   "metadata": {},
   "outputs": [],
   "source": [
    "# ex. calculate the average score for 10, 10'000 and 10'000'000 d6 rolls.\n",
    "# use functions to create a template of descriptive statistics.\n",
    "\n",
    "...\n",
    "\n",
    "desc(roll(10))"
   ]
  },
  {
   "cell_type": "markdown",
   "metadata": {},
   "source": [
    "### Bonus functions\n",
    "\n",
    "So now we know how to design our code functionally. But possibilities of Python are endless, or close to endless. For example, you can use function in other's function body, or apply functions to containers. "
   ]
  },
  {
   "cell_type": "markdown",
   "metadata": {},
   "source": [
    "#### Maps\n",
    "\n",
    "The `map()` function applies a given function to each item of an iterable (list, tuple etc.) and returns an iterator. The format of return is an object of map class, which could be easily converted to `list` or `set`. You can use bot existent and hand-made functions. Basic syntax:\n",
    "> `map(function, iterable)`"
   ]
  },
  {
   "cell_type": "code",
   "execution_count": null,
   "metadata": {},
   "outputs": [],
   "source": [
    "# ex. store each name in separate list, letter by letter, ;ike ['t', 'h', 'i', 's']\n",
    "pupils = ('Alice', 'Bender', 'Cameron', 'Danny')\n",
    "..."
   ]
  },
  {
   "cell_type": "code",
   "execution_count": null,
   "metadata": {},
   "outputs": [],
   "source": [
    "# ex. raise each number in list by power of itself using map()\n",
    "numbers = list(range(1,6))\n",
    "\n",
    "def raising(number):\n",
    "    return number**number\n",
    "\n",
    "..."
   ]
  },
  {
   "cell_type": "markdown",
   "metadata": {},
   "source": [
    "### Lambda functions\n",
    "\n",
    "It's time to finally understand what's `sorted(dict.items(), key=lambda item: item[1])` means. Lambda keyword creates `an anonymous function`, or a function without name. The structure:  \n",
    "> `lambda arguments: expression`\n"
   ]
  },
  {
   "cell_type": "markdown",
   "metadata": {},
   "source": [
    "In this case, these two codes are nearly different."
   ]
  },
  {
   "cell_type": "code",
   "execution_count": null,
   "metadata": {},
   "outputs": [],
   "source": [
    "double = lambda x: x * 2\n",
    "double(20)"
   ]
  },
  {
   "cell_type": "code",
   "execution_count": null,
   "metadata": {},
   "outputs": [],
   "source": [
    "def double(x):\n",
    "   return x * 2\n",
    "double(20)"
   ]
  },
  {
   "cell_type": "markdown",
   "metadata": {},
   "source": [
    "#### Functions in functions"
   ]
  },
  {
   "cell_type": "code",
   "execution_count": null,
   "metadata": {},
   "outputs": [],
   "source": [
    "# ex. now build and experiment. roll 5 20-sided dices 100 times and count how many 20's appeared.\n",
    "...\n",
    "\n",
    "...\n",
    "\n",
    "random.seed(42)\n",
    "...\n",
    "\n",
    "# ex. which dice always wins? why?"
   ]
  },
  {
   "cell_type": "markdown",
   "metadata": {},
   "source": [
    "Here you need to be patient about **local** and **global** variables. Have a look to this task:"
   ]
  },
  {
   "cell_type": "code",
   "execution_count": null,
   "metadata": {},
   "outputs": [],
   "source": [
    "x = 50\n",
    "\n",
    "def func(x):\n",
    "    print('x is', x)\n",
    "    x = 2\n",
    "    print('Changed local x to', x)\n",
    "\n",
    "\n",
    "func(x)\n",
    "print('x is still', x)"
   ]
  },
  {
   "cell_type": "markdown",
   "metadata": {},
   "source": [
    "The name x is `local` to our function. So, when we change the value of x in the function, the x defined in the main block remains unaffected.\n",
    "\n",
    "To change outer variable you need to declare it as `global` before the run of the function:"
   ]
  },
  {
   "cell_type": "code",
   "execution_count": null,
   "metadata": {},
   "outputs": [],
   "source": [
    "x = 50\n",
    "\n",
    "def func():\n",
    "    global x\n",
    "\n",
    "    print('x is', x)\n",
    "    x = 2\n",
    "    print('Changed global x to', x)\n",
    "\n",
    "\n",
    "func()\n",
    "print('Value of x is', x)"
   ]
  },
  {
   "cell_type": "code",
   "execution_count": 8,
   "metadata": {},
   "outputs": [
    {
     "name": "stdout",
     "output_type": "stream",
     "text": [
      "48\n"
     ]
    }
   ],
   "source": [
    "# *ex. create a code with kwargs to store results of election: for example state-winner_party pair.\n",
    "#  create a counter of passed states with the same name as general counter of states.as_integer_ratio\n",
    "#  compare these variables \n",
    "\n",
    "states = 51\n",
    "\n",
    "def democratic_party...\n",
    "   # try both local/global states\n",
    "\n",
    "democratic_party(california = -2, new_york = -14, texas = 666, ohio = -3)"
   ]
  },
  {
   "cell_type": "markdown",
   "metadata": {},
   "source": [
    "### Homework\n",
    "\n",
    "And here I want to recall two more exercises from previous weeks - **a city-chain game** and **twenty one card game**. If you tried to complete them during the 1st module, you have pretty good chances to capture several virtual stickers yet again.\n",
    "\n",
    "![](../img/cities.png)\n",
    "\n",
    "1. Pick the task you'd like. It would be great to try yourself in one that turned out harder in past.\n",
    "2. Cover the logic of the game in functions. \n",
    "3. **adv.* Complete a multi-layer function (a single function for the game) for these games to make them executable from you computer. "
   ]
  }
 ],
 "metadata": {
  "kernelspec": {
   "display_name": "Python 3.10.4 64-bit",
   "language": "python",
   "name": "python3"
  },
  "language_info": {
   "codemirror_mode": {
    "name": "ipython",
    "version": 3
   },
   "file_extension": ".py",
   "mimetype": "text/x-python",
   "name": "python",
   "nbconvert_exporter": "python",
   "pygments_lexer": "ipython3",
   "version": "3.10.4"
  },
  "orig_nbformat": 4,
  "vscode": {
   "interpreter": {
    "hash": "db967a82a5395c9886e36287b4fc3d4cdf41cf28b68e7cdaae12bdbf290d326d"
   }
  }
 },
 "nbformat": 4,
 "nbformat_minor": 2
}
