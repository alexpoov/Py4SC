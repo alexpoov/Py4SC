{
 "cells": [
  {
   "attachments": {},
   "cell_type": "markdown",
   "metadata": {},
   "source": [
    "# The Exam"
   ]
  },
  {
   "attachments": {},
   "cell_type": "markdown",
   "metadata": {},
   "source": [
    "### Part I"
   ]
  },
  {
   "attachments": {},
   "cell_type": "markdown",
   "metadata": {},
   "source": [
    "#### q1"
   ]
  },
  {
   "attachments": {},
   "cell_type": "markdown",
   "metadata": {},
   "source": [
    "Что будет результатом выполнения данного чанка?  \n",
    "***Ответ:*** Like ripples on a blank shore"
   ]
  },
  {
   "cell_type": "code",
   "execution_count": null,
   "metadata": {},
   "outputs": [],
   "source": [
    "# print('21st Century Schizoid Man')"
   ]
  },
  {
   "attachments": {},
   "cell_type": "markdown",
   "metadata": {},
   "source": [
    "Сколько объектов можно поместить внутрь функции `print()`?  \n",
    "***Ответ:*** сколько угодно"
   ]
  },
  {
   "attachments": {},
   "cell_type": "markdown",
   "metadata": {},
   "source": [
    "Как нельзя назвать переменную?  \n",
    "***Ответ:*** 1st_value"
   ]
  },
  {
   "attachments": {},
   "cell_type": "markdown",
   "metadata": {},
   "source": [
    "#### q2"
   ]
  },
  {
   "cell_type": "markdown",
   "metadata": {},
   "source": [
    "Какая функция возвращает класс объекта?  \n",
    "***Ответ:*** type"
   ]
  },
  {
   "attachments": {},
   "cell_type": "markdown",
   "metadata": {},
   "source": [
    "Какое целое число в классе `int` сооветствует значению `True` в классе `bool`?  \n",
    "***Ответ:*** 1"
   ]
  },
  {
   "attachments": {},
   "cell_type": "markdown",
   "metadata": {},
   "source": [
    "Чтобы питон понял, что объект принадлежит классу `str`. его надо обернуть...  \n",
    "***Ответ:*** все варианты верны (\"\", \"\", \"\"\"\"\"\") "
   ]
  },
  {
   "cell_type": "markdown",
   "metadata": {},
   "source": [
    "#### q3"
   ]
  },
  {
   "cell_type": "code",
   "execution_count": 13,
   "metadata": {},
   "outputs": [
    {
     "data": {
      "text/plain": [
       "1.0"
      ]
     },
     "execution_count": 13,
     "metadata": {},
     "output_type": "execute_result"
    }
   ],
   "source": [
    "float(bool(str(bool('Error')))) # 1.0"
   ]
  },
  {
   "cell_type": "code",
   "execution_count": 14,
   "metadata": {},
   "outputs": [
    {
     "data": {
      "text/plain": [
       "'12.3'"
      ]
     },
     "execution_count": 14,
     "metadata": {},
     "output_type": "execute_result"
    }
   ],
   "source": [
    "'12.3' # str"
   ]
  },
  {
   "cell_type": "code",
   "execution_count": 15,
   "metadata": {},
   "outputs": [
    {
     "data": {
      "text/plain": [
       "True"
      ]
     },
     "execution_count": 15,
     "metadata": {},
     "output_type": "execute_result"
    }
   ],
   "source": [
    "bool(str(int(False))) # True"
   ]
  },
  {
   "attachments": {},
   "cell_type": "markdown",
   "metadata": {},
   "source": [
    "#### q4"
   ]
  },
  {
   "cell_type": "code",
   "execution_count": 17,
   "metadata": {},
   "outputs": [
    {
     "data": {
      "text/plain": [
       "3"
      ]
     },
     "execution_count": 17,
     "metadata": {},
     "output_type": "execute_result"
    }
   ],
   "source": [
    "15 // 4 "
   ]
  },
  {
   "cell_type": "code",
   "execution_count": 18,
   "metadata": {},
   "outputs": [
    {
     "data": {
      "text/plain": [
       "2"
      ]
     },
     "execution_count": 18,
     "metadata": {},
     "output_type": "execute_result"
    }
   ],
   "source": [
    "30 % 4 "
   ]
  },
  {
   "cell_type": "code",
   "execution_count": 38,
   "metadata": {},
   "outputs": [
    {
     "data": {
      "text/plain": [
       "'¯\\\\_(ツ)_/¯¯\\\\_(ツ)_/¯¯\\\\_(ツ)_/¯'"
      ]
     },
     "execution_count": 38,
     "metadata": {},
     "output_type": "execute_result"
    }
   ],
   "source": [
    "'¯\\_(ツ)_/¯'*3"
   ]
  },
  {
   "attachments": {},
   "cell_type": "markdown",
   "metadata": {},
   "source": [
    "#### q5"
   ]
  },
  {
   "cell_type": "code",
   "execution_count": 23,
   "metadata": {},
   "outputs": [
    {
     "data": {
      "text/plain": [
       "True"
      ]
     },
     "execution_count": 23,
     "metadata": {},
     "output_type": "execute_result"
    }
   ],
   "source": [
    "17 > 4 or 17 < 4"
   ]
  },
  {
   "cell_type": "code",
   "execution_count": 27,
   "metadata": {},
   "outputs": [
    {
     "data": {
      "text/plain": [
       "True"
      ]
     },
     "execution_count": 27,
     "metadata": {},
     "output_type": "execute_result"
    }
   ],
   "source": [
    "not ( 2 * 2 == 4 and 2 + 2 == 5 )"
   ]
  },
  {
   "cell_type": "code",
   "execution_count": 30,
   "metadata": {},
   "outputs": [
    {
     "data": {
      "text/plain": [
       "True"
      ]
     },
     "execution_count": 30,
     "metadata": {},
     "output_type": "execute_result"
    }
   ],
   "source": [
    "not not not not not False"
   ]
  },
  {
   "cell_type": "markdown",
   "metadata": {},
   "source": [
    "#### q6"
   ]
  },
  {
   "attachments": {},
   "cell_type": "markdown",
   "metadata": {},
   "source": [
    "Which function is claimed to collect user's input data?  \n",
    "***input()***"
   ]
  },
  {
   "attachments": {},
   "cell_type": "markdown",
   "metadata": {},
   "source": [
    "Which role has a single `str` object inside `input()`?  \n",
    "***Comment*** "
   ]
  },
  {
   "attachments": {},
   "cell_type": "markdown",
   "metadata": {},
   "source": [
    "Which type of data does the finction `input()` return?  \n",
    "***str***"
   ]
  },
  {
   "cell_type": "markdown",
   "metadata": {},
   "source": [
    "#### q7"
   ]
  },
  {
   "attachments": {},
   "cell_type": "markdown",
   "metadata": {},
   "source": [
    "How Pyhton understands that the codeline should be executed only once `if` condition is satisfied?  \n",
    "***Space after if***"
   ]
  },
  {
   "attachments": {},
   "cell_type": "markdown",
   "metadata": {},
   "source": [
    "Which keyword is essential inside `if` statement?  \n",
    "***`if`*** (ifelse, else, for)"
   ]
  },
  {
   "attachments": {},
   "cell_type": "markdown",
   "metadata": {},
   "source": [
    "What should be satisfied for Python to execute the code after `if` condition?  \n",
    "***Logical expression equals True***"
   ]
  },
  {
   "cell_type": "markdown",
   "metadata": {},
   "source": [
    "#### q8"
   ]
  },
  {
   "attachments": {},
   "cell_type": "markdown",
   "metadata": {},
   "source": [
    "Skip int, input and elif here"
   ]
  },
  {
   "cell_type": "code",
   "execution_count": 42,
   "metadata": {},
   "outputs": [
    {
     "name": "stdout",
     "output_type": "stream",
     "text": [
      "wrong time. try again\n"
     ]
    }
   ],
   "source": [
    "time = int(input(\"Enter hours here\"))\n",
    "\n",
    "if time < 6:\n",
    "    print(\"good night!\")\n",
    "elif time < 12:\n",
    "    print(\"good morning!\")\n",
    "elif time < 18:\n",
    "    print(\"good afternoon!\")\n",
    "elif time <= 24:\n",
    "    print(\"good evening!\")\n",
    "else:\n",
    "    print(\"wrong time. try again\")"
   ]
  },
  {
   "cell_type": "markdown",
   "metadata": {},
   "source": [
    "#### q9"
   ]
  },
  {
   "attachments": {},
   "cell_type": "markdown",
   "metadata": {},
   "source": [
    "Which of these objects are immutable, meaning values cant be changes once assigned?  \n",
    "***Tuples***"
   ]
  },
  {
   "attachments": {},
   "cell_type": "markdown",
   "metadata": {},
   "source": [
    "Which data container uses square brackets to create an object?  \n",
    "***list***"
   ]
  },
  {
   "attachments": {},
   "cell_type": "markdown",
   "metadata": {},
   "source": [
    "Which of these objects has no indexing?  \n",
    "***sets***"
   ]
  },
  {
   "attachments": {},
   "cell_type": "markdown",
   "metadata": {},
   "source": [
    "#### q10"
   ]
  },
  {
   "attachments": {},
   "cell_type": "markdown",
   "metadata": {},
   "source": [
    "Determine the correct index of the element **Cola** inside the nested list:  \n",
    "`ecommerce=[['books',['comedy','horror'],'toys',['snacks', ['cola', 'pepsi', 'fanta']],'kitchenware'],[200,100,350]]`\n"
   ]
  },
  {
   "cell_type": "code",
   "execution_count": 72,
   "metadata": {},
   "outputs": [
    {
     "data": {
      "text/plain": [
       "'cola'"
      ]
     },
     "execution_count": 72,
     "metadata": {},
     "output_type": "execute_result"
    }
   ],
   "source": [
    "ecommerce=[['books',['comedy','horror'],'toys',['snacks', ['cola', 'pepsi', 'fanta']],'kitchenware'],[200,100,350]]\n",
    "ecommerce[0][3][1][0]"
   ]
  },
  {
   "attachments": {},
   "cell_type": "markdown",
   "metadata": {},
   "source": [
    "#### q11\n",
    "\n",
    "Get the word **courage** from the word **encouragement** using index slices only."
   ]
  },
  {
   "cell_type": "code",
   "execution_count": 73,
   "metadata": {},
   "outputs": [
    {
     "data": {
      "text/plain": [
       "'courage'"
      ]
     },
     "execution_count": 73,
     "metadata": {},
     "output_type": "execute_result"
    }
   ],
   "source": [
    "'encouragement'[2:-4]"
   ]
  },
  {
   "cell_type": "code",
   "execution_count": 80,
   "metadata": {},
   "outputs": [
    {
     "data": {
      "text/plain": [
       "'close'"
      ]
     },
     "execution_count": 80,
     "metadata": {},
     "output_type": "execute_result"
    }
   ],
   "source": [
    "'undisclosed'[5:-1]"
   ]
  },
  {
   "cell_type": "code",
   "execution_count": 78,
   "metadata": {},
   "outputs": [
    {
     "data": {
      "text/plain": [
       "'unity'"
      ]
     },
     "execution_count": 78,
     "metadata": {},
     "output_type": "execute_result"
    }
   ],
   "source": [
    "'opportunity'[6:]"
   ]
  },
  {
   "attachments": {},
   "cell_type": "markdown",
   "metadata": {},
   "source": [
    "#### q12\n",
    "\n",
    "Alternades: collect the word pie from the word paines using slices with steps only."
   ]
  },
  {
   "cell_type": "code",
   "execution_count": 83,
   "metadata": {},
   "outputs": [
    {
     "data": {
      "text/plain": [
       "'pie'"
      ]
     },
     "execution_count": 83,
     "metadata": {},
     "output_type": "execute_result"
    }
   ],
   "source": [
    "'pained'[::2]"
   ]
  },
  {
   "cell_type": "code",
   "execution_count": 86,
   "metadata": {},
   "outputs": [
    {
     "data": {
      "text/plain": [
       "'tunis'"
      ]
     },
     "execution_count": 86,
     "metadata": {},
     "output_type": "execute_result"
    }
   ],
   "source": [
    "'truancies'[::2]"
   ]
  },
  {
   "cell_type": "code",
   "execution_count": 87,
   "metadata": {},
   "outputs": [
    {
     "data": {
      "text/plain": [
       "'bad'"
      ]
     },
     "execution_count": 87,
     "metadata": {},
     "output_type": "execute_result"
    }
   ],
   "source": [
    "'board'[::2]"
   ]
  },
  {
   "attachments": {},
   "cell_type": "markdown",
   "metadata": {},
   "source": [
    "#### q13"
   ]
  },
  {
   "attachments": {},
   "cell_type": "markdown",
   "metadata": {},
   "source": [
    "Highlight the mistake in this code chunk  \n",
    "**Infinite loop**"
   ]
  },
  {
   "cell_type": "code",
   "execution_count": 88,
   "metadata": {},
   "outputs": [],
   "source": [
    "# i = 10\n",
    "# while i > 0:\n",
    "#     print(i)"
   ]
  },
  {
   "attachments": {},
   "cell_type": "markdown",
   "metadata": {},
   "source": [
    "#### q14"
   ]
  },
  {
   "attachments": {},
   "cell_type": "markdown",
   "metadata": {},
   "source": [
    "Write correct condition for this output here"
   ]
  },
  {
   "cell_type": "code",
   "execution_count": 90,
   "metadata": {},
   "outputs": [
    {
     "name": "stdout",
     "output_type": "stream",
     "text": [
      "You have passed level 1\n",
      "You have passed level 2\n",
      "You have passed level 3\n",
      "Level Ends\n"
     ]
    }
   ],
   "source": [
    "current_level = 1\n",
    "final_level = 3\n",
    "\n",
    "game_completed = True\n",
    "\n",
    "while current_level <= final_level:\n",
    "    if game_completed: \n",
    "        print('You have passed level', current_level)\n",
    "        current_level += 1\n",
    "\n",
    "print('Level Ends')"
   ]
  },
  {
   "attachments": {},
   "cell_type": "markdown",
   "metadata": {},
   "source": [
    "#### q15\n",
    "\n",
    "Complete missing condition to display fruits from the shopping cart (it must contain some keyword)."
   ]
  },
  {
   "cell_type": "code",
   "execution_count": 92,
   "metadata": {},
   "outputs": [
    {
     "name": "stdout",
     "output_type": "stream",
     "text": [
      "banana\n",
      "orange\n"
     ]
    }
   ],
   "source": [
    "cart = ['iphone', 'cookies', 'shirt', \n",
    "        'banana', 'orange', 'fork']\n",
    "\n",
    "fruits = ['apple', 'banana', 'orange']\n",
    "\n",
    "for item in cart: \n",
    "    if item in fruits:\n",
    "        print(item)"
   ]
  },
  {
   "attachments": {},
   "cell_type": "markdown",
   "metadata": {},
   "source": [
    "#### q16\n",
    "\n",
    "Fill the gap to get this output:"
   ]
  },
  {
   "cell_type": "code",
   "execution_count": 94,
   "metadata": {},
   "outputs": [
    {
     "name": "stdout",
     "output_type": "stream",
     "text": [
      "1\n",
      "2\n",
      "3\n",
      "4\n",
      "5\n"
     ]
    }
   ],
   "source": [
    "for j in range(1, 6):\n",
    "    print(j)"
   ]
  },
  {
   "attachments": {},
   "cell_type": "markdown",
   "metadata": {},
   "source": [
    "#### q17\n",
    "Which data type is not allowed for `dict` keys?  \n",
    "***Allowed:*** integer, float, string, booleans, tuples  \n",
    "***Not allowed:*** list, dict, set"
   ]
  },
  {
   "attachments": {},
   "cell_type": "markdown",
   "metadata": {},
   "source": [
    "#### q18\n",
    "\n",
    "Get the song \"What I've Done\" from the dict of vinyl collection."
   ]
  },
  {
   "cell_type": "code",
   "execution_count": 114,
   "metadata": {},
   "outputs": [],
   "source": [
    "collection = {\n",
    "        \"Linkin Park\": {\n",
    "            \"albums\": [\"Hybrid Theory\", \"Meteora\"],\n",
    "            \"singles\": [\"What I've Done\", 'All for Nothing'] \n",
    "        },\n",
    "        'Nirvana': {\n",
    "            \"albums\": [\"Nevermind\", \"MTV Unplugged in New York\"],\n",
    "            \"singles\": [\"Heart-Shaped Box\", \"All Apologies / R**e Me\"]\n",
    "        },\n",
    "        'Arctic Monkeys': {\n",
    "            \"albums\": [\"Humburg\", \"AM\", \"Tranquility Base Hotel & Casino\"],\n",
    "            \"singles\": [\"Do Me a Favor\", \"I Bet You Look Good on the Dancefloor\"]\n",
    "        }\n",
    "}\n"
   ]
  },
  {
   "cell_type": "code",
   "execution_count": 110,
   "metadata": {},
   "outputs": [
    {
     "data": {
      "text/plain": [
       "\"What I've Done\""
      ]
     },
     "execution_count": 110,
     "metadata": {},
     "output_type": "execute_result"
    }
   ],
   "source": [
    "collection['Linkin Park']['singles'][0]"
   ]
  },
  {
   "attachments": {},
   "cell_type": "markdown",
   "metadata": {},
   "source": [
    "#### q19\n",
    "\n",
    "FIll the gap to remove **\"I Bet You Look Good on the Dancefloor\"** from the collection and add a new list - category **Films** to Arctic Monkey's dictionary with the value **\"Submarine\"**"
   ]
  },
  {
   "cell_type": "code",
   "execution_count": 115,
   "metadata": {},
   "outputs": [],
   "source": [
    "collection['Arctic Monkeys']['singles'].remove(\"I Bet You Look Good on the Dancefloor\")\n",
    "collection['Arctic Monkeys']['films'] = ['Submarine']"
   ]
  },
  {
   "attachments": {},
   "cell_type": "markdown",
   "metadata": {},
   "source": [
    "#### q20\n",
    "\n",
    "Fill the gaps in the code to make correct string formatting"
   ]
  },
  {
   "cell_type": "code",
   "execution_count": 119,
   "metadata": {},
   "outputs": [
    {
     "data": {
      "text/plain": [
       "['A', '10', 'ton', 'head,', 'made', 'of', 'wet', 'sand']"
      ]
     },
     "execution_count": 119,
     "metadata": {},
     "output_type": "execute_result"
    }
   ],
   "source": [
    "amount_of_tonnes = 10\n",
    "f\"A {amount_of_tonnes} ton head, made of wet sand\".split()"
   ]
  },
  {
   "attachments": {},
   "cell_type": "markdown",
   "metadata": {},
   "source": [
    "#### q21\n",
    "\n",
    "Write the correct line to import package for table-view data (DataFrames) with its shorten name\n",
    "\n",
    "`import pandas as pd`"
   ]
  },
  {
   "attachments": {},
   "cell_type": "markdown",
   "metadata": {},
   "source": [
    "#### q22\n",
    "Which method we should use to remove one particular feature (column) from a DataFrame?  \n",
    "`.drop()` / remove, head_out, isin"
   ]
  },
  {
   "attachments": {},
   "cell_type": "markdown",
   "metadata": {},
   "source": [
    "#### q23\n"
   ]
  },
  {
   "attachments": {},
   "cell_type": "markdown",
   "metadata": {},
   "source": [
    "Which word here is missing to make the DataFrame sorted in descending order?\n",
    "`ascending`"
   ]
  },
  {
   "cell_type": "code",
   "execution_count": 133,
   "metadata": {},
   "outputs": [
    {
     "data": {
      "text/html": [
       "<div>\n",
       "<style scoped>\n",
       "    .dataframe tbody tr th:only-of-type {\n",
       "        vertical-align: middle;\n",
       "    }\n",
       "\n",
       "    .dataframe tbody tr th {\n",
       "        vertical-align: top;\n",
       "    }\n",
       "\n",
       "    .dataframe thead th {\n",
       "        text-align: right;\n",
       "    }\n",
       "</style>\n",
       "<table border=\"1\" class=\"dataframe\">\n",
       "  <thead>\n",
       "    <tr style=\"text-align: right;\">\n",
       "      <th></th>\n",
       "      <th>sepal_length</th>\n",
       "      <th>sepal_width</th>\n",
       "      <th>petal_length</th>\n",
       "      <th>petal_width</th>\n",
       "      <th>species</th>\n",
       "    </tr>\n",
       "  </thead>\n",
       "  <tbody>\n",
       "    <tr>\n",
       "      <th>131</th>\n",
       "      <td>7.9</td>\n",
       "      <td>3.8</td>\n",
       "      <td>6.4</td>\n",
       "      <td>2.0</td>\n",
       "      <td>virginica</td>\n",
       "    </tr>\n",
       "    <tr>\n",
       "      <th>135</th>\n",
       "      <td>7.7</td>\n",
       "      <td>3.0</td>\n",
       "      <td>6.1</td>\n",
       "      <td>2.3</td>\n",
       "      <td>virginica</td>\n",
       "    </tr>\n",
       "    <tr>\n",
       "      <th>122</th>\n",
       "      <td>7.7</td>\n",
       "      <td>2.8</td>\n",
       "      <td>6.7</td>\n",
       "      <td>2.0</td>\n",
       "      <td>virginica</td>\n",
       "    </tr>\n",
       "    <tr>\n",
       "      <th>117</th>\n",
       "      <td>7.7</td>\n",
       "      <td>3.8</td>\n",
       "      <td>6.7</td>\n",
       "      <td>2.2</td>\n",
       "      <td>virginica</td>\n",
       "    </tr>\n",
       "    <tr>\n",
       "      <th>118</th>\n",
       "      <td>7.7</td>\n",
       "      <td>2.6</td>\n",
       "      <td>6.9</td>\n",
       "      <td>2.3</td>\n",
       "      <td>virginica</td>\n",
       "    </tr>\n",
       "    <tr>\n",
       "      <th>...</th>\n",
       "      <td>...</td>\n",
       "      <td>...</td>\n",
       "      <td>...</td>\n",
       "      <td>...</td>\n",
       "      <td>...</td>\n",
       "    </tr>\n",
       "    <tr>\n",
       "      <th>41</th>\n",
       "      <td>4.5</td>\n",
       "      <td>2.3</td>\n",
       "      <td>1.3</td>\n",
       "      <td>0.3</td>\n",
       "      <td>setosa</td>\n",
       "    </tr>\n",
       "    <tr>\n",
       "      <th>42</th>\n",
       "      <td>4.4</td>\n",
       "      <td>3.2</td>\n",
       "      <td>1.3</td>\n",
       "      <td>0.2</td>\n",
       "      <td>setosa</td>\n",
       "    </tr>\n",
       "    <tr>\n",
       "      <th>38</th>\n",
       "      <td>4.4</td>\n",
       "      <td>3.0</td>\n",
       "      <td>1.3</td>\n",
       "      <td>0.2</td>\n",
       "      <td>setosa</td>\n",
       "    </tr>\n",
       "    <tr>\n",
       "      <th>8</th>\n",
       "      <td>4.4</td>\n",
       "      <td>2.9</td>\n",
       "      <td>1.4</td>\n",
       "      <td>0.2</td>\n",
       "      <td>setosa</td>\n",
       "    </tr>\n",
       "    <tr>\n",
       "      <th>13</th>\n",
       "      <td>4.3</td>\n",
       "      <td>3.0</td>\n",
       "      <td>1.1</td>\n",
       "      <td>0.1</td>\n",
       "      <td>setosa</td>\n",
       "    </tr>\n",
       "  </tbody>\n",
       "</table>\n",
       "<p>150 rows × 5 columns</p>\n",
       "</div>"
      ],
      "text/plain": [
       "     sepal_length  sepal_width  petal_length  petal_width    species\n",
       "131           7.9          3.8           6.4          2.0  virginica\n",
       "135           7.7          3.0           6.1          2.3  virginica\n",
       "122           7.7          2.8           6.7          2.0  virginica\n",
       "117           7.7          3.8           6.7          2.2  virginica\n",
       "118           7.7          2.6           6.9          2.3  virginica\n",
       "..            ...          ...           ...          ...        ...\n",
       "41            4.5          2.3           1.3          0.3     setosa\n",
       "42            4.4          3.2           1.3          0.2     setosa\n",
       "38            4.4          3.0           1.3          0.2     setosa\n",
       "8             4.4          2.9           1.4          0.2     setosa\n",
       "13            4.3          3.0           1.1          0.1     setosa\n",
       "\n",
       "[150 rows x 5 columns]"
      ]
     },
     "execution_count": 133,
     "metadata": {},
     "output_type": "execute_result"
    }
   ],
   "source": [
    "iris.sort_values('sepal_length', ascending = False)"
   ]
  },
  {
   "cell_type": "markdown",
   "metadata": {},
   "source": [
    "#### q25\n",
    "Lamda functions also known as...\n",
    "anpnymous"
   ]
  },
  {
   "attachments": {},
   "cell_type": "markdown",
   "metadata": {},
   "source": [
    "globals\n",
    "args\n",
    "kwargs"
   ]
  },
  {
   "attachments": {},
   "cell_type": "markdown",
   "metadata": {},
   "source": [
    "### Part II"
   ]
  },
  {
   "attachments": {},
   "cell_type": "markdown",
   "metadata": {},
   "source": [
    "#### q1 \n",
    "There is a tuple `workers` that contains names of co-workers. You need to add new employee, **Jim Halpert**, to this tuple. Note that result object of this operation shoul be tuple as well. "
   ]
  },
  {
   "cell_type": "code",
   "execution_count": 121,
   "metadata": {},
   "outputs": [
    {
     "data": {
      "text/plain": [
       "('Michael Scott',\n",
       " 'Dwight Schrute',\n",
       " 'Pam Beesly',\n",
       " 'Ryan Howard',\n",
       " 'Stanley Hudson',\n",
       " 'Kevin Malone',\n",
       " 'Angela Martin',\n",
       " 'Oscar Martinez',\n",
       " 'Jim Halpert')"
      ]
     },
     "execution_count": 121,
     "metadata": {},
     "output_type": "execute_result"
    }
   ],
   "source": [
    "office = ('Michael Scott', 'Dwight Schrute', 'Pam Beesly',\n",
    "            'Ryan Howard', 'Stanley Hudson', 'Kevin Malone',\n",
    "            'Angela Martin', 'Oscar Martinez')\n",
    "\n",
    "office = list(office)\n",
    "office.append('Jim Halpert')\n",
    "office = tuple(office)\n",
    "\n",
    "office"
   ]
  },
  {
   "attachments": {},
   "cell_type": "markdown",
   "metadata": {},
   "source": [
    "#### q2\n",
    "\n",
    "Now you need to cover the code of previous task in function to get such kind of testing output:  \n",
    "\n",
    "> `add_new_employee(office, 'Andy Bernard')`  \n",
    ">\n",
    "> `('Michael Scott',\n",
    " 'Dwight Schrute',\n",
    " 'Pam Beesly',\n",
    " 'Ryan Howard',\n",
    " 'Stanley Hudson',\n",
    " 'Kevin Malone',\n",
    " 'Angela Martin',\n",
    " 'Oscar Martinez',\n",
    " 'Jim Halpert')`"
   ]
  },
  {
   "cell_type": "code",
   "execution_count": 122,
   "metadata": {},
   "outputs": [],
   "source": [
    "def add_new_employee(obj, person):\n",
    "\n",
    "    obj = list(obj)\n",
    "    obj.append(person)\n",
    "    obj = tuple(obj)\n",
    "\n",
    "    return obj"
   ]
  },
  {
   "cell_type": "code",
   "execution_count": 123,
   "metadata": {},
   "outputs": [
    {
     "data": {
      "text/plain": [
       "('Michael Scott',\n",
       " 'Dwight Schrute',\n",
       " 'Pam Beesly',\n",
       " 'Ryan Howard',\n",
       " 'Stanley Hudson',\n",
       " 'Kevin Malone',\n",
       " 'Angela Martin',\n",
       " 'Oscar Martinez',\n",
       " 'Jim Halpert',\n",
       " 'Andy Bernard')"
      ]
     },
     "execution_count": 123,
     "metadata": {},
     "output_type": "execute_result"
    }
   ],
   "source": [
    "add_new_employee(office, 'Andy Bernard')"
   ]
  },
  {
   "attachments": {},
   "cell_type": "markdown",
   "metadata": {},
   "source": [
    "#### q3\n",
    "\n",
    "There is a sentence given to you in string. You need to write a code that will create a dictionary of word occurrence in this sentence. \n",
    "\n",
    "> hint: firstly it might be helpful to get a list of word separated between each other."
   ]
  },
  {
   "cell_type": "code",
   "execution_count": 136,
   "metadata": {},
   "outputs": [
    {
     "data": {
      "text/plain": [
       "{'Peter': 4,\n",
       " 'Piper': 4,\n",
       " 'picked': 4,\n",
       " 'a': 3,\n",
       " 'peck': 4,\n",
       " 'of': 4,\n",
       " 'pickled': 4,\n",
       " 'peppers': 4,\n",
       " 'if': 1,\n",
       " 'where': 1,\n",
       " 'is': 1,\n",
       " 'the': 1}"
      ]
     },
     "execution_count": 136,
     "metadata": {},
     "output_type": "execute_result"
    }
   ],
   "source": [
    "sent = '''\n",
    "Peter Piper picked a peck of pickled peppers\n",
    "a peck of pickled peppers Peter Piper picked\n",
    "if Peter Piper picked a peck of pickled peppers\n",
    "where is the peck of pickled peppers Peter Piper picked\\\n",
    "'''\n",
    "frq = {}\n",
    "for w in sent.split():\n",
    "    if w in frq:\n",
    "        frq[w] += 1\n",
    "    else:\n",
    "        frq[w] = 1\n",
    "\n",
    "frq"
   ]
  },
  {
   "attachments": {},
   "cell_type": "markdown",
   "metadata": {},
   "source": [
    "#### q4\n",
    "\n",
    "Write a code that will calculate how many rolls of 20-sided rolling dice it takes to roll equal result on both of dices."
   ]
  },
  {
   "cell_type": "code",
   "execution_count": 163,
   "metadata": {},
   "outputs": [
    {
     "name": "stdout",
     "output_type": "stream",
     "text": [
      "3\n"
     ]
    }
   ],
   "source": [
    "import random \n",
    "\n",
    "d1 = 0 \n",
    "d2 = 1\n",
    "i = 0\n",
    "\n",
    "while d1 != d2:\n",
    "    d1 = random.randint(1, 20)\n",
    "    d2 = random.randint(1, 20)\n",
    "    i +=1\n",
    "\n",
    "print(i)"
   ]
  },
  {
   "cell_type": "markdown",
   "metadata": {},
   "source": [
    "#### q5\n"
   ]
  },
  {
   "cell_type": "code",
   "execution_count": 175,
   "metadata": {},
   "outputs": [
    {
     "data": {
      "text/html": [
       "<div>\n",
       "<style scoped>\n",
       "    .dataframe tbody tr th:only-of-type {\n",
       "        vertical-align: middle;\n",
       "    }\n",
       "\n",
       "    .dataframe tbody tr th {\n",
       "        vertical-align: top;\n",
       "    }\n",
       "\n",
       "    .dataframe thead th {\n",
       "        text-align: right;\n",
       "    }\n",
       "</style>\n",
       "<table border=\"1\" class=\"dataframe\">\n",
       "  <thead>\n",
       "    <tr style=\"text-align: right;\">\n",
       "      <th></th>\n",
       "      <th>city</th>\n",
       "      <th>population</th>\n",
       "      <th>lat</th>\n",
       "      <th>lon</th>\n",
       "      <th>region_name</th>\n",
       "      <th>region_name_ao</th>\n",
       "      <th>region_iso_code</th>\n",
       "      <th>federal_district</th>\n",
       "      <th>okato</th>\n",
       "      <th>oktmo</th>\n",
       "      <th>kladr_id</th>\n",
       "      <th>fias_id</th>\n",
       "      <th>place_id</th>\n",
       "    </tr>\n",
       "  </thead>\n",
       "  <tbody>\n",
       "    <tr>\n",
       "      <th>0</th>\n",
       "      <td>Алейск</td>\n",
       "      <td>29.0</td>\n",
       "      <td>52.492251</td>\n",
       "      <td>82.779361</td>\n",
       "      <td>Алтайский край</td>\n",
       "      <td>NaN</td>\n",
       "      <td>RU-ALT</td>\n",
       "      <td>Сибирский</td>\n",
       "      <td>1403000000</td>\n",
       "      <td>1703000001</td>\n",
       "      <td>2200000200000</td>\n",
       "      <td>ae716080-f27b-40b6-a555-cf8b518e849e</td>\n",
       "      <td>257210632.0</td>\n",
       "    </tr>\n",
       "    <tr>\n",
       "      <th>1</th>\n",
       "      <td>Барнаул</td>\n",
       "      <td>632.4</td>\n",
       "      <td>53.347997</td>\n",
       "      <td>83.779806</td>\n",
       "      <td>Алтайский край</td>\n",
       "      <td>NaN</td>\n",
       "      <td>RU-ALT</td>\n",
       "      <td>Сибирский</td>\n",
       "      <td>1401000000</td>\n",
       "      <td>1701000001</td>\n",
       "      <td>2200000100000</td>\n",
       "      <td>d13945a8-7017-46ab-b1e6-ede1e89317ad</td>\n",
       "      <td>258390190.0</td>\n",
       "    </tr>\n",
       "    <tr>\n",
       "      <th>2</th>\n",
       "      <td>Белокуриха</td>\n",
       "      <td>15.2</td>\n",
       "      <td>51.996152</td>\n",
       "      <td>84.983960</td>\n",
       "      <td>Алтайский край</td>\n",
       "      <td>NaN</td>\n",
       "      <td>RU-ALT</td>\n",
       "      <td>Сибирский</td>\n",
       "      <td>1404000000</td>\n",
       "      <td>1704000001</td>\n",
       "      <td>2200000300000</td>\n",
       "      <td>e4edca96-9b86-4cac-8c7f-cc93d9ba4cd1</td>\n",
       "      <td>258169961.0</td>\n",
       "    </tr>\n",
       "    <tr>\n",
       "      <th>3</th>\n",
       "      <td>Бийск</td>\n",
       "      <td>199.5</td>\n",
       "      <td>52.539386</td>\n",
       "      <td>85.213845</td>\n",
       "      <td>Алтайский край</td>\n",
       "      <td>NaN</td>\n",
       "      <td>RU-ALT</td>\n",
       "      <td>Сибирский</td>\n",
       "      <td>1405000000</td>\n",
       "      <td>1705000001</td>\n",
       "      <td>2200000400000</td>\n",
       "      <td>52f876f6-cb1d-4f23-a22f-b692609fc1e0</td>\n",
       "      <td>258937159.0</td>\n",
       "    </tr>\n",
       "    <tr>\n",
       "      <th>4</th>\n",
       "      <td>Горняк</td>\n",
       "      <td>12.3</td>\n",
       "      <td>50.997962</td>\n",
       "      <td>81.464336</td>\n",
       "      <td>Алтайский край</td>\n",
       "      <td>NaN</td>\n",
       "      <td>RU-ALT</td>\n",
       "      <td>Сибирский</td>\n",
       "      <td>1225501000</td>\n",
       "      <td>1625101001</td>\n",
       "      <td>2202700100000</td>\n",
       "      <td>094b3627-2699-4782-8492-4d82aac71958</td>\n",
       "      <td>259062368.0</td>\n",
       "    </tr>\n",
       "  </tbody>\n",
       "</table>\n",
       "</div>"
      ],
      "text/plain": [
       "         city  population        lat        lon     region_name  \\\n",
       "0      Алейск        29.0  52.492251  82.779361  Алтайский край   \n",
       "1     Барнаул       632.4  53.347997  83.779806  Алтайский край   \n",
       "2  Белокуриха        15.2  51.996152  84.983960  Алтайский край   \n",
       "3       Бийск       199.5  52.539386  85.213845  Алтайский край   \n",
       "4      Горняк        12.3  50.997962  81.464336  Алтайский край   \n",
       "\n",
       "  region_name_ao region_iso_code federal_district       okato       oktmo  \\\n",
       "0            NaN          RU-ALT        Сибирский  1403000000  1703000001   \n",
       "1            NaN          RU-ALT        Сибирский  1401000000  1701000001   \n",
       "2            NaN          RU-ALT        Сибирский  1404000000  1704000001   \n",
       "3            NaN          RU-ALT        Сибирский  1405000000  1705000001   \n",
       "4            NaN          RU-ALT        Сибирский  1225501000  1625101001   \n",
       "\n",
       "        kladr_id                               fias_id     place_id  \n",
       "0  2200000200000  ae716080-f27b-40b6-a555-cf8b518e849e  257210632.0  \n",
       "1  2200000100000  d13945a8-7017-46ab-b1e6-ede1e89317ad  258390190.0  \n",
       "2  2200000300000  e4edca96-9b86-4cac-8c7f-cc93d9ba4cd1  258169961.0  \n",
       "3  2200000400000  52f876f6-cb1d-4f23-a22f-b692609fc1e0  258937159.0  \n",
       "4  2202700100000  094b3627-2699-4782-8492-4d82aac71958  259062368.0  "
      ]
     },
     "execution_count": 175,
     "metadata": {},
     "output_type": "execute_result"
    }
   ],
   "source": [
    "import pandas as pd\n",
    "df = pd.read_csv(\"https://raw.githubusercontent.com/epogrebnyak/ru-cities/main/assets/towns.csv\")\n",
    "df.head()"
   ]
  },
  {
   "cell_type": "code",
   "execution_count": 174,
   "metadata": {},
   "outputs": [
    {
     "data": {
      "text/html": [
       "<div>\n",
       "<style scoped>\n",
       "    .dataframe tbody tr th:only-of-type {\n",
       "        vertical-align: middle;\n",
       "    }\n",
       "\n",
       "    .dataframe tbody tr th {\n",
       "        vertical-align: top;\n",
       "    }\n",
       "\n",
       "    .dataframe thead th {\n",
       "        text-align: right;\n",
       "    }\n",
       "</style>\n",
       "<table border=\"1\" class=\"dataframe\">\n",
       "  <thead>\n",
       "    <tr style=\"text-align: right;\">\n",
       "      <th></th>\n",
       "      <th>city</th>\n",
       "    </tr>\n",
       "    <tr>\n",
       "      <th>region_name</th>\n",
       "      <th></th>\n",
       "    </tr>\n",
       "  </thead>\n",
       "  <tbody>\n",
       "    <tr>\n",
       "      <th>Московская область</th>\n",
       "      <td>74</td>\n",
       "    </tr>\n",
       "    <tr>\n",
       "      <th>Свердловская область</th>\n",
       "      <td>47</td>\n",
       "    </tr>\n",
       "    <tr>\n",
       "      <th>Ленинградская область</th>\n",
       "      <td>33</td>\n",
       "    </tr>\n",
       "    <tr>\n",
       "      <th>Челябинская область</th>\n",
       "      <td>30</td>\n",
       "    </tr>\n",
       "    <tr>\n",
       "      <th>Тюменская область</th>\n",
       "      <td>29</td>\n",
       "    </tr>\n",
       "  </tbody>\n",
       "</table>\n",
       "</div>"
      ],
      "text/plain": [
       "                       city\n",
       "region_name                \n",
       "Московская область       74\n",
       "Свердловская область     47\n",
       "Ленинградская область    33\n",
       "Челябинская область      30\n",
       "Тюменская область        29"
      ]
     },
     "execution_count": 174,
     "metadata": {},
     "output_type": "execute_result"
    }
   ],
   "source": [
    "df[['city', 'region_name']].groupby('region_name').count().sort_values(by = \"city\", ascending = False).head()"
   ]
  }
 ],
 "metadata": {
  "kernelspec": {
   "display_name": "Python 3",
   "language": "python",
   "name": "python3"
  },
  "language_info": {
   "codemirror_mode": {
    "name": "ipython",
    "version": 3
   },
   "file_extension": ".py",
   "mimetype": "text/x-python",
   "name": "python",
   "nbconvert_exporter": "python",
   "pygments_lexer": "ipython3",
   "version": "3.10.4"
  },
  "orig_nbformat": 4,
  "vscode": {
   "interpreter": {
    "hash": "db967a82a5395c9886e36287b4fc3d4cdf41cf28b68e7cdaae12bdbf290d326d"
   }
  }
 },
 "nbformat": 4,
 "nbformat_minor": 2
}
