{
 "cells": [
  {
   "cell_type": "markdown",
   "metadata": {},
   "source": [
    "## Python for Politics (Social Sciences) taskbook\n"
   ]
  },
  {
   "cell_type": "markdown",
   "metadata": {},
   "source": [
    "### Week 1. Basics\n",
    "* .py and .ipynb extensions, code editors and IDEs\n",
    "* operands (variables, types) and (logical) operations\n",
    "* if-else statement"
   ]
  },
  {
   "cell_type": "code",
   "execution_count": 2,
   "metadata": {},
   "outputs": [
    {
     "name": "stdout",
     "output_type": "stream",
     "text": [
      "Benjamin wins the election!\n"
     ]
    }
   ],
   "source": [
    "# ex. Display a congratulations message to a winner of some uninteresting voting. \n",
    "# example input:  \n",
    "# `Anika's votes: 35`  \n",
    "# `Benjamin's votes: 37`\n",
    "# example output:  \n",
    "# `Bob wins the election!`\n",
    "\n",
    "anika_votes = int(input(\"Anika's votes\"))  \n",
    "benjamin_votes = int(input(\"Benjamin's votes\"))\n",
    "\n",
    "if anika_votes > benjamin_votes:\n",
    "    print('Anika wins the election!')\n",
    "elif anika_votes == benjamin_votes: \n",
    "    print('Tiebreak')\n",
    "else: \n",
    "    print('Benjamin wins the election!')"
   ]
  },
  {
   "cell_type": "code",
   "execution_count": 4,
   "metadata": {},
   "outputs": [
    {
     "name": "stdout",
     "output_type": "stream",
     "text": [
      "7 districts voted for Anika\n"
     ]
    }
   ],
   "source": [
    "# ex. calculate full number of voting destricts that have choosen Anika.\n",
    "# example input:\n",
    "# Anika's votes: 54\n",
    "# example output:\n",
    "# '4 districts'\n",
    "\n",
    "print(\n",
    "    str(\n",
    "        int(\n",
    "            input(\"insert number of Anikas votes\")\n",
    "        )//12 \n",
    "    ), \"districts voted for Anika\"\n",
    ")"
   ]
  },
  {
   "cell_type": "markdown",
   "metadata": {},
   "source": [
    "### Week 2. Loops and Sequences\n",
    "* While-elses\n",
    "* for loop\n",
    "* Ranges\n"
   ]
  },
  {
   "cell_type": "code",
   "execution_count": 7,
   "metadata": {},
   "outputs": [
    {
     "name": "stdout",
     "output_type": "stream",
     "text": [
      "Incorrect\n"
     ]
    }
   ],
   "source": [
    "# ex. Count number of digits to prove the correctness of ID num.\n",
    "# example input: \n",
    "# 7800123456\n",
    "# example output; \n",
    "# 'correct'\n",
    "num = int(input(\"Enter your ID num\"))\n",
    "count = 0\n",
    "while num != 0:\n",
    "    num = num // 10\n",
    "    count = count + 1\n",
    "print(\"Correct\") if count == 10 else print(\"Incorrect\")"
   ]
  },
  {
   "cell_type": "markdown",
   "metadata": {},
   "source": [
    "### Week 3. More Data Structures\n",
    "* Lists, indexes and slices\n",
    "* Dictionaties and keys\n",
    "* Nested structures\n"
   ]
  },
  {
   "cell_type": "code",
   "execution_count": 9,
   "metadata": {},
   "outputs": [
    {
     "name": "stdout",
     "output_type": "stream",
     "text": [
      "Ben won the election: {'Ani': 7, 'Ben': 4}\n"
     ]
    }
   ],
   "source": [
    "# ex. For given set of votes calculate the winner (Anika's votes stand by 0, Benjamins - by 1)\n",
    "voting = [\"Ani\", \"Ben\", \"Ani\", \"Ani\", \"Ben\", \"Ani\", \"Ani\", \"Ben\", \"Ani\", \"Ben\", \"Ani\"]\n",
    "result = {}\n",
    "for vote in voting:\n",
    "    if not vote in result:\n",
    "        result[vote] = 1\n",
    "    else:\n",
    "        result[vote] +=1\n",
    "print(max(result), \"won the election:\", result)"
   ]
  },
  {
   "cell_type": "code",
   "execution_count": null,
   "metadata": {},
   "outputs": [],
   "source": [
    "# ex. Calculate the most problematic region according to following dict of submitted issues:\n",
    "issues = {'Roads': [1,6,7], \"Pollution\": [2,3,4,6], \"Lighting\": [1,2,7]}"
   ]
  },
  {
   "cell_type": "markdown",
   "metadata": {},
   "source": [
    "### Week 4. Strings and Regular Expressions  \n",
    "* Methods and formatting of strings  \n",
    "* RegExp"
   ]
  },
  {
   "cell_type": "code",
   "execution_count": 13,
   "metadata": {},
   "outputs": [
    {
     "name": "stdout",
     "output_type": "stream",
     "text": [
      "False\n"
     ]
    }
   ],
   "source": [
    "# ex. Check the correctness of driving numbers using RexExp only.\n",
    "# Correct example: O659BP98 (eng letters)\n",
    "import re\n",
    "match = re.search(r'^[АВЕКМНОРСТУХ]\\d{3}[АВЕКМНОРСТУХ]{2}\\d{2,3}', \"О659ВР98\")\n",
    "if match:\n",
    "    print(\"Correct\")\n",
    "else:\n",
    "    print(\"Incorrect\")\n"
   ]
  }
 ],
 "metadata": {
  "interpreter": {
   "hash": "db967a82a5395c9886e36287b4fc3d4cdf41cf28b68e7cdaae12bdbf290d326d"
  },
  "kernelspec": {
   "display_name": "Python 3.10.4 64-bit",
   "language": "python",
   "name": "python3"
  },
  "language_info": {
   "codemirror_mode": {
    "name": "ipython",
    "version": 3
   },
   "file_extension": ".py",
   "mimetype": "text/x-python",
   "name": "python",
   "nbconvert_exporter": "python",
   "pygments_lexer": "ipython3",
   "version": "3.10.4"
  },
  "orig_nbformat": 4
 },
 "nbformat": 4,
 "nbformat_minor": 2
}
