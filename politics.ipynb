{
 "cells": [
  {
   "cell_type": "markdown",
   "metadata": {},
   "source": [
    "# Python for Politics (Social Sciences) taskbook\n"
   ]
  },
  {
   "cell_type": "markdown",
   "metadata": {},
   "source": [
    "Whether you will continue develop yourself in polititcs or reprofile to other speciality - it doesn't matter. As one man said: *'code is power, and learning to code gives you power'*. Today's world has accustomed us to generate more and more personalised data that products and projects all around the world use for personal purposes. The more you understand the possibilities of coding, the more you evaluate the impact of tech on different (even social) areas. That is the exact goal of the course: to introduce the world of coding to you, make it readable and interpreted.\n",
    "\n",
    "We prefectly understand that you are not mathematicians or programmers. Thus, alonside with foregoing goal, we would like to narrow the scope on another one goal: decision making. It's all fun and games until you face with a challenge that requires some sort of responsibility to take a shot. Understanding the nature of data and logic behind computer code will allow you to gain an initial understanding of topics such as Data-Driven Decision Making, Games Theory, Math.Modelling, etc.\n",
    "\n",
    "2 важнейшийх пункта: \n",
    "1. чтобы не было натаскивание на типовые задачки (проектировать стенделон курс)\n",
    "2. задачки про десижн мейкинг (теория игр, моделирование)\n",
    "\n",
    "2 потенциально выжных вопроса: \n",
    "* добавить, как кодинг и питон реализуются в политологии;\n",
    "* нахуя нам этот курс нужен?"
   ]
  },
  {
   "cell_type": "markdown",
   "metadata": {},
   "source": [
    "## Week 1. Basics\n",
    "* .py and .ipynb extensions, code editors and IDEs\n",
    "* operands (variables, types) and (logical) operations\n",
    "* if-else statement"
   ]
  },
  {
   "cell_type": "code",
   "execution_count": 2,
   "metadata": {},
   "outputs": [
    {
     "name": "stdout",
     "output_type": "stream",
     "text": [
      "Benjamin wins the election!\n"
     ]
    }
   ],
   "source": [
    "# ex. Display a congratulations message to a winner of some uninteresting voting. \n",
    "# example input:  \n",
    "# `Anika's votes: 35`  \n",
    "# `Benjamin's votes: 37`\n",
    "# example output:  \n",
    "# `Bob wins the election!`\n",
    "\n",
    "anika_votes = int(input(\"Anika's votes\"))  \n",
    "benjamin_votes = int(input(\"Benjamin's votes\"))\n",
    "\n",
    "if anika_votes > benjamin_votes:\n",
    "    print('Anika wins the election!')\n",
    "elif anika_votes == benjamin_votes: \n",
    "    print('Tiebreak')\n",
    "else: \n",
    "    print('Benjamin wins the election!')"
   ]
  },
  {
   "cell_type": "code",
   "execution_count": 4,
   "metadata": {},
   "outputs": [
    {
     "name": "stdout",
     "output_type": "stream",
     "text": [
      "7 districts voted for Anika\n"
     ]
    }
   ],
   "source": [
    "# ex. calculate full number of voting destricts that have choosen Anika.\n",
    "# example input:\n",
    "# Anika's votes: 54\n",
    "# example output:\n",
    "# '4 districts'\n",
    "\n",
    "print(\n",
    "    str(\n",
    "        int(\n",
    "            input(\"insert number of Anikas votes\")\n",
    "        )//12 \n",
    "    ), \"districts voted for Anika\"\n",
    ")"
   ]
  },
  {
   "cell_type": "markdown",
   "metadata": {},
   "source": [
    "## Week 2. Loops and Sequences"
   ]
  },
  {
   "cell_type": "markdown",
   "metadata": {},
   "source": [
    "### Sequences\n",
    "* to initialise list objects (empty and with initial elements)\n",
    "* to iterate list objects and manipulate the objects contained in a list\n",
    "* to manipulate list objects (list operators, indexing and slice operators, list operations)"
   ]
  },
  {
   "cell_type": "markdown",
   "metadata": {},
   "source": [
    "How to store all the variables we've learnt to operate with them simultaneously? Python lists will help you with this task."
   ]
  },
  {
   "cell_type": "markdown",
   "metadata": {},
   "source": [
    "#### Lists"
   ]
  },
  {
   "cell_type": "markdown",
   "metadata": {},
   "source": [
    "**Lists** are collections of values. They can contain any type of value, even at the same time."
   ]
  },
  {
   "cell_type": "code",
   "execution_count": null,
   "metadata": {},
   "outputs": [
    {
     "name": "stdout",
     "output_type": "stream",
     "text": [
      "[]\n"
     ]
    },
    {
     "data": {
      "text/plain": [
       "list"
      ]
     },
     "metadata": {},
     "output_type": "display_data"
    }
   ],
   "source": [
    "history_of_politics = []\n",
    "print(history_of_politics)\n",
    "type(history_of_politics)"
   ]
  },
  {
   "cell_type": "code",
   "execution_count": null,
   "metadata": {},
   "outputs": [
    {
     "name": "stdout",
     "output_type": "stream",
     "text": [
      "['Ana', 'Bob', 'Charlie', 'Donny']\n"
     ]
    }
   ],
   "source": [
    "history_of_politics.append(\"Ana\")\n",
    "history_of_politics.append(\"Bob\")\n",
    "history_of_politics.append(\"Charlie\")\n",
    "history_of_politics.append(\"Donny\")\n",
    "print(history_of_politics)"
   ]
  },
  {
   "cell_type": "code",
   "execution_count": 65,
   "metadata": {},
   "outputs": [
    {
     "data": {
      "text/plain": [
       "['Ana', 'Bob', 'Charlie', 'Donny']"
      ]
     },
     "execution_count": 65,
     "metadata": {},
     "output_type": "execute_result"
    }
   ],
   "source": [
    "history_of_politics = [\"Ana\", \"Bob\", 'Charlie', 'Donny']\n",
    "history_of_politics"
   ]
  },
  {
   "cell_type": "markdown",
   "metadata": {},
   "source": [
    "Note that rerunning this block will add new 4 instances to your list. To reset it, call `pants = []` again."
   ]
  },
  {
   "cell_type": "code",
   "execution_count": null,
   "metadata": {},
   "outputs": [
    {
     "name": "stdout",
     "output_type": "stream",
     "text": [
      "['Ana', 'Bob', 'Charlie', 'Donny']\n"
     ]
    }
   ],
   "source": [
    "qual_research = history_of_politics\n",
    "print(qual_research)"
   ]
  },
  {
   "cell_type": "code",
   "execution_count": null,
   "metadata": {},
   "outputs": [
    {
     "name": "stdout",
     "output_type": "stream",
     "text": [
      "['Ana', 'Bob', 'Charlie', 'Donny', 'sir Elton']\n"
     ]
    }
   ],
   "source": [
    "qual_research.append(\"sir Elton\")\n",
    "print(qual_research)"
   ]
  },
  {
   "cell_type": "code",
   "execution_count": null,
   "metadata": {},
   "outputs": [
    {
     "name": "stdout",
     "output_type": "stream",
     "text": [
      "['Ana', 'Bob', 'Charlie', 'Donny', 'sir Elton']\n"
     ]
    }
   ],
   "source": [
    "print(history_of_politics)"
   ]
  },
  {
   "cell_type": "markdown",
   "metadata": {},
   "source": [
    "*What happened?*\n",
    "\n",
    "The thing is, Python doesn't create a new object while `a = b`, but creating another one reference (link) to an exissting one. To create a brand new object, list for instance, we need to use `.copy()`"
   ]
  },
  {
   "cell_type": "code",
   "execution_count": null,
   "metadata": {},
   "outputs": [
    {
     "name": "stdout",
     "output_type": "stream",
     "text": [
      "['Ana', 'Bob', 'Charlie', 'Donny', 'sir Elton']\n"
     ]
    }
   ],
   "source": [
    "history_of_politics = []\n",
    "history_of_politics.append(\"Ana\")\n",
    "history_of_politics.append(\"Bob\")\n",
    "history_of_politics.append(\"Charlie\")\n",
    "history_of_politics.append(\"Donny\")\n",
    "\n",
    "qual_research = history_of_politics.copy()\n",
    "qual_research.append(\"sir Elton\")\n",
    "print(qual_research)"
   ]
  },
  {
   "cell_type": "code",
   "execution_count": null,
   "metadata": {},
   "outputs": [
    {
     "name": "stdout",
     "output_type": "stream",
     "text": [
      "['Ana', 'Bob', 'Charlie', 'Donny']\n"
     ]
    }
   ],
   "source": [
    "print(history_of_politics)"
   ]
  },
  {
   "cell_type": "markdown",
   "metadata": {},
   "source": [
    "#### Indexing\n",
    "\n",
    "All objects within our list has no specific name, but we still can call them out with `sqaure brackets`. Note that python indexing starts with 0."
   ]
  },
  {
   "cell_type": "code",
   "execution_count": null,
   "metadata": {},
   "outputs": [
    {
     "data": {
      "text/plain": [
       "4"
      ]
     },
     "metadata": {},
     "output_type": "display_data"
    }
   ],
   "source": [
    "len(history_of_politics)"
   ]
  },
  {
   "cell_type": "code",
   "execution_count": null,
   "metadata": {},
   "outputs": [
    {
     "data": {
      "text/plain": [
       "'Donny'"
      ]
     },
     "metadata": {},
     "output_type": "display_data"
    }
   ],
   "source": [
    "history_of_politics[3] # to call the last element you need len-1 index"
   ]
  },
  {
   "cell_type": "code",
   "execution_count": null,
   "metadata": {},
   "outputs": [
    {
     "data": {
      "text/plain": [
       "'Donny'"
      ]
     },
     "metadata": {},
     "output_type": "display_data"
    }
   ],
   "source": [
    "history_of_politics[-1]"
   ]
  },
  {
   "cell_type": "code",
   "execution_count": null,
   "metadata": {},
   "outputs": [
    {
     "data": {
      "text/plain": [
       "3"
      ]
     },
     "metadata": {},
     "output_type": "display_data"
    }
   ],
   "source": [
    "history_of_politics.index('Donny')"
   ]
  },
  {
   "cell_type": "markdown",
   "metadata": {},
   "source": [
    "By the way, we can call out indexed from other types of data: Say strings:"
   ]
  },
  {
   "cell_type": "code",
   "execution_count": 127,
   "metadata": {},
   "outputs": [
    {
     "data": {
      "text/plain": [
       "str"
      ]
     },
     "execution_count": 127,
     "metadata": {},
     "output_type": "execute_result"
    }
   ],
   "source": [
    "future_greatest_basketball_player = 'Giannis Antetokounmpo'\n",
    "type(future_greatest_basketball_player)\n",
    "# future_greatest_basketball_player[0]\n",
    "# future_greatest_basketball_player[1]\n",
    "# future_greatest_basketball_player[-1]\n",
    "# future_greatest_basketball_player[7]"
   ]
  },
  {
   "cell_type": "markdown",
   "metadata": {},
   "source": [
    "But not for numbers."
   ]
  },
  {
   "cell_type": "code",
   "execution_count": 130,
   "metadata": {},
   "outputs": [
    {
     "data": {
      "text/plain": [
       "float"
      ]
     },
     "execution_count": 130,
     "metadata": {},
     "output_type": "execute_result"
    }
   ],
   "source": [
    "numer1 = 3\n",
    "numer2 = 3.1415926\n",
    "\n",
    "type(numer1)\n",
    "type(numer2)\n",
    "\n",
    "# numer1[0]\n",
    "# numer2[0]"
   ]
  },
  {
   "cell_type": "markdown",
   "metadata": {},
   "source": [
    "*Slicing*"
   ]
  },
  {
   "cell_type": "markdown",
   "metadata": {},
   "source": [
    "We can use a `column` to create a range of indexes (read it like \"from ... to ...\"). Note that the second index is not included in the range (in math notation: `[1;4)`).\n",
    "\n",
    "You can also use second column to define the step. For example:\n",
    "`imaginary_list[2:20:4]`  \n",
    "will take each 4th element from the 3rd (start including) to the 20th (21st is not included) positions of imaginary list."
   ]
  },
  {
   "cell_type": "code",
   "execution_count": null,
   "metadata": {},
   "outputs": [
    {
     "data": {
      "text/plain": [
       "['Bob', 'Charlie', 'Donny']"
      ]
     },
     "metadata": {},
     "output_type": "display_data"
    }
   ],
   "source": [
    "qual_research[1:4]"
   ]
  },
  {
   "cell_type": "code",
   "execution_count": null,
   "metadata": {},
   "outputs": [
    {
     "data": {
      "text/plain": [
       "['Bob', 'Donny']"
      ]
     },
     "metadata": {},
     "output_type": "display_data"
    }
   ],
   "source": [
    "qual_research[1::2] # each even element of the list"
   ]
  },
  {
   "cell_type": "markdown",
   "metadata": {},
   "source": [
    "#### Operations\n",
    "\n",
    "They could kinda mathematical and methodical ones."
   ]
  },
  {
   "cell_type": "code",
   "execution_count": null,
   "metadata": {},
   "outputs": [
    {
     "name": "stdout",
     "output_type": "stream",
     "text": [
      "['Ana', 'Bob', 'Charlie', 'Donny', 'Ana', 'Bob', 'Charlie', 'Donny', 'sir Elton']\n"
     ]
    }
   ],
   "source": [
    "print(history_of_politics+qual_research)"
   ]
  },
  {
   "cell_type": "code",
   "execution_count": null,
   "metadata": {},
   "outputs": [
    {
     "name": "stdout",
     "output_type": "stream",
     "text": [
      "['Ana', 'Bob', 'Charlie', 'Donny', 'Ana', 'Bob', 'Charlie', 'Donny', 'Ana', 'Bob', 'Charlie', 'Donny']\n"
     ]
    }
   ],
   "source": [
    "print(history_of_politics*3)"
   ]
  },
  {
   "cell_type": "code",
   "execution_count": null,
   "metadata": {},
   "outputs": [
    {
     "data": {
      "text/plain": [
       "['Ana', 'Charlie', 'Donny']"
      ]
     },
     "metadata": {},
     "output_type": "display_data"
    }
   ],
   "source": [
    "history_of_politics.remove('Bob') # removing first match\n",
    "history_of_politics"
   ]
  },
  {
   "cell_type": "code",
   "execution_count": null,
   "metadata": {},
   "outputs": [
    {
     "data": {
      "text/plain": [
       "1"
      ]
     },
     "metadata": {},
     "output_type": "display_data"
    }
   ],
   "source": [
    "history_of_politics.count('Ana') # counting occurences"
   ]
  },
  {
   "cell_type": "code",
   "execution_count": null,
   "metadata": {},
   "outputs": [
    {
     "name": "stdout",
     "output_type": "stream",
     "text": [
      "[1, 4, 9, 16, 25, 36, 49, 64, 81, 100] [1, 4, 9, 16, 25, 36, 49, 64, 81, 100]\n"
     ]
    }
   ],
   "source": [
    "somelist1 = []\n",
    "for i in range(1, 11):\n",
    "    somelist1.append(i*i)\n",
    "\n",
    "somelist2 = [i*i for i in range(1, 11)]\n",
    "\n",
    "print(somelist1, somelist2)"
   ]
  },
  {
   "cell_type": "markdown",
   "metadata": {},
   "source": [
    "### Loops\n",
    "* to write syntactically correct loop instructions (while, for)\n",
    "* to identify that a problem requires one or more loops\n",
    "* to use loops in order to implement the solution for a problem"
   ]
  },
  {
   "cell_type": "markdown",
   "metadata": {},
   "source": [
    "#### While"
   ]
  },
  {
   "cell_type": "markdown",
   "metadata": {},
   "source": [
    "With the **`while` loop** we can execute a set of statements as long as a condition is true."
   ]
  },
  {
   "cell_type": "code",
   "execution_count": 86,
   "metadata": {},
   "outputs": [
    {
     "name": "stdout",
     "output_type": "stream",
     "text": [
      "1\n",
      "2\n",
      "3\n",
      "4\n",
      "5\n"
     ]
    }
   ],
   "source": [
    "import time # just to make 1s delay\n",
    "\n",
    "i = 1\n",
    "while i < 6:\n",
    "  print(i)\n",
    "  i += 1 \n",
    "  time.sleep(1) # just to make 1s delay"
   ]
  },
  {
   "cell_type": "code",
   "execution_count": 7,
   "metadata": {},
   "outputs": [
    {
     "name": "stdout",
     "output_type": "stream",
     "text": [
      "['dog', 'cat', 'dog', 'goldfish', 'cat', 'rabbit', 'cat']\n",
      "['dog', 'dog', 'goldfish', 'rabbit']\n"
     ]
    }
   ],
   "source": [
    "pets = ['dog', 'cat', 'dog', 'goldfish', 'cat', 'rabbit', 'cat']\n",
    "print(pets)\n",
    "\n",
    "while 'cat' in pets:\n",
    "    pets.remove('cat')\n",
    "    \n",
    "pets # same without print"
   ]
  },
  {
   "cell_type": "markdown",
   "metadata": {},
   "source": [
    "**DANGER!** "
   ]
  },
  {
   "cell_type": "code",
   "execution_count": 87,
   "metadata": {},
   "outputs": [
    {
     "name": "stdout",
     "output_type": "stream",
     "text": [
      "1\n",
      "1\n",
      "1\n",
      "1\n",
      "1\n",
      "1\n",
      "1\n",
      "1\n",
      "1\n",
      "1\n",
      "1\n",
      "1\n",
      "1\n"
     ]
    },
    {
     "ename": "KeyboardInterrupt",
     "evalue": "",
     "output_type": "error",
     "traceback": [
      "\u001b[1;31m---------------------------------------------------------------------------\u001b[0m",
      "\u001b[1;31mKeyboardInterrupt\u001b[0m                         Traceback (most recent call last)",
      "\u001b[1;32mc:\\Users\\popov\\Documents\\py_dir\\HSE_py\\Py4SC\\Py4SC\\politics.ipynb Ячейка 41\u001b[0m in \u001b[0;36m<cell line: 4>\u001b[1;34m()\u001b[0m\n\u001b[0;32m      <a href='vscode-notebook-cell:/c%3A/Users/popov/Documents/py_dir/HSE_py/Py4SC/Py4SC/politics.ipynb#ch0000096?line=4'>5</a>\u001b[0m   \u001b[39mprint\u001b[39m(i)\n\u001b[0;32m      <a href='vscode-notebook-cell:/c%3A/Users/popov/Documents/py_dir/HSE_py/Py4SC/Py4SC/politics.ipynb#ch0000096?line=5'>6</a>\u001b[0m \u001b[39m#   i += 1 \u001b[39;00m\n\u001b[1;32m----> <a href='vscode-notebook-cell:/c%3A/Users/popov/Documents/py_dir/HSE_py/Py4SC/Py4SC/politics.ipynb#ch0000096?line=6'>7</a>\u001b[0m   time\u001b[39m.\u001b[39;49msleep(\u001b[39m1\u001b[39;49m)\n",
      "\u001b[1;31mKeyboardInterrupt\u001b[0m: "
     ]
    }
   ],
   "source": [
    "# import time # just to make 1s delay\n",
    "\n",
    "# i = 1\n",
    "# while i < 6:\n",
    "#   print(i)\n",
    "# #   i += 1 \n",
    "#   time.sleep(1) # just to make 1s delay"
   ]
  },
  {
   "cell_type": "markdown",
   "metadata": {},
   "source": [
    "Always check your loop to be non-infinite before you run it! Glad we had undemanding calculations here: if your loop will overload PC's RAM, it could be hard to stop it."
   ]
  },
  {
   "cell_type": "code",
   "execution_count": 1,
   "metadata": {},
   "outputs": [
    {
     "name": "stdout",
     "output_type": "stream",
     "text": [
      "Incorrect\n"
     ]
    }
   ],
   "source": [
    "# ex. Count number of digits to prove the correctness of ID num.\n",
    "\n",
    "# example input: \n",
    "# 7800123456\n",
    "# example output; \n",
    "# 'correct'\n",
    "\n",
    "num = int(input(\"Enter your ID num\"))\n",
    "count = 0\n",
    "while num != 0:\n",
    "    num = num // 10\n",
    "    count = count + 1\n",
    "print(\"Correct\") if count == 10 else print(\"Incorrect\")"
   ]
  },
  {
   "cell_type": "markdown",
   "metadata": {},
   "source": [
    "#### For & range"
   ]
  },
  {
   "cell_type": "markdown",
   "metadata": {},
   "source": [
    "A **`for` loop** is used for iterating over a sequence (that is either a list, a tuple, a dictionary, a set, or a string)."
   ]
  },
  {
   "cell_type": "code",
   "execution_count": 8,
   "metadata": {},
   "outputs": [
    {
     "name": "stdout",
     "output_type": "stream",
     "text": [
      "apple\n",
      "banana\n",
      "cherry\n"
     ]
    }
   ],
   "source": [
    "fruits = [\"apple\", \"banana\", \"cherry\"]\n",
    "for x in fruits:\n",
    "  print(x)"
   ]
  },
  {
   "cell_type": "code",
   "execution_count": 75,
   "metadata": {},
   "outputs": [
    {
     "name": "stdout",
     "output_type": "stream",
     "text": [
      "Ana - 1\n",
      "Bob - 2\n",
      "Charlie - 1\n",
      "Donny - 2\n"
     ]
    }
   ],
   "source": [
    "# ex. count students on the first-second\n",
    "history_of_politics = [\"Ana\", \"Bob\", 'Charlie', 'Donny']\n",
    "i = 1\n",
    "\n",
    "for name in history_of_politics:\n",
    "    print(name, i, sep=\" - \")\n",
    "    if i==1:\n",
    "        i+=1\n",
    "    else: \n",
    "        i-=1"
   ]
  },
  {
   "cell_type": "code",
   "execution_count": 84,
   "metadata": {},
   "outputs": [
    {
     "name": "stdout",
     "output_type": "stream",
     "text": [
      "1\n",
      "2\n",
      "4\n",
      "8\n",
      "16\n",
      "32\n",
      "64\n",
      "128\n",
      "256\n",
      "512\n"
     ]
    }
   ],
   "source": [
    "for i in range(0,10):\n",
    "    print(2**i)"
   ]
  },
  {
   "cell_type": "code",
   "execution_count": 83,
   "metadata": {},
   "outputs": [
    {
     "data": {
      "text/plain": [
       "['Ana Coleman', 'Bob Howell', 'Charlie Dominguez', 'Donny Mcgee']"
      ]
     },
     "execution_count": 83,
     "metadata": {},
     "output_type": "execute_result"
    }
   ],
   "source": [
    "# ex. add lastnames to firstnames\n",
    "history_of_politics_surnames = [\"Coleman\", \"Howell\", 'Dominguez', 'Mcgee']\n",
    "history_of_politics_full = []\n",
    "\n",
    "if len(history_of_politics_surnames)==len(history_of_politics):\n",
    "    for i in range(0, len(history_of_politics)):\n",
    "        history_of_politics_full.append(history_of_politics[i] + ' ' + history_of_politics_surnames[i])\n",
    "        i+=1\n",
    "\n",
    "history_of_politics_full\n"
   ]
  },
  {
   "cell_type": "markdown",
   "metadata": {},
   "source": [
    "#### Loop contol: break, continue"
   ]
  },
  {
   "cell_type": "markdown",
   "metadata": {},
   "source": [
    "With the `break` statement we can stop the loop even if the while condition is true:\n",
    "\n"
   ]
  },
  {
   "cell_type": "code",
   "execution_count": 2,
   "metadata": {},
   "outputs": [
    {
     "name": "stdout",
     "output_type": "stream",
     "text": [
      "1\n",
      "2\n",
      "3\n",
      "4\n",
      "5\n"
     ]
    }
   ],
   "source": [
    "i=1\n",
    "while True:\n",
    "  print(i)\n",
    "  i += 1 \n",
    "  if i == 6: \n",
    "    break"
   ]
  },
  {
   "cell_type": "code",
   "execution_count": 88,
   "metadata": {},
   "outputs": [
    {
     "name": "stdout",
     "output_type": "stream",
     "text": [
      "1\n",
      "2\n",
      "3\n"
     ]
    }
   ],
   "source": [
    "i = 1\n",
    "while i < 6:\n",
    "  print(i)\n",
    "  if i == 3:\n",
    "    break\n",
    "  i += 1"
   ]
  },
  {
   "cell_type": "markdown",
   "metadata": {},
   "source": [
    "`Continue` statement is used to end the current iteration in a for loop (or a while loop), and continues to the next iteration."
   ]
  },
  {
   "cell_type": "code",
   "execution_count": 132,
   "metadata": {},
   "outputs": [
    {
     "name": "stdout",
     "output_type": "stream",
     "text": [
      "0\n",
      "1\n",
      "2\n",
      "4\n"
     ]
    }
   ],
   "source": [
    "for i in range(5):\n",
    "  if i == 3:\n",
    "    continue\n",
    "  print(i)"
   ]
  },
  {
   "cell_type": "code",
   "execution_count": 1,
   "metadata": {},
   "outputs": [
    {
     "name": "stdout",
     "output_type": "stream",
     "text": [
      "Let's start the game! Put down any city you'd like:\n",
      "Now enter the city that begins with the last letter of previous one. Enter \"quit\" when you are finished.\n",
      "moscow\n",
      "Now starting with w\n",
      "workuta\n",
      "Now starting with a\n",
      "penis\n",
      "Wrong city! Try another one.\n",
      "slantsy\n",
      "Wrong city! Try another one.\n",
      "Game Over. See you next time!\n"
     ]
    }
   ],
   "source": [
    "# ex. a City-chain game\n",
    "\n",
    "# write a code to a city-chain game (города). it should take inputs from user and check \n",
    "# wether the first letter of the proposed city is equals to the last letter of previous city.capitalize\n",
    "# If user prints \"quit\" - the game stops.\n",
    "\n",
    "# print(hint) if you need help\n",
    "\n",
    "print(\"Let's start the game! Put down any city you'd like:\")\n",
    "last_city =  input().lower()\n",
    "print(last_city)\n",
    "print('Now enter the city that begins with the last letter of previous one. Enter \"quit\" when you are finished.')\n",
    "\n",
    "\n",
    "while True: # while one not in (\"q\",\"quit\"):\n",
    "    city = input().lower()\n",
    "\n",
    "    if city in ['q', 'quit']:\n",
    "        print('Game Over. See you next time!')\n",
    "        break\n",
    "\n",
    "    elif city[0]!=last_city[-1]:\n",
    "        print(city)\n",
    "        print('Wrong city! Try another one.')\n",
    "\n",
    "    else:\n",
    "        print(city)\n",
    "        last_city = city\n",
    "        print(\"Now starting with\", city[-1])"
   ]
  },
  {
   "cell_type": "markdown",
   "metadata": {},
   "source": [
    "## Week 3. More Data Structures\n",
    "* Lists, indexes and slices\n",
    "* Dictionaties and keys\n",
    "* Nested structures\n"
   ]
  },
  {
   "cell_type": "markdown",
   "metadata": {},
   "source": [
    "### Dictionaries"
   ]
  },
  {
   "cell_type": "markdown",
   "metadata": {},
   "source": [
    "**Dictionaries** are used to store data values in key:value pairs. Unkike lists, they are stored in braces, and have column that separate key and value. That allows us to make labeled 2D data array."
   ]
  },
  {
   "cell_type": "markdown",
   "metadata": {},
   "source": [
    "#### Basics of dicts"
   ]
  },
  {
   "cell_type": "code",
   "execution_count": 2,
   "metadata": {},
   "outputs": [
    {
     "data": {
      "text/plain": [
       "True"
      ]
     },
     "execution_count": 2,
     "metadata": {},
     "output_type": "execute_result"
    }
   ],
   "source": [
    "languages = {}\n",
    "other_list = dict()\n",
    "languages == other_list"
   ]
  },
  {
   "cell_type": "code",
   "execution_count": 3,
   "metadata": {},
   "outputs": [
    {
     "data": {
      "text/plain": [
       "dict"
      ]
     },
     "execution_count": 3,
     "metadata": {},
     "output_type": "execute_result"
    }
   ],
   "source": [
    "type(languages)"
   ]
  },
  {
   "cell_type": "code",
   "execution_count": 13,
   "metadata": {},
   "outputs": [
    {
     "data": {
      "text/plain": [
       "9.12"
      ]
     },
     "execution_count": 13,
     "metadata": {},
     "output_type": "execute_result"
    }
   ],
   "source": [
    "gpa = {\"Ani\": 9.12, \"Ben\": 7.77, \"Charlie\": 8.01}\n",
    "gpa['Ani'] # gpa"
   ]
  },
  {
   "cell_type": "code",
   "execution_count": null,
   "metadata": {},
   "outputs": [],
   "source": [
    "gpa.keys()"
   ]
  },
  {
   "cell_type": "code",
   "execution_count": null,
   "metadata": {},
   "outputs": [],
   "source": [
    "gpa.values()"
   ]
  },
  {
   "cell_type": "code",
   "execution_count": null,
   "metadata": {},
   "outputs": [],
   "source": [
    "gpa.items()"
   ]
  },
  {
   "cell_type": "markdown",
   "metadata": {},
   "source": [
    "Numbers, words, booleans, even lists could be a value of a dict. However, only unique strings can be a key."
   ]
  },
  {
   "cell_type": "code",
   "execution_count": 4,
   "metadata": {},
   "outputs": [
    {
     "data": {
      "text/plain": [
       "{'brand': 'Ford',\n",
       " 'model': 'Mustang',\n",
       " 'year': 2020,\n",
       " 'price': 30000,\n",
       " 'accidents': False}"
      ]
     },
     "execution_count": 4,
     "metadata": {},
     "output_type": "execute_result"
    }
   ],
   "source": [
    "thisdict = {\n",
    "  \"brand\": \"Ford\",\n",
    "  \"model\": \"Mustang\",\n",
    "  \"year\": 1964,\n",
    "  \"year\": 2020,\n",
    "  \"price\": 30000, \n",
    "  \"accidents\": False\n",
    "}\n",
    "thisdict"
   ]
  },
  {
   "cell_type": "code",
   "execution_count": 3,
   "metadata": {},
   "outputs": [
    {
     "data": {
      "text/plain": [
       "4"
      ]
     },
     "execution_count": 3,
     "metadata": {},
     "output_type": "execute_result"
    }
   ],
   "source": [
    "len(thisdict)"
   ]
  },
  {
   "cell_type": "markdown",
   "metadata": {},
   "source": [
    "#### Dict methods"
   ]
  },
  {
   "cell_type": "code",
   "execution_count": 64,
   "metadata": {},
   "outputs": [
    {
     "data": {
      "text/plain": [
       "{'brand': 'Ford',\n",
       " 'model': 'Mustang',\n",
       " 'year': 2020,\n",
       " 'price': 30000,\n",
       " 'accidents': False}"
      ]
     },
     "execution_count": 64,
     "metadata": {},
     "output_type": "execute_result"
    }
   ],
   "source": [
    "newdict = thisdict.copy()\n",
    "newdict"
   ]
  },
  {
   "cell_type": "code",
   "execution_count": 65,
   "metadata": {},
   "outputs": [
    {
     "data": {
      "text/plain": [
       "True"
      ]
     },
     "execution_count": 65,
     "metadata": {},
     "output_type": "execute_result"
    }
   ],
   "source": [
    "newdict.get('price') == newdict['price']"
   ]
  },
  {
   "cell_type": "code",
   "execution_count": 66,
   "metadata": {},
   "outputs": [
    {
     "data": {
      "text/plain": [
       "{'brand': 'Ford',\n",
       " 'model': 'Mustang',\n",
       " 'year': 2020,\n",
       " 'price': 30000,\n",
       " 'accidents': False,\n",
       " 'color': 'White'}"
      ]
     },
     "execution_count": 66,
     "metadata": {},
     "output_type": "execute_result"
    }
   ],
   "source": [
    "newdict.update({\"color\": \"White\"})\n",
    "newdict"
   ]
  },
  {
   "cell_type": "code",
   "execution_count": 67,
   "metadata": {},
   "outputs": [
    {
     "data": {
      "text/plain": [
       "{'brand': 'Ford',\n",
       " 'model': 'Mustang',\n",
       " 'year': 2020,\n",
       " 'price': 30000,\n",
       " 'color': 'White'}"
      ]
     },
     "execution_count": 67,
     "metadata": {},
     "output_type": "execute_result"
    }
   ],
   "source": [
    "newdict.pop('accidents')\n",
    "newdict"
   ]
  },
  {
   "cell_type": "code",
   "execution_count": 38,
   "metadata": {},
   "outputs": [
    {
     "name": "stdout",
     "output_type": "stream",
     "text": [
      "{'name': 'Kelly', 'salary': 8000}\n"
     ]
    }
   ],
   "source": [
    "# ex. take a subset from the following dictionary\n",
    "\n",
    "# 1 \n",
    "sampleDict = { \n",
    "  \"name\": \"Kelly\",\n",
    "  \"age\":25, \n",
    "  \"salary\": 8000, \n",
    "  \"city\": \"New york\" }\n",
    "\n",
    "keys = [\"name\", \"salary\"]\n",
    "\n",
    "newDict = {k: sampleDict[k] for k in keys}\n",
    "print(newDict)"
   ]
  },
  {
   "cell_type": "code",
   "execution_count": 54,
   "metadata": {},
   "outputs": [
    {
     "name": "stdout",
     "output_type": "stream",
     "text": [
      "{'name': 'Kelly', 'salary': 8000}\n"
     ]
    }
   ],
   "source": [
    "# 2\n",
    "sampleDict = { \n",
    "  \"name\": \"Kelly\",\n",
    "  \"age\":25, \n",
    "  \"salary\": 8000, \n",
    "  \"city\": \"New york\" }\n",
    "\n",
    "keys = [\"name\", \"salary\"]\n",
    "\n",
    "for k in list(sampleDict.keys()-keys):\n",
    "    sampleDict.pop(k)\n",
    "print(sampleDict)"
   ]
  },
  {
   "cell_type": "code",
   "execution_count": 50,
   "metadata": {},
   "outputs": [
    {
     "data": {
      "text/plain": [
       "dict_keys(['name', 'age', 'salary', 'city'])"
      ]
     },
     "execution_count": 50,
     "metadata": {},
     "output_type": "execute_result"
    }
   ],
   "source": [
    "sampleDict.keys()"
   ]
  },
  {
   "cell_type": "code",
   "execution_count": 5,
   "metadata": {},
   "outputs": [
    {
     "name": "stdout",
     "output_type": "stream",
     "text": [
      "Ben won the election: {'Ani': 7, 'Ben': 4}\n"
     ]
    }
   ],
   "source": [
    "# ex. For given set of votes calculate the winner (Anika's votes stand by 0, Benjamins - by 1)\n",
    "\n",
    "# hint: guess what functions min() and max() can do\n",
    "\n",
    "voting = [\"Ani\", \"Ben\", \"Ani\", \"Ani\", \"Ben\", \"Ani\", \"Ani\", \"Ben\", \"Ani\", \"Ben\", \"Ani\"]\n",
    "result = {}\n",
    "for vote in voting:\n",
    "    if not vote in result:\n",
    "        result[vote] = 1\n",
    "    else:\n",
    "        result[vote] +=1\n",
    "print(max(result), \"won the election:\", result)"
   ]
  },
  {
   "cell_type": "markdown",
   "metadata": {},
   "source": [
    "Now let's talk a little about ***Expected Utility*** frameworkю\n",
    "\n",
    "To do this, we'll code a \"Twenty One\" game that as simple as Blackjack: you need to get as close to 21 points as possible (but not more!). Let's suppose that in our version of game we have an infinite deck."
   ]
  },
  {
   "cell_type": "code",
   "execution_count": 43,
   "metadata": {},
   "outputs": [],
   "source": [
    "import random\n",
    "cards = {\"6\": 6, \"7\": 7, \"8\": 8, \"9\": 9, \"10\": 10, \"J\": 2, \"Q\": 3, \"K\": 4, \"A\": 1}\n",
    "\n",
    "def play_twenty_one():\n",
    "\n",
    "    user_card = []\n",
    "    user_card.append(random.choice(list(cards.keys())))\n",
    "    user_card.append(random.choice(list(cards.keys())))\n",
    "    print(\"Your cards are:\", user_card, \"\\nWill you pick one more card? (y/n)\")\n",
    "    answer = input()\n",
    "\n",
    "    while answer==\"y\":\n",
    "        new_card = random.choice(list(cards.keys()))\n",
    "        user_card.append(new_card)\n",
    "        print(\"Your cards are:\", new_card, \"\\nWill you pick one more card? (y/n)\")\n",
    "        answer = input()\n",
    "\n",
    "    print(user_card)\n",
    "\n",
    "    total = 0\n",
    "    for card in user_card:\n",
    "        total += cards[card]\n",
    "\n",
    "    # pc moves\n",
    "    pc_card = []\n",
    "    pc_card.append(random.choice(list(cards.keys())))\n",
    "    pc_card.append(random.choice(list(cards.keys())))\n",
    "    pc_total = 0\n",
    "    for card in pc_card:\n",
    "        pc_total += cards[card]\n",
    "    while pc_total < 17:\n",
    "        pc_new_card = random.choice(list(cards.keys()))\n",
    "        pc_total += cards[pc_new_card]    \n",
    "\n",
    "    print(\"Your score is\", total)\n",
    "    print(\"PC score is\", pc_total)\n",
    "    if total < 22:\n",
    "        if total>pc_total:\n",
    "            print(\"You won!\")\n",
    "        elif total == pc_total:\n",
    "            print(\"Deuce!\")\n",
    "        else:\n",
    "            if pc_total < 22:\n",
    "                print(\"You lost!\")\n",
    "            else:\n",
    "                print(\"You won!\")\n",
    "    else:\n",
    "        print(\"You lost!\")"
   ]
  },
  {
   "cell_type": "code",
   "execution_count": 53,
   "metadata": {},
   "outputs": [
    {
     "name": "stdout",
     "output_type": "stream",
     "text": [
      "Your cards are: ['K', '10'] \n",
      "Will you pick one more card? (y/n)\n",
      "Your cards are: 7 \n",
      "Will you pick one more card? (y/n)\n",
      "['K', '10', '7']\n",
      "Your score is 21\n",
      "PC score is 21\n",
      "Deuce!\n"
     ]
    }
   ],
   "source": [
    "play_twenty_one()"
   ]
  },
  {
   "cell_type": "markdown",
   "metadata": {},
   "source": [
    "Each time you are making a decision to take a card, you need to re-evaluate your possible outcomes. Imagine you have a KQ8 hand. Here, the ideal option for you would be 6, but any picture would be good too. Let's calculate the probabilities:"
   ]
  },
  {
   "cell_type": "code",
   "execution_count": 41,
   "metadata": {},
   "outputs": [
    {
     "name": "stdout",
     "output_type": "stream",
     "text": [
      "55.56 %\n"
     ]
    }
   ],
   "source": [
    "1/len(cards)\n",
    "# if 6JQKA are sutiable for us, we can expect 5 outcomes as positive:\n",
    "print(round(1/len(cards)*5*100,2), \"%\")"
   ]
  },
  {
   "cell_type": "markdown",
   "metadata": {},
   "source": [
    "### Nested structures"
   ]
  },
  {
   "cell_type": "markdown",
   "metadata": {},
   "source": [
    "In Python, a **nested dictionary/list** is a dictionary/list inside a dictionary/list. It's a collection of dictionaries/lists into one single dictionary/list :D"
   ]
  },
  {
   "cell_type": "code",
   "execution_count": 11,
   "metadata": {},
   "outputs": [
    {
     "data": {
      "text/plain": [
       "{'dictA': {'key_1': 'value_1'}, 'dictB': {'key_2': 'value_2'}}"
      ]
     },
     "execution_count": 11,
     "metadata": {},
     "output_type": "execute_result"
    }
   ],
   "source": [
    "nested_dict = { 'dictA': {'key_1': 'value_1'},\n",
    "                'dictB': {'key_2': 'value_2'}}\n",
    "nested_dict"
   ]
  },
  {
   "cell_type": "code",
   "execution_count": 16,
   "metadata": {},
   "outputs": [
    {
     "data": {
      "text/plain": [
       "'value_1'"
      ]
     },
     "execution_count": 16,
     "metadata": {},
     "output_type": "execute_result"
    }
   ],
   "source": [
    "# nested_dict['dictA']\n",
    "nested_dict['dictA']['key_1']"
   ]
  },
  {
   "cell_type": "code",
   "execution_count": 21,
   "metadata": {},
   "outputs": [
    {
     "data": {
      "text/plain": [
       "['a', 'b', ['cc', 'dd', ['eee', 'fff']], 'g', 'h']"
      ]
     },
     "execution_count": 21,
     "metadata": {},
     "output_type": "execute_result"
    }
   ],
   "source": [
    "nested_list = ['a', 'b', ['cc', 'dd', ['eee', 'fff']], 'g', 'h']\n",
    "nested_list"
   ]
  },
  {
   "cell_type": "markdown",
   "metadata": {},
   "source": [
    "![source: https://www.learnbyexample.org/python-nested-list/](https://www.learnbyexample.org/wp-content/uploads/python/Python-Nested-List-Indexing.png)"
   ]
  },
  {
   "cell_type": "code",
   "execution_count": 28,
   "metadata": {},
   "outputs": [
    {
     "data": {
      "text/plain": [
       "'eee'"
      ]
     },
     "execution_count": 28,
     "metadata": {},
     "output_type": "execute_result"
    }
   ],
   "source": [
    "nested_list[2][2][0] #step-by-step indexing"
   ]
  },
  {
   "cell_type": "code",
   "execution_count": 34,
   "metadata": {},
   "outputs": [
    {
     "data": {
      "text/plain": [
       "True"
      ]
     },
     "execution_count": 34,
     "metadata": {},
     "output_type": "execute_result"
    }
   ],
   "source": [
    "nested_list[2][2][0] == nested_list[-3][2][-2]"
   ]
  },
  {
   "cell_type": "code",
   "execution_count": 29,
   "metadata": {},
   "outputs": [],
   "source": [
    "# ex. Calculate the most problematic region according to following dict of submitted issues:\n",
    "# issues = {'Roads': [1,6,7], \"Pollution\": [2,3,4,6], \"Lighting\": [1,2,7]}\n",
    "# a = []\n",
    "# for value in issues.values():\n",
    "#     a.append(value)\n"
   ]
  },
  {
   "cell_type": "code",
   "execution_count": 69,
   "metadata": {},
   "outputs": [
    {
     "data": {
      "text/plain": [
       "['purple', 'green', 'blue']"
      ]
     },
     "execution_count": 69,
     "metadata": {},
     "output_type": "execute_result"
    }
   ],
   "source": [
    "#  ex. extract list of Lauren's favourite colors\n",
    "info = {'personal_data':\n",
    "         {'name': 'Lauren',\n",
    "          'age': 20,\n",
    "          'major': 'Information Science',\n",
    "          'physical_features':\n",
    "             {'color': {'eye': 'blue',\n",
    "                        'hair': 'brown'},\n",
    "              'height': \"5'8\"}\n",
    "         },\n",
    "       'other':\n",
    "         {'favorite_colors': ['purple', 'green', 'blue'],\n",
    "          'interested_in': ['social media', 'intellectual property', 'copyright', 'music', 'books']\n",
    "         }\n",
    "      }\n",
    "\n",
    "info['other']['favorite_colors']"
   ]
  },
  {
   "cell_type": "markdown",
   "metadata": {},
   "source": [
    "## Week 4. Strings and Regular Expressions  \n",
    "* Methods and formatting of strings  \n",
    "* RegExp"
   ]
  },
  {
   "cell_type": "code",
   "execution_count": 13,
   "metadata": {},
   "outputs": [
    {
     "name": "stdout",
     "output_type": "stream",
     "text": [
      "False\n"
     ]
    }
   ],
   "source": [
    "# ex. Check the correctness of driving numbers using RexExp only.\n",
    "# Correct example: O659BP98 (eng letters)\n",
    "import re\n",
    "match = re.search(r'^[АВЕКМНОРСТУХ]\\d{3}[АВЕКМНОРСТУХ]{2}\\d{2,3}', \"О659ВР98\")\n",
    "if match:\n",
    "    print(\"Correct\")\n",
    "else:\n",
    "    print(\"Incorrect\")\n"
   ]
  },
  {
   "cell_type": "markdown",
   "metadata": {},
   "source": [
    "## Week 5. Functions\n",
    "\n",
    "* defining and calling functions  \n",
    "* functional approach  \n",
    "* generators, iterators  \n",
    "* decorator?"
   ]
  },
  {
   "cell_type": "markdown",
   "metadata": {},
   "source": [
    "### Functions"
   ]
  },
  {
   "cell_type": "markdown",
   "metadata": {},
   "source": [
    "Functions are essential for every programming languages. Simply put, it's a set of operations to perform a specific task. They may take some input as parameters (or arguments) and proceed with some output (visible or not). Functions are at the heart of functional programming (in contrast to object-oriented programming, we will cover this in details on 8th seminar). \n",
    "\n",
    "Essentials of functions in python:  \n",
    "* `def` keyword is used to define a function;  \n",
    "* `name_of_function` - the requirements are the same with variable names;  \n",
    "* `(arguments/parameters)` - the function may or may not have arguments. You can set default value for arguments."
   ]
  },
  {
   "cell_type": "markdown",
   "metadata": {},
   "source": [
    "Simple example:"
   ]
  },
  {
   "cell_type": "code",
   "execution_count": 45,
   "metadata": {},
   "outputs": [],
   "source": [
    "def wish_me_a_good_morning():\n",
    "    print('good morning!')"
   ]
  },
  {
   "cell_type": "code",
   "execution_count": 47,
   "metadata": {},
   "outputs": [
    {
     "name": "stdout",
     "output_type": "stream",
     "text": [
      "good morning!\n"
     ]
    }
   ],
   "source": [
    "wish_me_a_good_morning()"
   ]
  },
  {
   "cell_type": "code",
   "execution_count": 75,
   "metadata": {},
   "outputs": [],
   "source": [
    "def wish_me_a_good_morning(name):\n",
    "    print('good morning, ' + name + '!')"
   ]
  },
  {
   "cell_type": "code",
   "execution_count": 76,
   "metadata": {},
   "outputs": [
    {
     "name": "stdout",
     "output_type": "stream",
     "text": [
      "good morning, X Æ A-XII!\n"
     ]
    }
   ],
   "source": [
    "wish_me_a_good_morning('X Æ A-XII')"
   ]
  },
  {
   "cell_type": "markdown",
   "metadata": {},
   "source": [
    "Adding more arguments"
   ]
  },
  {
   "cell_type": "code",
   "execution_count": 71,
   "metadata": {},
   "outputs": [
    {
     "name": "stdout",
     "output_type": "stream",
     "text": [
      "Thom Yorke\n"
     ]
    }
   ],
   "source": [
    "def fullname(fname, lname):\n",
    "  print(fname + \" \" + lname)\n",
    "\n",
    "fullname(\"Thom\", \"Yorke\") # fullname(fname = \"Thom\", lname = \"Yorke\")"
   ]
  },
  {
   "cell_type": "markdown",
   "metadata": {},
   "source": [
    "Making default ones"
   ]
  },
  {
   "cell_type": "code",
   "execution_count": 53,
   "metadata": {},
   "outputs": [],
   "source": [
    "def wish_him_or_her_a_good_morning(firstname=\"Ivan\"):\n",
    "    print('good morning, ', firstname, \"!\", sep=\"\") # note different string construction"
   ]
  },
  {
   "cell_type": "code",
   "execution_count": 56,
   "metadata": {},
   "outputs": [
    {
     "name": "stdout",
     "output_type": "stream",
     "text": [
      "good morning, Ivan!\n"
     ]
    }
   ],
   "source": [
    "wish_him_or_her_a_good_morning() # now try different arguments!"
   ]
  },
  {
   "cell_type": "markdown",
   "metadata": {},
   "source": [
    "Summercamp scoutleader duties "
   ]
  },
  {
   "cell_type": "code",
   "execution_count": 68,
   "metadata": {},
   "outputs": [],
   "source": [
    "def wish_them_a_good_morning(firstname=[\"Ivan\", \"Maria\"]):\n",
    "    if type(firstname)!=list:\n",
    "        raise ValueError('The input should be a list')\n",
    "    else:\n",
    "        for name in firstname:\n",
    "            print('good morning, ', name, \"!\", sep=\"\")"
   ]
  },
  {
   "cell_type": "code",
   "execution_count": 69,
   "metadata": {},
   "outputs": [
    {
     "name": "stdout",
     "output_type": "stream",
     "text": [
      "good morning, Ivan!\n",
      "good morning, Maria!\n"
     ]
    }
   ],
   "source": [
    "wish_them_a_good_morning()"
   ]
  },
  {
   "cell_type": "markdown",
   "metadata": {},
   "source": [
    "Let's practice!"
   ]
  },
  {
   "cell_type": "code",
   "execution_count": 33,
   "metadata": {},
   "outputs": [
    {
     "name": "stdout",
     "output_type": "stream",
     "text": [
      "1\n",
      "2\n",
      "4\n",
      "8\n"
     ]
    }
   ],
   "source": [
    "def print_divisors(n):\n",
    "    for i in range(1, n+1):\n",
    "        if n % i == 0:\n",
    "            print(i)\n",
    "\n",
    "print_divisors(8)"
   ]
  },
  {
   "cell_type": "code",
   "execution_count": 36,
   "metadata": {},
   "outputs": [
    {
     "name": "stdout",
     "output_type": "stream",
     "text": [
      "HU price:  12.7\n",
      "RO price:  11.9\n"
     ]
    }
   ],
   "source": [
    "def compute_price(price, vat_fun):\n",
    "    return price + vat_fun(price) # `return` lets a function return a value\n",
    "\n",
    "\n",
    "def vat_ro(price):\n",
    "    return 0.19 * price\n",
    "\n",
    "\n",
    "def vat_hu(price):\n",
    "    return 0.27 * price\n",
    "\n",
    "\n",
    "base_price = 10\n",
    "hu_price = compute_price(base_price, vat_hu)\n",
    "ro_price = compute_price(base_price, vat_ro)\n",
    "\n",
    "print(\"HU price: \", hu_price)\n",
    "print(\"RO price: \", ro_price)"
   ]
  },
  {
   "cell_type": "code",
   "execution_count": 42,
   "metadata": {},
   "outputs": [
    {
     "name": "stdout",
     "output_type": "stream",
     "text": [
      "This is case 2\n"
     ]
    }
   ],
   "source": [
    "def case1():\n",
    "    print('This is case 1')\n",
    "\n",
    "def case2():\n",
    "    print('This is case 2')\n",
    "\n",
    "\n",
    "switch = {'a':case1, 'b':case2}\n",
    "\n",
    "x = input()\n",
    "if x in switch:\n",
    "    switch[x]() # notice the function call ()\n",
    "else:\n",
    "    print(\"Default case\")"
   ]
  },
  {
   "cell_type": "code",
   "execution_count": null,
   "metadata": {},
   "outputs": [],
   "source": [
    "# ex. put down the function to call the winner of voting. check it on proposed data\n",
    "\n",
    "anika_votes = int(input(\"Anika's votes\"))  \n",
    "benjamin_votes = int(input(\"Benjamin's votes\"))\n",
    "\n",
    "if anika_votes > benjamin_votes:\n",
    "    print('Anika wins the election!')\n",
    "elif anika_votes == benjamin_votes: \n",
    "    print('Tiebreak')\n",
    "else: \n",
    "    print('Benjamin wins the election!')\n",
    "\n",
    "# rewrite"
   ]
  },
  {
   "cell_type": "markdown",
   "metadata": {},
   "source": [
    "### Generators\n",
    "* to write syntactically correct generator functions  \n",
    "* to write semantically correct generator functions\n",
    "* to identify situations where generators are required  \n",
    "* to use generator functions to increase the efficiency  "
   ]
  },
  {
   "cell_type": "code",
   "execution_count": 11,
   "metadata": {},
   "outputs": [
    {
     "data": {
      "text/plain": [
       "[1, 4, 9, 16, 25]"
      ]
     },
     "execution_count": 11,
     "metadata": {},
     "output_type": "execute_result"
    }
   ],
   "source": [
    "def squares(n):\n",
    "    l = []\n",
    "    for i in range(1, n+1):\n",
    "        l.append(i**2)\n",
    "    return l\n",
    "\n",
    "squares(5)"
   ]
  },
  {
   "cell_type": "code",
   "execution_count": 13,
   "metadata": {},
   "outputs": [
    {
     "name": "stdout",
     "output_type": "stream",
     "text": [
      "1\n",
      "4\n",
      "9\n"
     ]
    }
   ],
   "source": [
    "def g_squares(n):\n",
    "    i = 1\n",
    "    while i <= n:\n",
    "        yield i**2\n",
    "        i+=1\n",
    "\n",
    "\n",
    "g = g_squares(3)\n",
    "print(next(g)) # 1\n",
    "print(next(g)) # 4\n",
    "print(next(g)) # 9"
   ]
  },
  {
   "cell_type": "code",
   "execution_count": 14,
   "metadata": {},
   "outputs": [
    {
     "name": "stdout",
     "output_type": "stream",
     "text": [
      "h\n"
     ]
    }
   ],
   "source": [
    "si = iter(\"hello\") #create an iterator for s\n",
    "print(next(si)) # we can use the next function"
   ]
  },
  {
   "cell_type": "markdown",
   "metadata": {},
   "source": [
    "## Week 7. Files"
   ]
  },
  {
   "cell_type": "markdown",
   "metadata": {},
   "source": [
    "## Week 8. OOP"
   ]
  },
  {
   "cell_type": "markdown",
   "metadata": {},
   "source": [
    "Functional programming is the programming technique that accentuates the functional factors required for creating and implementing the programs. OOP or the Object-Oriented Programs are the conceptual programming techniques that uses objects as the key. The programming model used in functional programming is a declarative programming model, while object-oriented programming uses the imperative programming model. In functional programs, variables and functions are the main elements of the code, while in object-oriented programs, objects and methods are the key elements. ([link](https://www.educba.com/functional-programming-vs-oop/))\n",
    "\n",
    "Declarative programming is a paradigm describing WHAT the program does, without explicitly specifying its control flow.\n",
    "\n",
    "Imperative programming is a paradigm describing HOW the program should do something by explicitly specifying each instruction (or statement) step by step, which mutate the program's state. ([link](https://dev.to/ruizb/declarative-vs-imperative-4a7l#:~:text=Declarative%20programming%20is%20a%20paradigm,which%20mutate%20the%20program's%20state.))"
   ]
  },
  {
   "cell_type": "code",
   "execution_count": null,
   "metadata": {},
   "outputs": [],
   "source": [
    "Интересные данные: \n",
    "* https://airtable.com/shroOenW19l1m3w0H/tblxearKzw8W7ViN8 - "
   ]
  },
  {
   "cell_type": "code",
   "execution_count": 5,
   "metadata": {},
   "outputs": [],
   "source": [
    "hint = 'This task requires a while loop, an if-else statement and a break statement ;-)'"
   ]
  }
 ],
 "metadata": {
  "interpreter": {
   "hash": "db967a82a5395c9886e36287b4fc3d4cdf41cf28b68e7cdaae12bdbf290d326d"
  },
  "kernelspec": {
   "display_name": "Python 3.10.4 64-bit",
   "language": "python",
   "name": "python3"
  },
  "language_info": {
   "codemirror_mode": {
    "name": "ipython",
    "version": 3
   },
   "file_extension": ".py",
   "mimetype": "text/x-python",
   "name": "python",
   "nbconvert_exporter": "python",
   "pygments_lexer": "ipython3",
   "version": "3.10.4"
  },
  "orig_nbformat": 4
 },
 "nbformat": 4,
 "nbformat_minor": 2
}
