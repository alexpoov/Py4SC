{
 "cells": [
  {
   "cell_type": "markdown",
   "metadata": {},
   "source": [
    "# Python for Politics (Social Sciences) taskbook\n"
   ]
  },
  {
   "cell_type": "markdown",
   "metadata": {},
   "source": [
    "Whether you will continue develop yourself in polititcs or reprofile to other speciality - it doesn't matter. As one man said: *'code is power, and learning to code gives you power'*. Today's world has accustomed us to generate more and more personalised data that products and projects all around the world use for personal purposes. The more you understand the possibilities of coding, the more you evaluate the impact of tech on different (even social) areas. That is the exact goal of the course: to introduce the world of coding to you, make it readable and interpreted."
   ]
  },
  {
   "cell_type": "markdown",
   "metadata": {},
   "source": [
    "## Week 1. Basics\n",
    "* .py and .ipynb extensions, code editors and IDEs\n",
    "* operands (variables, types) and (logical) operations\n",
    "* if-else statement"
   ]
  },
  {
   "cell_type": "code",
   "execution_count": 2,
   "metadata": {},
   "outputs": [
    {
     "name": "stdout",
     "output_type": "stream",
     "text": [
      "Benjamin wins the election!\n"
     ]
    }
   ],
   "source": [
    "# ex. Display a congratulations message to a winner of some uninteresting voting. \n",
    "# example input:  \n",
    "# `Anika's votes: 35`  \n",
    "# `Benjamin's votes: 37`\n",
    "# example output:  \n",
    "# `Bob wins the election!`\n",
    "\n",
    "anika_votes = int(input(\"Anika's votes\"))  \n",
    "benjamin_votes = int(input(\"Benjamin's votes\"))\n",
    "\n",
    "if anika_votes > benjamin_votes:\n",
    "    print('Anika wins the election!')\n",
    "elif anika_votes == benjamin_votes: \n",
    "    print('Tiebreak')\n",
    "else: \n",
    "    print('Benjamin wins the election!')"
   ]
  },
  {
   "cell_type": "code",
   "execution_count": 4,
   "metadata": {},
   "outputs": [
    {
     "name": "stdout",
     "output_type": "stream",
     "text": [
      "7 districts voted for Anika\n"
     ]
    }
   ],
   "source": [
    "# ex. calculate full number of voting destricts that have choosen Anika.\n",
    "# example input:\n",
    "# Anika's votes: 54\n",
    "# example output:\n",
    "# '4 districts'\n",
    "\n",
    "print(\n",
    "    str(\n",
    "        int(\n",
    "            input(\"insert number of Anikas votes\")\n",
    "        )//12 \n",
    "    ), \"districts voted for Anika\"\n",
    ")"
   ]
  },
  {
   "cell_type": "markdown",
   "metadata": {},
   "source": [
    "## Week 2. Loops and Sequences"
   ]
  },
  {
   "cell_type": "markdown",
   "metadata": {},
   "source": [
    "### Sequences\n",
    "* to initialise list objects (empty and with initial elements)\n",
    "* to iterate list objects and manipulate the objects contained in a list\n",
    "* to manipulate list objects (list operators, indexing and slice operators, list operations)"
   ]
  },
  {
   "cell_type": "markdown",
   "metadata": {},
   "source": [
    "How to store all the variables we've learnt to operate with them simultaneously? Python lists will help you with this task."
   ]
  },
  {
   "cell_type": "markdown",
   "metadata": {},
   "source": [
    "#### Lists"
   ]
  },
  {
   "cell_type": "markdown",
   "metadata": {},
   "source": [
    "**Lists** are collections of values. They can contain any type of value, even at the same time."
   ]
  },
  {
   "cell_type": "code",
   "execution_count": null,
   "metadata": {},
   "outputs": [
    {
     "name": "stdout",
     "output_type": "stream",
     "text": [
      "[]\n"
     ]
    },
    {
     "data": {
      "text/plain": [
       "list"
      ]
     },
     "metadata": {},
     "output_type": "display_data"
    }
   ],
   "source": [
    "history_of_politics = []\n",
    "print(history_of_politics)\n",
    "type(history_of_politics)"
   ]
  },
  {
   "cell_type": "code",
   "execution_count": null,
   "metadata": {},
   "outputs": [
    {
     "name": "stdout",
     "output_type": "stream",
     "text": [
      "['Ana', 'Bob', 'Charlie', 'Donny']\n"
     ]
    }
   ],
   "source": [
    "history_of_politics.append(\"Ana\")\n",
    "history_of_politics.append(\"Bob\")\n",
    "history_of_politics.append(\"Charlie\")\n",
    "history_of_politics.append(\"Donny\")\n",
    "print(history_of_politics)"
   ]
  },
  {
   "cell_type": "code",
   "execution_count": 65,
   "metadata": {},
   "outputs": [
    {
     "data": {
      "text/plain": [
       "['Ana', 'Bob', 'Charlie', 'Donny']"
      ]
     },
     "execution_count": 65,
     "metadata": {},
     "output_type": "execute_result"
    }
   ],
   "source": [
    "history_of_politics = [\"Ana\", \"Bob\", 'Charlie', 'Donny']\n",
    "history_of_politics"
   ]
  },
  {
   "cell_type": "markdown",
   "metadata": {},
   "source": [
    "Note that rerunning this block will add new 4 instances to your list. To reset it, call `pants = []` again."
   ]
  },
  {
   "cell_type": "code",
   "execution_count": null,
   "metadata": {},
   "outputs": [
    {
     "name": "stdout",
     "output_type": "stream",
     "text": [
      "['Ana', 'Bob', 'Charlie', 'Donny']\n"
     ]
    }
   ],
   "source": [
    "qual_research = history_of_politics\n",
    "print(qual_research)"
   ]
  },
  {
   "cell_type": "code",
   "execution_count": null,
   "metadata": {},
   "outputs": [
    {
     "name": "stdout",
     "output_type": "stream",
     "text": [
      "['Ana', 'Bob', 'Charlie', 'Donny', 'sir Elton']\n"
     ]
    }
   ],
   "source": [
    "qual_research.append(\"sir Elton\")\n",
    "print(qual_research)"
   ]
  },
  {
   "cell_type": "code",
   "execution_count": null,
   "metadata": {},
   "outputs": [
    {
     "name": "stdout",
     "output_type": "stream",
     "text": [
      "['Ana', 'Bob', 'Charlie', 'Donny', 'sir Elton']\n"
     ]
    }
   ],
   "source": [
    "print(history_of_politics)"
   ]
  },
  {
   "cell_type": "markdown",
   "metadata": {},
   "source": [
    "*What happened?*\n",
    "\n",
    "The thing is, Python doesn't create a new object while `a = b`, but creating another one reference (link) to an exissting one. To create a brand new object, list for instance, we need to use `.copy()`"
   ]
  },
  {
   "cell_type": "code",
   "execution_count": null,
   "metadata": {},
   "outputs": [
    {
     "name": "stdout",
     "output_type": "stream",
     "text": [
      "['Ana', 'Bob', 'Charlie', 'Donny', 'sir Elton']\n"
     ]
    }
   ],
   "source": [
    "history_of_politics = []\n",
    "history_of_politics.append(\"Ana\")\n",
    "history_of_politics.append(\"Bob\")\n",
    "history_of_politics.append(\"Charlie\")\n",
    "history_of_politics.append(\"Donny\")\n",
    "\n",
    "qual_research = history_of_politics.copy()\n",
    "qual_research.append(\"sir Elton\")\n",
    "print(qual_research)"
   ]
  },
  {
   "cell_type": "code",
   "execution_count": null,
   "metadata": {},
   "outputs": [
    {
     "name": "stdout",
     "output_type": "stream",
     "text": [
      "['Ana', 'Bob', 'Charlie', 'Donny']\n"
     ]
    }
   ],
   "source": [
    "print(history_of_politics)"
   ]
  },
  {
   "cell_type": "markdown",
   "metadata": {},
   "source": [
    "#### Indexing\n",
    "\n",
    "All objects within our list has no specific name, but we still can call them out with `sqaure brackets`. Note that python indexing starts with 0."
   ]
  },
  {
   "cell_type": "code",
   "execution_count": null,
   "metadata": {},
   "outputs": [
    {
     "data": {
      "text/plain": [
       "4"
      ]
     },
     "metadata": {},
     "output_type": "display_data"
    }
   ],
   "source": [
    "len(history_of_politics)"
   ]
  },
  {
   "cell_type": "code",
   "execution_count": null,
   "metadata": {},
   "outputs": [
    {
     "data": {
      "text/plain": [
       "'Donny'"
      ]
     },
     "metadata": {},
     "output_type": "display_data"
    }
   ],
   "source": [
    "history_of_politics[3] # to call the last element you need len-1 index"
   ]
  },
  {
   "cell_type": "code",
   "execution_count": null,
   "metadata": {},
   "outputs": [
    {
     "data": {
      "text/plain": [
       "'Donny'"
      ]
     },
     "metadata": {},
     "output_type": "display_data"
    }
   ],
   "source": [
    "history_of_politics[-1]"
   ]
  },
  {
   "cell_type": "code",
   "execution_count": null,
   "metadata": {},
   "outputs": [
    {
     "data": {
      "text/plain": [
       "3"
      ]
     },
     "metadata": {},
     "output_type": "display_data"
    }
   ],
   "source": [
    "history_of_politics.index('Donny')"
   ]
  },
  {
   "cell_type": "markdown",
   "metadata": {},
   "source": [
    "By the way, we can call out indexed from other types of data: Say strings:"
   ]
  },
  {
   "cell_type": "code",
   "execution_count": 127,
   "metadata": {},
   "outputs": [
    {
     "data": {
      "text/plain": [
       "str"
      ]
     },
     "execution_count": 127,
     "metadata": {},
     "output_type": "execute_result"
    }
   ],
   "source": [
    "future_greatest_basketball_player = 'Giannis Antetokounmpo'\n",
    "type(future_greatest_basketball_player)\n",
    "# future_greatest_basketball_player[0]\n",
    "# future_greatest_basketball_player[1]\n",
    "# future_greatest_basketball_player[-1]\n",
    "# future_greatest_basketball_player[7]"
   ]
  },
  {
   "cell_type": "markdown",
   "metadata": {},
   "source": [
    "But not for numbers."
   ]
  },
  {
   "cell_type": "code",
   "execution_count": 130,
   "metadata": {},
   "outputs": [
    {
     "data": {
      "text/plain": [
       "float"
      ]
     },
     "execution_count": 130,
     "metadata": {},
     "output_type": "execute_result"
    }
   ],
   "source": [
    "numer1 = 3\n",
    "numer2 = 3.1415926\n",
    "\n",
    "type(numer1)\n",
    "type(numer2)\n",
    "\n",
    "# numer1[0]\n",
    "# numer2[0]"
   ]
  },
  {
   "cell_type": "markdown",
   "metadata": {},
   "source": [
    "*Slicing*"
   ]
  },
  {
   "cell_type": "markdown",
   "metadata": {},
   "source": [
    "We can use a `column` to create a range of indexes (read it like \"from ... to ...\"). Note that the second index is not included in the range (in math notation: `[1;4)`).\n",
    "\n",
    "You can also use second column to define the step. For example:\n",
    "`imaginary_list[2:20:4]`  \n",
    "will take each 4th element from the 3rd (start including) to the 20th (21st is not included) positions of imaginary list."
   ]
  },
  {
   "cell_type": "code",
   "execution_count": null,
   "metadata": {},
   "outputs": [
    {
     "data": {
      "text/plain": [
       "['Bob', 'Charlie', 'Donny']"
      ]
     },
     "metadata": {},
     "output_type": "display_data"
    }
   ],
   "source": [
    "qual_research[1:4]"
   ]
  },
  {
   "cell_type": "code",
   "execution_count": null,
   "metadata": {},
   "outputs": [
    {
     "data": {
      "text/plain": [
       "['Bob', 'Donny']"
      ]
     },
     "metadata": {},
     "output_type": "display_data"
    }
   ],
   "source": [
    "qual_research[1::2] # each even element of the list"
   ]
  },
  {
   "cell_type": "markdown",
   "metadata": {},
   "source": [
    "#### Operations\n",
    "\n",
    "They could kinda mathematical and methodical ones."
   ]
  },
  {
   "cell_type": "code",
   "execution_count": null,
   "metadata": {},
   "outputs": [
    {
     "name": "stdout",
     "output_type": "stream",
     "text": [
      "['Ana', 'Bob', 'Charlie', 'Donny', 'Ana', 'Bob', 'Charlie', 'Donny', 'sir Elton']\n"
     ]
    }
   ],
   "source": [
    "print(history_of_politics+qual_research)"
   ]
  },
  {
   "cell_type": "code",
   "execution_count": null,
   "metadata": {},
   "outputs": [
    {
     "name": "stdout",
     "output_type": "stream",
     "text": [
      "['Ana', 'Bob', 'Charlie', 'Donny', 'Ana', 'Bob', 'Charlie', 'Donny', 'Ana', 'Bob', 'Charlie', 'Donny']\n"
     ]
    }
   ],
   "source": [
    "print(history_of_politics*3)"
   ]
  },
  {
   "cell_type": "code",
   "execution_count": null,
   "metadata": {},
   "outputs": [
    {
     "data": {
      "text/plain": [
       "['Ana', 'Charlie', 'Donny']"
      ]
     },
     "metadata": {},
     "output_type": "display_data"
    }
   ],
   "source": [
    "history_of_politics.remove('Bob') # removing first match\n",
    "history_of_politics"
   ]
  },
  {
   "cell_type": "code",
   "execution_count": null,
   "metadata": {},
   "outputs": [
    {
     "data": {
      "text/plain": [
       "1"
      ]
     },
     "metadata": {},
     "output_type": "display_data"
    }
   ],
   "source": [
    "history_of_politics.count('Ana') # counting occurences"
   ]
  },
  {
   "cell_type": "code",
   "execution_count": null,
   "metadata": {},
   "outputs": [
    {
     "name": "stdout",
     "output_type": "stream",
     "text": [
      "[1, 4, 9, 16, 25, 36, 49, 64, 81, 100] [1, 4, 9, 16, 25, 36, 49, 64, 81, 100]\n"
     ]
    }
   ],
   "source": [
    "somelist1 = []\n",
    "for i in range(1, 11):\n",
    "    somelist1.append(i*i)\n",
    "\n",
    "somelist2 = [i*i for i in range(1, 11)]\n",
    "\n",
    "print(somelist1, somelist2)"
   ]
  },
  {
   "cell_type": "markdown",
   "metadata": {},
   "source": [
    "### Loops\n",
    "* to write syntactically correct loop instructions (while, for)\n",
    "* to identify that a problem requires one or more loops\n",
    "* to use loops in order to implement the solution for a problem"
   ]
  },
  {
   "cell_type": "markdown",
   "metadata": {},
   "source": [
    "#### While"
   ]
  },
  {
   "cell_type": "markdown",
   "metadata": {},
   "source": [
    "With the **`while` loop** we can execute a set of statements as long as a condition is true."
   ]
  },
  {
   "cell_type": "code",
   "execution_count": 86,
   "metadata": {},
   "outputs": [
    {
     "name": "stdout",
     "output_type": "stream",
     "text": [
      "1\n",
      "2\n",
      "3\n",
      "4\n",
      "5\n"
     ]
    }
   ],
   "source": [
    "import time # just to make 1s delay\n",
    "\n",
    "i = 1\n",
    "while i < 6:\n",
    "  print(i)\n",
    "  i += 1 \n",
    "  time.sleep(1) # just to make 1s delay"
   ]
  },
  {
   "cell_type": "markdown",
   "metadata": {},
   "source": [
    "**DANGER!** "
   ]
  },
  {
   "cell_type": "code",
   "execution_count": 87,
   "metadata": {},
   "outputs": [
    {
     "name": "stdout",
     "output_type": "stream",
     "text": [
      "1\n",
      "1\n",
      "1\n",
      "1\n",
      "1\n",
      "1\n",
      "1\n",
      "1\n",
      "1\n",
      "1\n",
      "1\n",
      "1\n",
      "1\n"
     ]
    },
    {
     "ename": "KeyboardInterrupt",
     "evalue": "",
     "output_type": "error",
     "traceback": [
      "\u001b[1;31m---------------------------------------------------------------------------\u001b[0m",
      "\u001b[1;31mKeyboardInterrupt\u001b[0m                         Traceback (most recent call last)",
      "\u001b[1;32mc:\\Users\\popov\\Documents\\py_dir\\HSE_py\\Py4SC\\Py4SC\\politics.ipynb Ячейка 41\u001b[0m in \u001b[0;36m<cell line: 4>\u001b[1;34m()\u001b[0m\n\u001b[0;32m      <a href='vscode-notebook-cell:/c%3A/Users/popov/Documents/py_dir/HSE_py/Py4SC/Py4SC/politics.ipynb#ch0000096?line=4'>5</a>\u001b[0m   \u001b[39mprint\u001b[39m(i)\n\u001b[0;32m      <a href='vscode-notebook-cell:/c%3A/Users/popov/Documents/py_dir/HSE_py/Py4SC/Py4SC/politics.ipynb#ch0000096?line=5'>6</a>\u001b[0m \u001b[39m#   i += 1 \u001b[39;00m\n\u001b[1;32m----> <a href='vscode-notebook-cell:/c%3A/Users/popov/Documents/py_dir/HSE_py/Py4SC/Py4SC/politics.ipynb#ch0000096?line=6'>7</a>\u001b[0m   time\u001b[39m.\u001b[39;49msleep(\u001b[39m1\u001b[39;49m)\n",
      "\u001b[1;31mKeyboardInterrupt\u001b[0m: "
     ]
    }
   ],
   "source": [
    "# import time # just to make 1s delay\n",
    "\n",
    "# i = 1\n",
    "# while i < 6:\n",
    "#   print(i)\n",
    "# #   i += 1 \n",
    "#   time.sleep(1) # just to make 1s delay"
   ]
  },
  {
   "cell_type": "markdown",
   "metadata": {},
   "source": [
    "Always check your loop to be non-infinite before you run it! Glad we had undemanding calculations here: if your loop will overload PC's RAM, it could be hard to stop it."
   ]
  },
  {
   "cell_type": "code",
   "execution_count": 1,
   "metadata": {},
   "outputs": [
    {
     "name": "stdout",
     "output_type": "stream",
     "text": [
      "Incorrect\n"
     ]
    }
   ],
   "source": [
    "# ex. Count number of digits to prove the correctness of ID num.\n",
    "\n",
    "# example input: \n",
    "# 7800123456\n",
    "# example output; \n",
    "# 'correct'\n",
    "\n",
    "num = int(input(\"Enter your ID num\"))\n",
    "count = 0\n",
    "while num != 0:\n",
    "    num = num // 10\n",
    "    count = count + 1\n",
    "print(\"Correct\") if count == 10 else print(\"Incorrect\")"
   ]
  },
  {
   "cell_type": "markdown",
   "metadata": {},
   "source": [
    "#### For & range"
   ]
  },
  {
   "cell_type": "code",
   "execution_count": 75,
   "metadata": {},
   "outputs": [
    {
     "name": "stdout",
     "output_type": "stream",
     "text": [
      "Ana - 1\n",
      "Bob - 2\n",
      "Charlie - 1\n",
      "Donny - 2\n"
     ]
    }
   ],
   "source": [
    "# ex. count students on the first-second\n",
    "history_of_politics = [\"Ana\", \"Bob\", 'Charlie', 'Donny']\n",
    "i = 1\n",
    "\n",
    "for name in history_of_politics:\n",
    "    print(name, i, sep=\" - \")\n",
    "    if i==1:\n",
    "        i+=1\n",
    "    else: \n",
    "        i-=1"
   ]
  },
  {
   "cell_type": "code",
   "execution_count": 84,
   "metadata": {},
   "outputs": [
    {
     "name": "stdout",
     "output_type": "stream",
     "text": [
      "1\n",
      "2\n",
      "4\n",
      "8\n",
      "16\n",
      "32\n",
      "64\n",
      "128\n",
      "256\n",
      "512\n"
     ]
    }
   ],
   "source": [
    "for i in range(0,10):\n",
    "    print(2**i)"
   ]
  },
  {
   "cell_type": "code",
   "execution_count": 83,
   "metadata": {},
   "outputs": [
    {
     "data": {
      "text/plain": [
       "['Ana Coleman', 'Bob Howell', 'Charlie Dominguez', 'Donny Mcgee']"
      ]
     },
     "execution_count": 83,
     "metadata": {},
     "output_type": "execute_result"
    }
   ],
   "source": [
    "# ex. add lastnames to firstnames\n",
    "history_of_politics_surnames = [\"Coleman\", \"Howell\", 'Dominguez', 'Mcgee']\n",
    "history_of_politics_full = []\n",
    "\n",
    "if len(history_of_politics_surnames)==len(history_of_politics):\n",
    "    for i in range(0, len(history_of_politics)):\n",
    "        history_of_politics_full.append(history_of_politics[i] + ' ' + history_of_politics_surnames[i])\n",
    "        i+=1\n",
    "\n",
    "history_of_politics_full\n"
   ]
  },
  {
   "cell_type": "markdown",
   "metadata": {},
   "source": [
    "#### Loop contol: break, continue"
   ]
  },
  {
   "cell_type": "markdown",
   "metadata": {},
   "source": [
    "With the `break` statement we can stop the loop even if the while condition is true:\n",
    "\n"
   ]
  },
  {
   "cell_type": "code",
   "execution_count": 88,
   "metadata": {},
   "outputs": [
    {
     "name": "stdout",
     "output_type": "stream",
     "text": [
      "1\n",
      "2\n",
      "3\n"
     ]
    }
   ],
   "source": [
    "i = 1\n",
    "while i < 6:\n",
    "  print(i)\n",
    "  if i == 3:\n",
    "    break\n",
    "  i += 1"
   ]
  },
  {
   "cell_type": "markdown",
   "metadata": {},
   "source": [
    "`Continue` statement is used to end the current iteration in a for loop (or a while loop), and continues to the next iteration."
   ]
  },
  {
   "cell_type": "code",
   "execution_count": 132,
   "metadata": {},
   "outputs": [
    {
     "name": "stdout",
     "output_type": "stream",
     "text": [
      "0\n",
      "1\n",
      "2\n",
      "4\n"
     ]
    }
   ],
   "source": [
    "for i in range(5):\n",
    "  if i == 3:\n",
    "    continue\n",
    "  print(i)"
   ]
  },
  {
   "cell_type": "code",
   "execution_count": 4,
   "metadata": {},
   "outputs": [
    {
     "name": "stdout",
     "output_type": "stream",
     "text": [
      "Enter the city that begins with the last letter of previous one. Enter \"quit\" when you are finished.\n",
      "Let me start: amsterdam. Go with m\n",
      "moscow\n",
      "Now starting with w\n",
      "w\n",
      "Now starting with w\n",
      "warszaw\n",
      "Now starting with w\n",
      "Wrong city! Try another one.\n",
      "workuta\n",
      "Now starting with a\n",
      "anapa\n",
      "Now starting with a\n",
      "aphines\n",
      "Now starting with s\n",
      "st petersburg\n",
      "Now starting with g\n",
      "Wrong city! Try another one.\n"
     ]
    },
    {
     "ename": "IndexError",
     "evalue": "string index out of range",
     "output_type": "error",
     "traceback": [
      "\u001b[1;31m---------------------------------------------------------------------------\u001b[0m",
      "\u001b[1;31mIndexError\u001b[0m                                Traceback (most recent call last)",
      "\u001b[1;32mc:\\Users\\popov\\Documents\\py_dir\\HSE_py\\Py4SC\\Py4SC\\politics.ipynb Ячейка 57\u001b[0m in \u001b[0;36m<cell line: 12>\u001b[1;34m()\u001b[0m\n\u001b[0;32m     <a href='vscode-notebook-cell:/c%3A/Users/popov/Documents/py_dir/HSE_py/Py4SC/Py4SC/politics.ipynb#ch0000102?line=15'>16</a>\u001b[0m     \u001b[39mprint\u001b[39m(\u001b[39m'\u001b[39m\u001b[39mGame Over. See you next time!\u001b[39m\u001b[39m'\u001b[39m)\n\u001b[0;32m     <a href='vscode-notebook-cell:/c%3A/Users/popov/Documents/py_dir/HSE_py/Py4SC/Py4SC/politics.ipynb#ch0000102?line=16'>17</a>\u001b[0m     \u001b[39mbreak\u001b[39;00m\n\u001b[1;32m---> <a href='vscode-notebook-cell:/c%3A/Users/popov/Documents/py_dir/HSE_py/Py4SC/Py4SC/politics.ipynb#ch0000102?line=18'>19</a>\u001b[0m \u001b[39melif\u001b[39;00m city[\u001b[39m0\u001b[39;49m]\u001b[39m!=\u001b[39mlast_city[\u001b[39m-\u001b[39m\u001b[39m1\u001b[39m]:\n\u001b[0;32m     <a href='vscode-notebook-cell:/c%3A/Users/popov/Documents/py_dir/HSE_py/Py4SC/Py4SC/politics.ipynb#ch0000102?line=19'>20</a>\u001b[0m     \u001b[39mprint\u001b[39m(\u001b[39m'\u001b[39m\u001b[39mWrong city! Try another one.\u001b[39m\u001b[39m'\u001b[39m)\n\u001b[0;32m     <a href='vscode-notebook-cell:/c%3A/Users/popov/Documents/py_dir/HSE_py/Py4SC/Py4SC/politics.ipynb#ch0000102?line=21'>22</a>\u001b[0m \u001b[39melse\u001b[39;00m:\n",
      "\u001b[1;31mIndexError\u001b[0m: string index out of range"
     ]
    }
   ],
   "source": [
    "# ex. a City-chain game\n",
    "\n",
    "# write a code to a city-chain game (города). it should take inputs from user and check \n",
    "# wether the first letter of the proposed city is equals to the last letter of previous city.capitalize\n",
    "# If user prints \"quit\" - the game stops.\n",
    "\n",
    "# print(hint) if you need help\n",
    "\n",
    "print('Enter the city that begins with the last letter of previous one. Enter \"quit\" when you are finished.')\n",
    "print('Let me start: amsterdam. Go with m')\n",
    "last_city = 'amsterdam'\n",
    "\n",
    "while True: # while one not in (\"q\",\"quit\"):\n",
    "    city = input().lower()\n",
    "\n",
    "    if city == 'quit':\n",
    "        print('Game Over. See you next time!')\n",
    "        break\n",
    "\n",
    "    elif city[0]!=last_city[-1]:\n",
    "        print(city)\n",
    "        print('Wrong city! Try another one.')\n",
    "\n",
    "    else:\n",
    "        print(city)\n",
    "        last_city = city\n",
    "        print(\"Now starting with\", city[-1])\n",
    "\n"
   ]
  },
  {
   "cell_type": "markdown",
   "metadata": {},
   "source": [
    "## Week 3. More Data Structures\n",
    "* Lists, indexes and slices\n",
    "* Dictionaties and keys\n",
    "* Nested structures\n"
   ]
  },
  {
   "cell_type": "code",
   "execution_count": 9,
   "metadata": {},
   "outputs": [
    {
     "name": "stdout",
     "output_type": "stream",
     "text": [
      "Ben won the election: {'Ani': 7, 'Ben': 4}\n"
     ]
    }
   ],
   "source": [
    "# ex. For given set of votes calculate the winner (Anika's votes stand by 0, Benjamins - by 1)\n",
    "voting = [\"Ani\", \"Ben\", \"Ani\", \"Ani\", \"Ben\", \"Ani\", \"Ani\", \"Ben\", \"Ani\", \"Ben\", \"Ani\"]\n",
    "result = {}\n",
    "for vote in voting:\n",
    "    if not vote in result:\n",
    "        result[vote] = 1\n",
    "    else:\n",
    "        result[vote] +=1\n",
    "print(max(result), \"won the election:\", result)"
   ]
  },
  {
   "cell_type": "code",
   "execution_count": null,
   "metadata": {},
   "outputs": [],
   "source": [
    "# ex. Calculate the most problematic region according to following dict of submitted issues:\n",
    "issues = {'Roads': [1,6,7], \"Pollution\": [2,3,4,6], \"Lighting\": [1,2,7]}"
   ]
  },
  {
   "cell_type": "markdown",
   "metadata": {},
   "source": [
    "## Week 4. Strings and Regular Expressions  \n",
    "* Methods and formatting of strings  \n",
    "* RegExp"
   ]
  },
  {
   "cell_type": "code",
   "execution_count": 13,
   "metadata": {},
   "outputs": [
    {
     "name": "stdout",
     "output_type": "stream",
     "text": [
      "False\n"
     ]
    }
   ],
   "source": [
    "# ex. Check the correctness of driving numbers using RexExp only.\n",
    "# Correct example: O659BP98 (eng letters)\n",
    "import re\n",
    "match = re.search(r'^[АВЕКМНОРСТУХ]\\d{3}[АВЕКМНОРСТУХ]{2}\\d{2,3}', \"О659ВР98\")\n",
    "if match:\n",
    "    print(\"Correct\")\n",
    "else:\n",
    "    print(\"Incorrect\")\n"
   ]
  },
  {
   "cell_type": "markdown",
   "metadata": {},
   "source": [
    "## Week 7. Files"
   ]
  },
  {
   "cell_type": "code",
   "execution_count": null,
   "metadata": {},
   "outputs": [],
   "source": [
    "Интересные данные: \n",
    "* https://airtable.com/shroOenW19l1m3w0H/tblxearKzw8W7ViN8 - "
   ]
  },
  {
   "cell_type": "code",
   "execution_count": 5,
   "metadata": {},
   "outputs": [],
   "source": [
    "hint = 'This task requires a while loop, an if-else statement and a break statement ;-)'"
   ]
  }
 ],
 "metadata": {
  "interpreter": {
   "hash": "db967a82a5395c9886e36287b4fc3d4cdf41cf28b68e7cdaae12bdbf290d326d"
  },
  "kernelspec": {
   "display_name": "Python 3.10.4 64-bit",
   "language": "python",
   "name": "python3"
  },
  "language_info": {
   "codemirror_mode": {
    "name": "ipython",
    "version": 3
   },
   "file_extension": ".py",
   "mimetype": "text/x-python",
   "name": "python",
   "nbconvert_exporter": "python",
   "pygments_lexer": "ipython3",
   "version": "3.10.4"
  },
  "orig_nbformat": 4
 },
 "nbformat": 4,
 "nbformat_minor": 2
}
